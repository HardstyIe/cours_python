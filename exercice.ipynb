{
 "cells": [
  {
   "cell_type": "markdown",
   "id": "c5ab80b1",
   "metadata": {},
   "source": [
    "Exo 1: Écrire un programme qui vérifie si un nombre donné est supérieur à 10."
   ]
  },
  {
   "cell_type": "code",
   "execution_count": 3,
   "id": "01d5265c",
   "metadata": {},
   "outputs": [],
   "source": [
    "a = 10\n",
    "\n",
    "if a > 10 : \n",
    "    print(\"le nombre est supérieur a 10\")"
   ]
  },
  {
   "cell_type": "markdown",
   "id": "ccb74ec1",
   "metadata": {},
   "source": [
    "Exo 2: Vérifier si un nombre donné est positif, négatif ou nul."
   ]
  },
  {
   "cell_type": "code",
   "execution_count": 6,
   "id": "f4a93974",
   "metadata": {},
   "outputs": [
    {
     "name": "stdout",
     "output_type": "stream",
     "text": [
      "ce nombre est positif\n"
     ]
    }
   ],
   "source": [
    "a = 10\n",
    "\n",
    "if a < 0 :\n",
    "    print(\"ce nombre est négatif\")\n",
    "elif a == 0 :\n",
    "    print(\"ce nombre est nul\")\n",
    "elif a > 0 :\n",
    "    print(\"ce nombre est positif\")"
   ]
  },
  {
   "cell_type": "markdown",
   "id": "8545dfbf",
   "metadata": {},
   "source": [
    "Exo 3: Créer un programme qui affiche \"Vous êtes mineur\" si l’âge est inférieur à 18."
   ]
  },
  {
   "cell_type": "code",
   "execution_count": null,
   "id": "7c614da5",
   "metadata": {},
   "outputs": [
    {
     "name": "stdout",
     "output_type": "stream",
     "text": [
      "vous étes mineur\n"
     ]
    }
   ],
   "source": [
    "age = 17\n",
    "\n",
    "if age < 18 :\n",
    "    print(\"vous êtes mineur\")"
   ]
  },
  {
   "cell_type": "markdown",
   "id": "b82b6da7",
   "metadata": {},
   "source": [
    "Exo 4: Écrire un programme qui vérifie si une chaîne de caractères est vide ou non."
   ]
  },
  {
   "cell_type": "code",
   "execution_count": null,
   "id": "e49c1ad8",
   "metadata": {},
   "outputs": [
    {
     "name": "stdout",
     "output_type": "stream",
     "text": [
      "la chaine de characteres est rempli\n"
     ]
    }
   ],
   "source": [
    "chaine_charactere_vide = \"\"\n",
    "\n",
    "if chaine_charactere_vide : \n",
    "    print(\"la chaine de characteres est rempli\")\n",
    "else:\n",
    "    print(\"la chaine de characteres est vide\")"
   ]
  },
  {
   "cell_type": "markdown",
   "id": "251b3fcd",
   "metadata": {},
   "source": [
    "Exo 5: Vérifier si un nombre est pair ou impair."
   ]
  },
  {
   "cell_type": "code",
   "execution_count": 21,
   "id": "f94e05e6",
   "metadata": {},
   "outputs": [
    {
     "name": "stdout",
     "output_type": "stream",
     "text": [
      "le nombre est impair\n"
     ]
    }
   ],
   "source": [
    "a = 155\n",
    "\n",
    "if a % 2 == 0:\n",
    "    print(\"le nombre est pair\")\n",
    "else:\n",
    "    print(\"le nombre est impair\")\n"
   ]
  },
  {
   "cell_type": "markdown",
   "id": "0c757500",
   "metadata": {},
   "source": [
    "Exo 6: Écrire un programme qui compare deux nombres et affiche le plus grand.\n"
   ]
  },
  {
   "cell_type": "code",
   "execution_count": 25,
   "id": "500ccb93",
   "metadata": {},
   "outputs": [
    {
     "name": "stdout",
     "output_type": "stream",
     "text": [
      "tu utilise les meme nombres\n"
     ]
    }
   ],
   "source": [
    "a = 5\n",
    "b = 5\n",
    "\n",
    "if a < b :\n",
    "    print(f\"b: {b} est le nombre le plus grand\")\n",
    "elif a > b:\n",
    "    print(f\"a: {a} est le nombre le plus grand\")\n",
    "else :\n",
    "    print(\"tu utilise les meme nombres\")\n"
   ]
  },
  {
   "cell_type": "markdown",
   "id": "e3c43c28",
   "metadata": {},
   "source": [
    "Exo 7: Vérifier si un nombre est divisible par 3 ou par 5."
   ]
  },
  {
   "cell_type": "code",
   "execution_count": 41,
   "id": "92c89170",
   "metadata": {},
   "outputs": [
    {
     "name": "stdout",
     "output_type": "stream",
     "text": [
      "5 est divisible par 5\n"
     ]
    }
   ],
   "source": [
    "a = 5\n",
    "\n",
    "if a % 5 ==0 and a % 3 == 0:\n",
    "    print(f\"{a} est divislbe par 3 et par 5\")\n",
    "elif a % 3 == 0 :\n",
    "    print(f\"{a} est divisible par 3\")\n",
    "elif a % 5 == 0 :\n",
    "    print(f\"{a} est divisible par 5\")"
   ]
  },
  {
   "cell_type": "markdown",
   "id": "89eb87b9",
   "metadata": {},
   "source": [
    "Exo 8: Demander à l'utilisateur un mot de passe et vérifier s'il correspond à \"admin\"."
   ]
  },
  {
   "cell_type": "code",
   "execution_count": 43,
   "id": "56e8d7a9",
   "metadata": {},
   "outputs": [
    {
     "name": "stdout",
     "output_type": "stream",
     "text": [
      "le mot de passe ne correspond pas\n"
     ]
    }
   ],
   "source": [
    "admin = \"admin\"\n",
    "input_utilisateur = input(\"Veuillez saisir un mot de passe\")\n",
    "\n",
    "if input_utilisateur == admin:\n",
    "    print(\"le mot de passe correspond\")\n",
    "else :\n",
    "    print(\"le mot de passe ne correspond pas\")"
   ]
  },
  {
   "cell_type": "markdown",
   "id": "30764dbe",
   "metadata": {},
   "source": [
    "Exo 9: Créer un programme qui vérifie si une lettre est une voyelle ou une consonne."
   ]
  },
  {
   "cell_type": "code",
   "execution_count": 59,
   "id": "b010b408",
   "metadata": {},
   "outputs": [
    {
     "name": "stdout",
     "output_type": "stream",
     "text": [
      "la lettre est une voyelle\n"
     ]
    }
   ],
   "source": [
    "lettre = \"a\"\n",
    "\n",
    "voyelle = [\"a\",\"e\",\"i\",\"o\",\"u\",\"y\"]\n",
    "\n",
    "if lettre in voyelle :\n",
    "    print(\"la lettre est une voyelle\")\n",
    "elif lettre not in voyelle:\n",
    "    print(\"la lettre est une consonne\")"
   ]
  },
  {
   "cell_type": "markdown",
   "id": "2a8d0362",
   "metadata": {},
   "source": [
    "Exo 10: Vérifier si une liste est vide ou non."
   ]
  },
  {
   "cell_type": "code",
   "execution_count": 69,
   "id": "ba14a2a5",
   "metadata": {},
   "outputs": [
    {
     "name": "stdout",
     "output_type": "stream",
     "text": [
      "la liste est vide\n"
     ]
    }
   ],
   "source": [
    "liste = []\n",
    "\n",
    "if liste :\n",
    "    print(\"la liste contient des informations\")\n",
    "else:\n",
    "    print(\"la liste est vide\")"
   ]
  },
  {
   "cell_type": "markdown",
   "id": "5f0d679d",
   "metadata": {},
   "source": [
    "Exo 11: Écrire un programme qui vérifie si un nombre est compris entre 10 et 20."
   ]
  },
  {
   "cell_type": "code",
   "execution_count": 74,
   "id": "875fc083",
   "metadata": {},
   "outputs": [
    {
     "name": "stdout",
     "output_type": "stream",
     "text": [
      "20 est compris entre 10 et 20\n"
     ]
    }
   ],
   "source": [
    "a = 20\n",
    "\n",
    "if a < 10 or a > 20:\n",
    "    print(f\"{a} n'est pas compris entre 10 et 20\")\n",
    "elif a >= 10 and a <= 20:\n",
    "    print(f\"{a} est compris entre 10 et 20\")"
   ]
  },
  {
   "cell_type": "markdown",
   "id": "9e36e0e4",
   "metadata": {},
   "source": [
    "Exo 12: Demander à l'utilisateur un âge et afficher s'il est un enfant (moins de 12 ans), un adolescent (entre 12 et 18 ans) ou un adulte (plus de 18 ans).\n"
   ]
  },
  {
   "cell_type": "code",
   "execution_count": 82,
   "id": "f197fa86",
   "metadata": {},
   "outputs": [
    {
     "name": "stdout",
     "output_type": "stream",
     "text": [
      "tu as 19ans, tu est donc un adulte\n"
     ]
    }
   ],
   "source": [
    "age_utilisateur = input(\"Veuillez rentrée votre age\")\n",
    "age_utilisateur_int = int(age_utilisateur)\n",
    "\n",
    "if age_utilisateur_int < 12 :\n",
    "    print(f\"tu as {age_utilisateur_int}ans, tu est donc un enfant\")\n",
    "elif age_utilisateur_int >= 12 and age_utilisateur_int < 18 :\n",
    "    print(f\"tu as {age_utilisateur_int}ans, tu est donc un adolescent\")\n",
    "elif age_utilisateur_int >= 18 :\n",
    "    print(f\"tu as {age_utilisateur_int}ans, tu est donc un adulte\")"
   ]
  },
  {
   "cell_type": "markdown",
   "id": "285b13e4",
   "metadata": {},
   "source": [
    "Exo 13: Créer un programme qui vérifie si une année est bissextile ou non."
   ]
  },
  {
   "cell_type": "code",
   "execution_count": 120,
   "id": "a64ad7d1",
   "metadata": {},
   "outputs": [
    {
     "name": "stdout",
     "output_type": "stream",
     "text": [
      "2400 est une année bissextiles\n"
     ]
    }
   ],
   "source": [
    "year = 2400\n",
    "\n",
    "\n",
    "if year % 4 == 0 and year % 100 != 0 or year % 400 == 0:\n",
    "    print(f\"{year} est une année bissextiles\")\n",
    "else:\n",
    "    print(f\"{year} n'est pas une année bissextiles\")"
   ]
  },
  {
   "cell_type": "markdown",
   "id": "479ee636",
   "metadata": {},
   "source": [
    "Exo 14: Vérifier si un nombre est positif et multiple de 5"
   ]
  },
  {
   "cell_type": "code",
   "execution_count": 127,
   "id": "4985d6cf",
   "metadata": {},
   "outputs": [
    {
     "name": "stdout",
     "output_type": "stream",
     "text": [
      "5 est un multiple de 5\n"
     ]
    }
   ],
   "source": [
    "a = 5\n",
    "\n",
    "if a > 0:\n",
    "    if a % 5 == 0:\n",
    "        print(f\"{a} est un multiple de 5\")\n",
    "    else:\n",
    "        print(f\"{a} n'est pas un multiple de 5\")\n",
    "else: \n",
    "    print(f\"le nombre {a} n'est pas positif\")"
   ]
  },
  {
   "cell_type": "markdown",
   "id": "545d9c69",
   "metadata": {},
   "source": [
    "Exo 15: Écrire un programme qui vérifie si une chaîne de caractères contient la lettre 'a'."
   ]
  },
  {
   "cell_type": "code",
   "execution_count": 130,
   "id": "ca2be8e7",
   "metadata": {},
   "outputs": [
    {
     "name": "stdout",
     "output_type": "stream",
     "text": [
      "la lettre \"a\" n'est pas présente dans la liste\n"
     ]
    }
   ],
   "source": [
    "liste_charactere = \"bcdef\"\n",
    "\n",
    "if \"a\" in liste_charactere :\n",
    "    print(\"la lettre \\\"a\\\" est présente dans la liste \")\n",
    "else:\n",
    "    print(\"la lettre \\\"a\\\" n'est pas présente dans la liste\")"
   ]
  },
  {
   "cell_type": "markdown",
   "id": "fbdb8c96",
   "metadata": {},
   "source": [
    "Exo 16: Vérifier si un nombre est divisible à la fois par 2 et par 3, mais pas par 9."
   ]
  },
  {
   "cell_type": "code",
   "execution_count": 135,
   "id": "868f4446",
   "metadata": {},
   "outputs": [
    {
     "name": "stdout",
     "output_type": "stream",
     "text": [
      "ce chiffre est divisable par 9\n"
     ]
    }
   ],
   "source": [
    "a = 18\n",
    "\n",
    "if a % 2 == 0 and a % 3 == 0 and a % 9 != 0:\n",
    "    print(\"ce chiffre est divisable par 2 et 3 mais pas par 9\") \n",
    "elif a % 9 == 0:\n",
    "    print(\"ce chiffre est divisable par 9\")"
   ]
  },
  {
   "cell_type": "markdown",
   "id": "6baff572",
   "metadata": {},
   "source": [
    "Exo 17: Demander à l'utilisateur un nom d'utilisateur et un mot de passe, et vérifier si les deux sont corrects."
   ]
  },
  {
   "cell_type": "code",
   "execution_count": null,
   "id": "ba120735",
   "metadata": {},
   "outputs": [
    {
     "name": "stdout",
     "output_type": "stream",
     "text": [
      "une des informations n'est pas correspondantes\n"
     ]
    }
   ],
   "source": [
    "nom_utilisateur = input(\"Quel est ton nom utilisateur\")\n",
    "mot_de_passe = input(\"Quel est ton mot de passe ?\")\n",
    "\n",
    "if nom_utilisateur == \"test\" and mot_de_passe == \"test\" :\n",
    "    print(\"le nom d'utilisateur et mot de passe correspondent\")\n",
    "else:\n",
    "    print(\"les informations ne sont pas correspondantes\")"
   ]
  },
  {
   "cell_type": "markdown",
   "id": "82a1d2df",
   "metadata": {},
   "source": [
    "Exo 18: Écrire un programme qui affiche \"Excellent\" si la note est supérieure à 85, \"Bien\" si elle est entre 70 et 85, sinon afficher \"Peut mieux faire\".\n"
   ]
  },
  {
   "cell_type": "code",
   "execution_count": 143,
   "id": "34672abe",
   "metadata": {},
   "outputs": [
    {
     "name": "stdout",
     "output_type": "stream",
     "text": [
      "Peut mieux faire\n"
     ]
    }
   ],
   "source": [
    "note = 68\n",
    "\n",
    "if note > 85:\n",
    "    print(\"Excellente note!\")\n",
    "elif note >= 70 and note <= 85:\n",
    "    print(\"Bien\")\n",
    "else:\n",
    "    print(\"Peut mieux faire\")"
   ]
  },
  {
   "cell_type": "markdown",
   "id": "a9b3d42a",
   "metadata": {},
   "source": [
    "Exo 19: Créer un programme qui vérifie si une chaîne de caractères est un palindrome."
   ]
  },
  {
   "cell_type": "code",
   "execution_count": null,
   "id": "2103e384",
   "metadata": {},
   "outputs": [
    {
     "name": "stdout",
     "output_type": "stream",
     "text": [
      "kayak est le palindrome de kayak\n"
     ]
    }
   ],
   "source": [
    "palindrome = \"kayak\"\n",
    "\n",
    "if palindrome == palindrome[::-1] :\n",
    "    print(f\"{palindrome} est le palindrome de {palindrome[::-1]}\")\n",
    "else: \n",
    "    print(f\"{palindrome} n'a pas de palindrome\")\n"
   ]
  },
  {
   "cell_type": "markdown",
   "id": "26677a0c",
   "metadata": {},
   "source": [
    "Exo 20: Écrire un programme qui vérifie si un nombre est à la fois positif, pair et supérieur à 100.\n"
   ]
  },
  {
   "cell_type": "code",
   "execution_count": 14,
   "id": "52d0b4f6",
   "metadata": {},
   "outputs": [
    {
     "name": "stdout",
     "output_type": "stream",
     "text": [
      "101 est un nombre positif\n",
      "101 est supérieur a 100\n",
      "101 est un nombre impair\n"
     ]
    }
   ],
   "source": [
    "a = 101\n",
    "\n",
    "if a > 0 :\n",
    "    print(f\"{a} est un nombre positif\")\n",
    "    if a > 100:\n",
    "          print(f\"{a} est supérieur a 100\")\n",
    "\n",
    "          if a % 2 == 0:\n",
    "           print(f\"{a} est un nombre pair\")\n",
    "          else: print(f\"{a} est un nombre impair\")\n",
    "    else: \n",
    "        print(f\"{a} n'est pas supérieur a 100\")\n",
    "else:\n",
    "    print(f\"{a} n'est pas un nombre positif\")"
   ]
  },
  {
   "cell_type": "markdown",
   "id": "b83fba96",
   "metadata": {},
   "source": [
    "Exo 21: Afficher les nombres de 1 à 10 avec une boucle for.\n"
   ]
  },
  {
   "cell_type": "code",
   "execution_count": 15,
   "id": "a5d0cf39",
   "metadata": {},
   "outputs": [
    {
     "name": "stdout",
     "output_type": "stream",
     "text": [
      "0\n",
      "1\n",
      "2\n",
      "3\n",
      "4\n",
      "5\n",
      "6\n",
      "7\n",
      "8\n",
      "9\n",
      "10\n"
     ]
    }
   ],
   "source": [
    "for i in range(11):\n",
    " print(i)"
   ]
  },
  {
   "cell_type": "markdown",
   "id": "70892669",
   "metadata": {},
   "source": [
    "Exo 22: Afficher les nombres pairs entre 1 et 20."
   ]
  },
  {
   "cell_type": "code",
   "execution_count": 16,
   "id": "ae7ef626",
   "metadata": {},
   "outputs": [
    {
     "name": "stdout",
     "output_type": "stream",
     "text": [
      "0\n",
      "2\n",
      "4\n",
      "6\n",
      "8\n",
      "10\n",
      "12\n",
      "14\n",
      "16\n",
      "18\n",
      "20\n"
     ]
    }
   ],
   "source": [
    "for i in range(21):\n",
    "    if i % 2 == 0:\n",
    "        print(i)"
   ]
  },
  {
   "cell_type": "markdown",
   "id": "6a46e0fb",
   "metadata": {},
   "source": [
    "Exo 23: Utiliser une boucle pour afficher chaque élément d'une liste.\n",
    "\tword_list = ['apple', 'banana', 'cherry']\n"
   ]
  },
  {
   "cell_type": "code",
   "execution_count": 17,
   "id": "6d55d005",
   "metadata": {},
   "outputs": [
    {
     "name": "stdout",
     "output_type": "stream",
     "text": [
      "apple\n",
      "banana\n",
      "cherry\n"
     ]
    }
   ],
   "source": [
    "word_list = ['apple', 'banana', 'cherry']\n",
    "\n",
    "for word in word_list :\n",
    "    print(word)"
   ]
  },
  {
   "cell_type": "markdown",
   "id": "fefaeaad",
   "metadata": {},
   "source": [
    "Exo 24: Demander à l'utilisateur un nombre de 1 à 10 et afficher la table de multiplication."
   ]
  },
  {
   "cell_type": "code",
   "execution_count": null,
   "id": "90958116",
   "metadata": {},
   "outputs": [
    {
     "name": "stdout",
     "output_type": "stream",
     "text": [
      "0\n",
      "2\n",
      "4\n",
      "6\n",
      "8\n",
      "10\n",
      "12\n",
      "14\n",
      "16\n",
      "18\n",
      "20\n"
     ]
    }
   ],
   "source": [
    "number_input = input(\"veuillez saisir un nombre pour obtenir sa table de multiplication\")\n",
    "number = int(number_input)\n",
    "\n",
    "for i in range(11):\n",
    "    print(number * i)"
   ]
  },
  {
   "cell_type": "markdown",
   "id": "4411c579",
   "metadata": {},
   "source": [
    "Exo 25: Afficher les éléments d'une chaîne de caractères un par un."
   ]
  },
  {
   "cell_type": "code",
   "execution_count": 26,
   "id": "4975e46b",
   "metadata": {},
   "outputs": [
    {
     "name": "stdout",
     "output_type": "stream",
     "text": [
      "t\n",
      "e\n",
      "s\n",
      "t\n"
     ]
    }
   ],
   "source": [
    "chaine_characteres = \"test\"\n",
    "\n",
    "for letter in chaine_characteres:\n",
    "    print(letter)"
   ]
  },
  {
   "cell_type": "markdown",
   "id": "86cb4904",
   "metadata": {},
   "source": [
    "Exo 26: Utiliser range() pour afficher les nombres de 0 à 100 avec un pas de 10"
   ]
  },
  {
   "cell_type": "code",
   "execution_count": 28,
   "id": "2bec4de1",
   "metadata": {},
   "outputs": [
    {
     "name": "stdout",
     "output_type": "stream",
     "text": [
      "0\n",
      "10\n",
      "20\n",
      "30\n",
      "40\n",
      "50\n",
      "60\n",
      "70\n",
      "80\n",
      "90\n",
      "100\n"
     ]
    }
   ],
   "source": [
    "for i in range(0,110,10):\n",
    "    print(i)"
   ]
  },
  {
   "cell_type": "markdown",
   "id": "f141f7a9",
   "metadata": {},
   "source": [
    "Exo 27: Afficher les éléments d'une liste avec leurs indices."
   ]
  },
  {
   "cell_type": "code",
   "execution_count": 37,
   "id": "42bd6d48",
   "metadata": {},
   "outputs": [
    {
     "name": "stdout",
     "output_type": "stream",
     "text": [
      "apple est a la position 0\n",
      "banana est a la position 1\n",
      "cherry est a la position 2\n"
     ]
    }
   ],
   "source": [
    "word_list = ['apple', 'banana', 'cherry']\n",
    "\n",
    "for i in range(len(word_list)):\n",
    "    print(f\"{word_list[i]} est a la position {i}\")"
   ]
  }
 ],
 "metadata": {
  "kernelspec": {
   "display_name": ".venv",
   "language": "python",
   "name": "python3"
  },
  "language_info": {
   "codemirror_mode": {
    "name": "ipython",
    "version": 3
   },
   "file_extension": ".py",
   "mimetype": "text/x-python",
   "name": "python",
   "nbconvert_exporter": "python",
   "pygments_lexer": "ipython3",
   "version": "3.13.7"
  }
 },
 "nbformat": 4,
 "nbformat_minor": 5
}
