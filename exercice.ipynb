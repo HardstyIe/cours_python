{
 "cells": [
  {
   "cell_type": "markdown",
   "id": "c5ab80b1",
   "metadata": {},
   "source": [
    "Exo 1: Écrire un programme qui vérifie si un nombre donné est supérieur à 10."
   ]
  },
  {
   "cell_type": "code",
   "execution_count": null,
   "id": "01d5265c",
   "metadata": {},
   "outputs": [],
   "source": [
    "number = 10\n",
    "\n",
    "if number > 10 : \n",
    "    print(\"le nombre est supérieur a 10\")"
   ]
  },
  {
   "cell_type": "markdown",
   "id": "ccb74ec1",
   "metadata": {},
   "source": [
    "Exo 2: Vérifier si un nombre donné est positif, négatif ou nul."
   ]
  },
  {
   "cell_type": "code",
   "execution_count": null,
   "id": "f4a93974",
   "metadata": {},
   "outputs": [],
   "source": [
    "a = 10\n",
    "\n",
    "if a < 0 :\n",
    "    print(\"ce nombre est négatif\")\n",
    "elif a == 0 :\n",
    "    print(\"ce nombre est nul\")\n",
    "elif a > 0 :\n",
    "    print(\"ce nombre est positif\")"
   ]
  },
  {
   "cell_type": "markdown",
   "id": "8545dfbf",
   "metadata": {},
   "source": [
    "Exo 3: Créer un programme qui affiche \"Vous êtes mineur\" si l’âge est inférieur à 18."
   ]
  },
  {
   "cell_type": "code",
   "execution_count": null,
   "id": "7c614da5",
   "metadata": {},
   "outputs": [],
   "source": [
    "age = 17\n",
    "\n",
    "if age < 18 :\n",
    "    print(\"vous êtes mineur\")"
   ]
  },
  {
   "cell_type": "markdown",
   "id": "b82b6da7",
   "metadata": {},
   "source": [
    "Exo 4: Écrire un programme qui vérifie si une chaîne de caractères est vide ou non."
   ]
  },
  {
   "cell_type": "code",
   "execution_count": null,
   "id": "e49c1ad8",
   "metadata": {},
   "outputs": [],
   "source": [
    "chaine_charactere_vide = \"\"\n",
    "\n",
    "if chaine_charactere_vide : \n",
    "    print(\"la chaine de characteres est rempli\")\n",
    "else:\n",
    "    print(\"la chaine de characteres est vide\")"
   ]
  },
  {
   "cell_type": "markdown",
   "id": "251b3fcd",
   "metadata": {},
   "source": [
    "Exo 5: Vérifier si un nombre est pair ou impair."
   ]
  },
  {
   "cell_type": "code",
   "execution_count": null,
   "id": "f94e05e6",
   "metadata": {},
   "outputs": [],
   "source": [
    "a = 155\n",
    "\n",
    "if a % 2 == 0:\n",
    "    print(\"le nombre est pair\")\n",
    "else:\n",
    "    print(\"le nombre est impair\")\n"
   ]
  },
  {
   "cell_type": "markdown",
   "id": "0c757500",
   "metadata": {},
   "source": [
    "Exo 6: Écrire un programme qui compare deux nombres et affiche le plus grand.\n"
   ]
  },
  {
   "cell_type": "code",
   "execution_count": null,
   "id": "500ccb93",
   "metadata": {},
   "outputs": [],
   "source": [
    "a = 5\n",
    "b = 5\n",
    "\n",
    "if a < b :\n",
    "    print(f\"b: {b} est le nombre le plus grand\")\n",
    "elif a > b:\n",
    "    print(f\"a: {a} est le nombre le plus grand\")\n",
    "else :\n",
    "    print(\"tu utilise les meme nombres\")\n"
   ]
  },
  {
   "cell_type": "markdown",
   "id": "e3c43c28",
   "metadata": {},
   "source": [
    "Exo 7: Vérifier si un nombre est divisible par 3 ou par 5."
   ]
  },
  {
   "cell_type": "code",
   "execution_count": null,
   "id": "92c89170",
   "metadata": {},
   "outputs": [],
   "source": [
    "a = 5\n",
    "\n",
    "if a % 5 ==0 and a % 3 == 0:\n",
    "    print(f\"{a} est divislbe par 3 et par 5\")\n",
    "elif a % 3 == 0 :\n",
    "    print(f\"{a} est divisible par 3\")\n",
    "elif a % 5 == 0 :\n",
    "    print(f\"{a} est divisible par 5\")"
   ]
  },
  {
   "cell_type": "markdown",
   "id": "89eb87b9",
   "metadata": {},
   "source": [
    "Exo 8: Demander à l'utilisateur un mot de passe et vérifier s'il correspond à \"admin\"."
   ]
  },
  {
   "cell_type": "code",
   "execution_count": null,
   "id": "56e8d7a9",
   "metadata": {},
   "outputs": [],
   "source": [
    "admin = \"admin\"\n",
    "input_utilisateur = input(\"Veuillez saisir un mot de passe\")\n",
    "\n",
    "if input_utilisateur == admin:\n",
    "    print(\"le mot de passe correspond\")\n",
    "else :\n",
    "    print(\"le mot de passe ne correspond pas\")"
   ]
  },
  {
   "cell_type": "markdown",
   "id": "30764dbe",
   "metadata": {},
   "source": [
    "Exo 9: Créer un programme qui vérifie si une lettre est une voyelle ou une consonne."
   ]
  },
  {
   "cell_type": "code",
   "execution_count": null,
   "id": "b010b408",
   "metadata": {},
   "outputs": [],
   "source": [
    "lettre = \"a\"\n",
    "\n",
    "voyelle = [\"a\",\"e\",\"i\",\"o\",\"u\",\"y\"]\n",
    "\n",
    "if lettre in voyelle :\n",
    "    print(\"la lettre est une voyelle\")\n",
    "elif lettre not in voyelle:\n",
    "    print(\"la lettre est une consonne\")"
   ]
  },
  {
   "cell_type": "markdown",
   "id": "2a8d0362",
   "metadata": {},
   "source": [
    "Exo 10: Vérifier si une liste est vide ou non."
   ]
  },
  {
   "cell_type": "code",
   "execution_count": null,
   "id": "ba14a2a5",
   "metadata": {},
   "outputs": [],
   "source": [
    "liste = []\n",
    "\n",
    "if liste :\n",
    "    print(\"la liste contient des informations\")\n",
    "else:\n",
    "    print(\"la liste est vide\")"
   ]
  },
  {
   "cell_type": "markdown",
   "id": "5f0d679d",
   "metadata": {},
   "source": [
    "Exo 11: Écrire un programme qui vérifie si un nombre est compris entre 10 et 20."
   ]
  },
  {
   "cell_type": "code",
   "execution_count": null,
   "id": "875fc083",
   "metadata": {},
   "outputs": [],
   "source": [
    "a = 20\n",
    "\n",
    "if a < 10 or a > 20:\n",
    "    print(f\"{a} n'est pas compris entre 10 et 20\")\n",
    "elif a >= 10 and a <= 20:\n",
    "    print(f\"{a} est compris entre 10 et 20\")"
   ]
  },
  {
   "cell_type": "markdown",
   "id": "9e36e0e4",
   "metadata": {},
   "source": [
    "Exo 12: Demander à l'utilisateur un âge et afficher s'il est un enfant (moins de 12 ans), un adolescent (entre 12 et 18 ans) ou un adulte (plus de 18 ans).\n"
   ]
  },
  {
   "cell_type": "code",
   "execution_count": null,
   "id": "f197fa86",
   "metadata": {},
   "outputs": [],
   "source": [
    "age_utilisateur = input(\"Veuillez rentrée votre age\")\n",
    "age_utilisateur_int = int(age_utilisateur)\n",
    "\n",
    "if age_utilisateur_int < 12 :\n",
    "    print(f\"tu as {age_utilisateur_int}ans, tu est donc un enfant\")\n",
    "elif age_utilisateur_int >= 12 and age_utilisateur_int < 18 :\n",
    "    print(f\"tu as {age_utilisateur_int}ans, tu est donc un adolescent\")\n",
    "elif age_utilisateur_int >= 18 :\n",
    "    print(f\"tu as {age_utilisateur_int}ans, tu est donc un adulte\")"
   ]
  },
  {
   "cell_type": "markdown",
   "id": "285b13e4",
   "metadata": {},
   "source": [
    "Exo 13: Créer un programme qui vérifie si une année est bissextile ou non."
   ]
  },
  {
   "cell_type": "code",
   "execution_count": null,
   "id": "a64ad7d1",
   "metadata": {},
   "outputs": [],
   "source": [
    "year = 2012\n",
    "\n",
    "\n",
    "if year % 4 == 0 and year % 100 != 0 or year % 400 == 0:\n",
    "    print(f\"{year} est une année bissextiles\")\n",
    "else:\n",
    "    print(f\"{year} n'est pas une année bissextiles\")"
   ]
  },
  {
   "cell_type": "markdown",
   "id": "479ee636",
   "metadata": {},
   "source": [
    "Exo 14: Vérifier si un nombre est positif et multiple de 5"
   ]
  },
  {
   "cell_type": "code",
   "execution_count": null,
   "id": "4985d6cf",
   "metadata": {},
   "outputs": [],
   "source": [
    "a = 5\n",
    "\n",
    "if a > 0:\n",
    "    \n",
    "    if a % 5 == 0:\n",
    "        print(f\"{a} est un multiple de 5\")\n",
    "    else:\n",
    "        print(f\"{a} n'est pas un multiple de 5\")\n",
    "else: \n",
    "    print(f\"le nombre {a} n'est pas positif\")"
   ]
  },
  {
   "cell_type": "markdown",
   "id": "545d9c69",
   "metadata": {},
   "source": [
    "Exo 15: Écrire un programme qui vérifie si une chaîne de caractères contient la lettre 'a'."
   ]
  },
  {
   "cell_type": "code",
   "execution_count": null,
   "id": "ca2be8e7",
   "metadata": {},
   "outputs": [],
   "source": [
    "liste_charactere = \"bcdef\"\n",
    "\n",
    "if \"a\" in liste_charactere :\n",
    "    print(\"la lettre \\\"a\\\" est présente dans la liste \")\n",
    "else:\n",
    "    print(\"la lettre \\\"a\\\" n'est pas présente dans la liste\")"
   ]
  },
  {
   "cell_type": "markdown",
   "id": "fbdb8c96",
   "metadata": {},
   "source": [
    "Exo 16: Vérifier si un nombre est divisible à la fois par 2 et par 3, mais pas par 9."
   ]
  },
  {
   "cell_type": "code",
   "execution_count": null,
   "id": "868f4446",
   "metadata": {},
   "outputs": [],
   "source": [
    "a = 18\n",
    "\n",
    "if a % 2 == 0 and a % 3 == 0 and a % 9 != 0:\n",
    "    print(\"ce chiffre est divisable par 2 et 3 mais pas par 9\") \n",
    "elif a % 9 == 0:\n",
    "    print(\"ce chiffre est divisable par 9\")"
   ]
  },
  {
   "cell_type": "markdown",
   "id": "6baff572",
   "metadata": {},
   "source": [
    "Exo 17: Demander à l'utilisateur un nom d'utilisateur et un mot de passe, et vérifier si les deux sont corrects."
   ]
  },
  {
   "cell_type": "code",
   "execution_count": null,
   "id": "ba120735",
   "metadata": {},
   "outputs": [],
   "source": [
    "nom_utilisateur = input(\"Quel est ton nom utilisateur\")\n",
    "mot_de_passe = input(\"Quel est ton mot de passe ?\")\n",
    "\n",
    "if nom_utilisateur == \"test\" and mot_de_passe == \"test\" :\n",
    "    print(\"le nom d'utilisateur et mot de passe correspondent\")\n",
    "else:\n",
    "    print(\"les informations ne sont pas correspondantes\")"
   ]
  },
  {
   "cell_type": "markdown",
   "id": "82a1d2df",
   "metadata": {},
   "source": [
    "Exo 18: Écrire un programme qui affiche \"Excellent\" si la note est supérieure à 85, \"Bien\" si elle est entre 70 et 85, sinon afficher \"Peut mieux faire\".\n"
   ]
  },
  {
   "cell_type": "code",
   "execution_count": null,
   "id": "34672abe",
   "metadata": {},
   "outputs": [],
   "source": [
    "note = 68\n",
    "\n",
    "if note > 85:\n",
    "    print(\"Excellente note!\")\n",
    "elif note >= 70 and note <= 85:\n",
    "    print(\"Bien\")\n",
    "else:\n",
    "    print(\"Peut mieux faire\")"
   ]
  },
  {
   "cell_type": "markdown",
   "id": "a9b3d42a",
   "metadata": {},
   "source": [
    "Exo 19: Créer un programme qui vérifie si une chaîne de caractères est un palindrome."
   ]
  },
  {
   "cell_type": "code",
   "execution_count": null,
   "id": "2103e384",
   "metadata": {},
   "outputs": [],
   "source": [
    "palindrome = \"kayak\"\n",
    "\n",
    "if palindrome == palindrome[::-1] :\n",
    "    print(f\"{palindrome} est le palindrome de {palindrome[::-1]}\")\n",
    "else: \n",
    "    print(f\"{palindrome} n'a pas de palindrome\")\n"
   ]
  },
  {
   "cell_type": "markdown",
   "id": "26677a0c",
   "metadata": {},
   "source": [
    "Exo 20: Écrire un programme qui vérifie si un nombre est à la fois positif, pair et supérieur à 100.\n"
   ]
  },
  {
   "cell_type": "code",
   "execution_count": null,
   "id": "52d0b4f6",
   "metadata": {},
   "outputs": [],
   "source": [
    "a = 101\n",
    "\n",
    "if a > 0 :\n",
    "    print(f\"{a} est un nombre positif\")\n",
    "    if a > 100:\n",
    "          print(f\"{a} est supérieur a 100\")\n",
    "\n",
    "          if a % 2 == 0:\n",
    "           print(f\"{a} est un nombre pair\")\n",
    "          else: print(f\"{a} est un nombre impair\")\n",
    "    else: \n",
    "        print(f\"{a} n'est pas supérieur a 100\")\n",
    "else:\n",
    "    print(f\"{a} n'est pas un nombre positif\")"
   ]
  },
  {
   "cell_type": "markdown",
   "id": "b83fba96",
   "metadata": {},
   "source": [
    "Exo 21: Afficher les nombres de 1 à 10 avec une boucle for.\n"
   ]
  },
  {
   "cell_type": "code",
   "execution_count": null,
   "id": "a5d0cf39",
   "metadata": {},
   "outputs": [],
   "source": [
    "for i in range(11):\n",
    " print(i)"
   ]
  },
  {
   "cell_type": "markdown",
   "id": "70892669",
   "metadata": {},
   "source": [
    "Exo 22: Afficher les nombres pairs entre 1 et 20."
   ]
  },
  {
   "cell_type": "code",
   "execution_count": null,
   "id": "ae7ef626",
   "metadata": {},
   "outputs": [],
   "source": [
    "for i in range(21):\n",
    "    if i % 2 == 0:\n",
    "        print(i)"
   ]
  },
  {
   "cell_type": "markdown",
   "id": "6a46e0fb",
   "metadata": {},
   "source": [
    "Exo 23: Utiliser une boucle pour afficher chaque élément d'une liste.\n",
    "\tword_list = ['apple', 'banana', 'cherry']\n"
   ]
  },
  {
   "cell_type": "code",
   "execution_count": null,
   "id": "6d55d005",
   "metadata": {},
   "outputs": [],
   "source": [
    "word_list = ['apple', 'banana', 'cherry']\n",
    "\n",
    "for word in word_list :\n",
    "    print(word)"
   ]
  },
  {
   "cell_type": "markdown",
   "id": "fefaeaad",
   "metadata": {},
   "source": [
    "Exo 24: Demander à l'utilisateur un nombre de 1 à 10 et afficher la table de multiplication."
   ]
  },
  {
   "cell_type": "code",
   "execution_count": null,
   "id": "90958116",
   "metadata": {},
   "outputs": [],
   "source": [
    "number_input = input(\"veuillez saisir un nombre pour obtenir sa table de multiplication\")\n",
    "number = int(number_input)\n",
    "\n",
    "for i in range(11):\n",
    "    print(number * i)"
   ]
  },
  {
   "cell_type": "markdown",
   "id": "4411c579",
   "metadata": {},
   "source": [
    "Exo 25: Afficher les éléments d'une chaîne de caractères un par un."
   ]
  },
  {
   "cell_type": "code",
   "execution_count": null,
   "id": "4975e46b",
   "metadata": {},
   "outputs": [],
   "source": [
    "chaine_characteres = \"test\"\n",
    "\n",
    "for letter in chaine_characteres:\n",
    "    print(letter)"
   ]
  },
  {
   "cell_type": "markdown",
   "id": "86cb4904",
   "metadata": {},
   "source": [
    "Exo 26: Utiliser range() pour afficher les nombres de 0 à 100 avec un pas de 10"
   ]
  },
  {
   "cell_type": "code",
   "execution_count": null,
   "id": "2bec4de1",
   "metadata": {},
   "outputs": [],
   "source": [
    "for i in range(0,110,10):\n",
    "    print(i)"
   ]
  },
  {
   "cell_type": "markdown",
   "id": "f141f7a9",
   "metadata": {},
   "source": [
    "Exo 27: Afficher les éléments d'une liste avec leurs indices."
   ]
  },
  {
   "cell_type": "code",
   "execution_count": null,
   "id": "42bd6d48",
   "metadata": {},
   "outputs": [],
   "source": [
    "word_list = ['apple', 'banana', 'cherry']\n",
    "\n",
    "for i in range(len(word_list)):\n",
    "    print(f\"{word_list[i]} est a la position {i}\")"
   ]
  },
  {
   "cell_type": "markdown",
   "id": "c0c33961",
   "metadata": {},
   "source": [
    "Exo 28: Afficher les nombres de 10 à 1 en ordre décroissant avec une boucle for."
   ]
  },
  {
   "cell_type": "code",
   "execution_count": null,
   "id": "597d9f50",
   "metadata": {},
   "outputs": [],
   "source": [
    "for i in range(10, 0, -1):\n",
    "    print(i)\n"
   ]
  },
  {
   "cell_type": "markdown",
   "id": "54197275",
   "metadata": {},
   "source": [
    "Exo 29 : Créer une boucle qui calcule la somme des nombres de 1 à 50"
   ]
  },
  {
   "cell_type": "code",
   "execution_count": null,
   "id": "4134ee0c",
   "metadata": {},
   "outputs": [],
   "source": [
    "numbers = 0\n",
    "\n",
    "for i in range(51):\n",
    "    numbers += i \n",
    "\n",
    "print(numbers)"
   ]
  },
  {
   "cell_type": "markdown",
   "id": "f0b853b3",
   "metadata": {},
   "source": [
    "Exo 30 : Utiliser une boucle pour afficher les 5 premières lettres de l'alphabet."
   ]
  },
  {
   "cell_type": "code",
   "execution_count": null,
   "id": "41893d3c",
   "metadata": {},
   "outputs": [],
   "source": [
    "import string\n",
    "\n",
    "alphabet = string.ascii_lowercase\n",
    "\n",
    "for index,letter in enumerate(alphabet):\n",
    "    print(letter)\n",
    "    if index == 4:\n",
    "        break"
   ]
  },
  {
   "cell_type": "markdown",
   "id": "570dfb22",
   "metadata": {},
   "source": [
    "Exo 31: Utiliser une boucle while pour afficher les nombres de 1 à 10."
   ]
  },
  {
   "cell_type": "code",
   "execution_count": null,
   "id": "3c2ed32d",
   "metadata": {},
   "outputs": [],
   "source": [
    "number=0\n",
    "\n",
    "while (number < 10):\n",
    "     number += 1\n",
    "     print(number)"
   ]
  },
  {
   "cell_type": "markdown",
   "id": "918d499f",
   "metadata": {},
   "source": [
    "Exo 32: Utiliser une boucle while pour calculer la somme des nombres de 1 à 100."
   ]
  },
  {
   "cell_type": "code",
   "execution_count": null,
   "id": "d3a12d4c",
   "metadata": {},
   "outputs": [],
   "source": [
    "iterator = 1\n",
    "sum_100 = 0\n",
    "while iterator <= 100:\n",
    "     sum_100 += iterator \n",
    "     iterator += 1\n",
    "     print(sum_100)"
   ]
  },
  {
   "cell_type": "markdown",
   "id": "74f90457",
   "metadata": {},
   "source": [
    "Exo 33: Demander à l'utilisateur un nombre et continuer à demander tant que ce nombre est négatif."
   ]
  },
  {
   "cell_type": "code",
   "execution_count": null,
   "id": "a736f211",
   "metadata": {},
   "outputs": [],
   "source": [
    "input_utilisateur = input(\"Veuillez rentrée un nombre\")\n",
    "number = int(input_utilisateur)\n",
    "while number <= 0 :\n",
    "        print(f\"le nombre : {number} est négatif ou nul (dans le cas de 0)\")\n",
    "        input_utilisateur = input(\"Veuillez saisir un nouveaux nombre\")\n",
    "        number = int(input_utilisateur)\n",
    "\n",
    "print(f\"{number} est un nombre positif\")"
   ]
  },
  {
   "cell_type": "markdown",
   "id": "f4babd67",
   "metadata": {},
   "source": [
    "Exo 34 : Créer une boucle infinie qui demande un mot de passe jusqu'à ce qu'il soit correct."
   ]
  },
  {
   "cell_type": "code",
   "execution_count": null,
   "id": "060a6936",
   "metadata": {},
   "outputs": [],
   "source": [
    "input_utilisateur = input(\"Veuillez entré un mot de passe\")\n",
    "\n",
    "while input_utilisateur != \"test\" :\n",
    "    input_utilisateur = input(\"Mot de passe pas bon, veuillez recommencer\")"
   ]
  },
  {
   "cell_type": "markdown",
   "id": "75a72faa",
   "metadata": {},
   "source": [
    "Exo 35 : Utiliser while pour afficher les multiples de 5 entre 1 et 50."
   ]
  },
  {
   "cell_type": "code",
   "execution_count": null,
   "id": "3a02d96b",
   "metadata": {},
   "outputs": [],
   "source": [
    "iterator = 1\n",
    "\n",
    "while iterator <= 50:\n",
    "    iterator += 1\n",
    "    if iterator % 5 == 0:\n",
    "        print(f\"{iterator} est un multiple de 5\")\n"
   ]
  },
  {
   "cell_type": "markdown",
   "id": "bf482d74",
   "metadata": {},
   "source": [
    "Exo 36 : Écrire une boucle qui affiche les nombres de 1 à 10, puis termine avec un message \"Fin de la boucle\"."
   ]
  },
  {
   "cell_type": "code",
   "execution_count": null,
   "id": "ad4b951a",
   "metadata": {},
   "outputs": [],
   "source": [
    "iterator = 0\n",
    "\n",
    "while iterator < 10:\n",
    "    iterator += 1\n",
    "    print(f\"{iterator}\")\n",
    "\n",
    "print(\"fin de la boucle\")"
   ]
  },
  {
   "cell_type": "markdown",
   "id": "9eeb3958",
   "metadata": {},
   "source": [
    "Exo 37 : Créer une boucle while qui décrémente un nombre à partir de 10 jusqu'à 0."
   ]
  },
  {
   "cell_type": "code",
   "execution_count": null,
   "id": "a852b669",
   "metadata": {},
   "outputs": [],
   "source": [
    "number = 11\n",
    "\n",
    "while number > 0:\n",
    "    number -= 1\n",
    "    print(f\"{number}\")"
   ]
  },
  {
   "cell_type": "markdown",
   "id": "a91c4186",
   "metadata": {},
   "source": [
    "Exo 38: Demander un nombre à l'utilisateur et calculer sa factorielle avec une boucle while."
   ]
  },
  {
   "cell_type": "code",
   "execution_count": null,
   "id": "3c356678",
   "metadata": {},
   "outputs": [],
   "source": [
    "iterateur = 10\n",
    "start = 1\n",
    "n = 1\n",
    "\n",
    "while start < iterateur:\n",
    "    start += 1\n",
    "    n *= start\n",
    "    print(n)\n"
   ]
  },
  {
   "cell_type": "markdown",
   "id": "23d7c5e3",
   "metadata": {},
   "source": [
    "Exo 39: Afficher les nombres pairs de 2 à 200 s'ils sont divisibles par 3 avec une boucle while."
   ]
  },
  {
   "cell_type": "code",
   "execution_count": null,
   "id": "3ffd8b48",
   "metadata": {},
   "outputs": [],
   "source": [
    "iterator = 1\n",
    "\n",
    "while iterator <= 200:\n",
    "    if iterator % 2 == 0:\n",
    "        print(f\"{iterator} est un nombre pair\")\n",
    "        if iterator % 3 == 0:\n",
    "            print(f\"{iterator} est aussi un divisble de 3\")\n",
    "    iterator += 1   "
   ]
  },
  {
   "cell_type": "markdown",
   "id": "3c3df392",
   "metadata": {},
   "source": [
    "Exo 40: Écrire un programme qui demande à l'utilisateur de saisir des nombres positifs et de les ajouter à une liste. Le programme doit continuer à demander des nombres tant que la longueur de la liste ne dépasse pas 5."
   ]
  },
  {
   "cell_type": "code",
   "execution_count": null,
   "id": "2a111234",
   "metadata": {},
   "outputs": [],
   "source": [
    "liste = []\n",
    "\n",
    "while len(liste) < 5:\n",
    "    try:\n",
    "        input_utilisateur = input(f\"Veuillez saisir un nombre (il manque encore {5 - len(liste)} nombre(s) dans la liste)\")\n",
    "        number = int(input_utilisateur)\n",
    "        liste.append(number)\n",
    "    except ValueError:\n",
    "        print(\"Erreur: vous n'avez pas mis un nombre\")\n",
    "\n",
    "print(f\"voici la liste final {liste}\")\n",
    "\n"
   ]
  },
  {
   "cell_type": "markdown",
   "id": "81cde350",
   "metadata": {},
   "source": [
    "Exo 41: Utiliser une boucle pour afficher les nombres de 1 à 20, mais arrêter dès que vous atteignez 10."
   ]
  },
  {
   "cell_type": "code",
   "execution_count": null,
   "id": "7f8db2b8",
   "metadata": {},
   "outputs": [],
   "source": [
    "for i in range(0,21,1):\n",
    "    if i == 10 : break\n",
    "    print(i)"
   ]
  },
  {
   "cell_type": "markdown",
   "id": "60da1ea2",
   "metadata": {},
   "source": [
    "Exo 42: Créer une boucle qui demande un nombre et s'arrête si le nombre est 0."
   ]
  },
  {
   "cell_type": "code",
   "execution_count": null,
   "id": "6eee33b8",
   "metadata": {},
   "outputs": [],
   "source": [
    "user_input = int(input(\"Veuillez saisir un nombre\"))\n",
    "\n",
    "while user_input != 0:\n",
    "  user_input = int(input(\"Veuillez saisir un nombre\"))\n",
    "\n",
    "print(\"Vous avez correctement entrée le : 0\")"
   ]
  },
  {
   "cell_type": "markdown",
   "id": "7c6cb9c5",
   "metadata": {},
   "source": [
    "Exo 43: Utiliser continue pour afficher uniquement les nombres impairs de 1 à 10."
   ]
  },
  {
   "cell_type": "code",
   "execution_count": null,
   "id": "b3908cca",
   "metadata": {},
   "outputs": [],
   "source": [
    "iterator = 0\n",
    "\n",
    "while iterator < 10:\n",
    "    iterator += 1\n",
    "    if iterator % 2 == 0 : \n",
    "        continue\n",
    "    print(f\"{iterator} est un nombre impair\")"
   ]
  },
  {
   "cell_type": "markdown",
   "id": "bd6079de",
   "metadata": {},
   "source": [
    "Exo 44: Écrire une boucle qui affiche les nombres de 1 à 20, mais saute les multiples de 3."
   ]
  },
  {
   "cell_type": "code",
   "execution_count": null,
   "id": "84ce2cbd",
   "metadata": {},
   "outputs": [],
   "source": [
    "for i in range(21):\n",
    "    if i % 3 == 0:\n",
    "        continue\n",
    "    print(i)"
   ]
  },
  {
   "cell_type": "markdown",
   "id": "6e63ace7",
   "metadata": {},
   "source": [
    "Exo 45: Demander à l'utilisateur un nombre et afficher tous les nombres de 1 à ce nombre, sauf ceux divisibles par 4."
   ]
  },
  {
   "cell_type": "code",
   "execution_count": null,
   "id": "488c712e",
   "metadata": {},
   "outputs": [],
   "source": [
    "user_input = int(input(\"Veuillez rentrée un nombre\"))\n",
    "iteration = 0\n",
    "while iteration < user_input :\n",
    "    iteration += 1\n",
    "    if iteration % 4 == 0:\n",
    "        continue\n",
    "    print(iteration)"
   ]
  },
  {
   "cell_type": "markdown",
   "id": "7175d6d2",
   "metadata": {},
   "source": [
    "Exo 46: Créer une boucle qui affiche les éléments d'une liste mais s'arrête dès qu'elle rencontre un élément spécifique."
   ]
  },
  {
   "cell_type": "code",
   "execution_count": null,
   "id": "64e82b1c",
   "metadata": {},
   "outputs": [],
   "source": [
    "elements = ['apple', 'banana', 'cherry', 'orange', 'grape']\n",
    "stop_element = 'cherry'\n",
    "\n",
    "for fruit in elements:\n",
    "    if fruit == stop_element:\n",
    "        break\n",
    "    print(fruit)\n"
   ]
  },
  {
   "cell_type": "markdown",
   "id": "3543730f",
   "metadata": {},
   "source": [
    "Exo 47: Utiliser break pour quitter une boucle infinie après 5 itérations."
   ]
  },
  {
   "cell_type": "code",
   "execution_count": null,
   "id": "ed84a359",
   "metadata": {},
   "outputs": [],
   "source": [
    "iteration = 0\n",
    "\n",
    "while True:\n",
    "    iteration += 1\n",
    "    if iteration >= 6:\n",
    "        break\n",
    "    print(iteration)"
   ]
  },
  {
   "cell_type": "markdown",
   "id": "30906944",
   "metadata": {},
   "source": [
    "Exo 48: Utiliser continue pour ignorer les lettres 'a' et 'e' lors de l'affichage des lettres d'un mot."
   ]
  },
  {
   "cell_type": "code",
   "execution_count": null,
   "id": "1cf95167",
   "metadata": {},
   "outputs": [],
   "source": [
    "import string\n",
    "\n",
    "alphabet = string.ascii_lowercase\n",
    "\n",
    "for letter in alphabet:\n",
    "    if letter == \"a\" or letter == \"e\":\n",
    "        continue\n",
    "    print(letter)"
   ]
  },
  {
   "cell_type": "markdown",
   "id": "dd574357",
   "metadata": {},
   "source": [
    "Exo 49: Écrire une boucle qui demande à l'utilisateur de saisir un mot, mais qui s'arrête dès qu'il entre \"stop\"."
   ]
  },
  {
   "cell_type": "code",
   "execution_count": null,
   "id": "e9794445",
   "metadata": {},
   "outputs": [],
   "source": [
    "while True:\n",
    "    user_input = input(\"Veuillez rentrer un mot (dite stop pour arreter)\")\n",
    "    if user_input == \"stop\":\n",
    "        break\n",
    "\n",
    "print(\"La boucle est terminée, vous avez entré 'stop'.\")"
   ]
  },
  {
   "cell_type": "markdown",
   "id": "9875bbfa",
   "metadata": {},
   "source": [
    "Exo 50: Afficher les éléments d’une liste, arrêter la boucle si un même élément apparaît une deuxième fois."
   ]
  },
  {
   "cell_type": "code",
   "execution_count": null,
   "id": "a0c2f06c",
   "metadata": {},
   "outputs": [],
   "source": [
    "elements = ['apple', 'banana', 'cherry', 'orange', 'grape', 'apple', 'banana', 'cherry', 'orange', 'grape']\n",
    "vu = []\n",
    "\n",
    "for fruit in elements:\n",
    "    if fruit in vu:\n",
    "        break\n",
    "    vu.append(fruit)\n",
    "    print(fruit)\n"
   ]
  },
  {
   "cell_type": "markdown",
   "id": "80059a8c",
   "metadata": {},
   "source": [
    "Exo 51: Écrire un programme qui affiche la table de multiplication de 1 à 10 avec des boucles imbriquées."
   ]
  },
  {
   "cell_type": "code",
   "execution_count": null,
   "id": "765a4917",
   "metadata": {},
   "outputs": [],
   "source": [
    "for i in range(1,11):\n",
    "    for j in range(1,11):\n",
    "        print(f\"{i} x {j} = {i*j}\")"
   ]
  },
  {
   "cell_type": "markdown",
   "id": "b468ac00",
   "metadata": {},
   "source": [
    "Exo 52: Créer un programme qui affiche un rectangle de caractères \"X\" de taille donnée par l'utilisateur."
   ]
  },
  {
   "cell_type": "code",
   "execution_count": null,
   "id": "3c2c404e",
   "metadata": {},
   "outputs": [],
   "source": [
    "largeur = int(input(\"Veuillez saisir la largeur de votre rectangle\"))\n",
    "hauteur = int(input(\"Veuillez saisir la hauteur de votre rectangle\"))\n",
    "\n",
    "for j in range(hauteur):\n",
    "    for i in range(largeur):\n",
    "        print(\"x\",end=\"\")\n",
    "    print()"
   ]
  },
  {
   "cell_type": "markdown",
   "id": "9f09adfa",
   "metadata": {},
   "source": [
    "Exo 53: Utiliser des boucles imbriquées pour afficher une pyramide de nombres."
   ]
  },
  {
   "cell_type": "code",
   "execution_count": null,
   "id": "a14cd77b",
   "metadata": {},
   "outputs": [],
   "source": [
    "n = 1 # sert a stocker le nombre placé\n",
    "for i in range(1, 11):\n",
    "    print(\" \" * (10 - i), end=\"\") # ajoute des espaces au début\n",
    "    for j in range(i):\n",
    "        print(f\"{n:2}\", end=\" \")\n",
    "        n += 1\n",
    "    print()\n"
   ]
  },
  {
   "cell_type": "markdown",
   "id": "031c9ecd",
   "metadata": {},
   "source": [
    "Exo 54: Afficher tous les éléments d'une liste de listes avec des boucles imbriquées."
   ]
  },
  {
   "cell_type": "code",
   "execution_count": null,
   "id": "d43306cd",
   "metadata": {},
   "outputs": [],
   "source": [
    "elements = [\n",
    "    [5, 89, 79, 4, False],\n",
    "    [8, 9, 12, 'azed', 7.7, 9],\n",
    "    [7.12, \"aba\", 4689, True, 3],\n",
    "]\n",
    "\n",
    "for ligne in elements:\n",
    "    print(*ligne, sep=\"\\t\")"
   ]
  },
  {
   "cell_type": "markdown",
   "id": "e52ba010",
   "metadata": {},
   "source": [
    "Exo 55: Créer une boucle qui parcourt deux listes de mêmes longueurs simultanément et affiche leurs éléments côte à côte."
   ]
  },
  {
   "cell_type": "code",
   "execution_count": null,
   "id": "6e32c5e2",
   "metadata": {},
   "outputs": [],
   "source": [
    "list_0 = [5, 89, 79, 4, False]\n",
    "list_1 = [8, 9, 12, 'azed', 7.7]\n",
    "\n",
    "for i in range(len(list_0)):\n",
    "    print(list_0[i] , list_1[i])\n"
   ]
  },
  {
   "cell_type": "markdown",
   "id": "203cf1e7",
   "metadata": {},
   "source": [
    "Exo 56 : Utiliser des boucles imbriquées pour calculer et afficher le produit scalaire de deux vecteurs."
   ]
  },
  {
   "cell_type": "code",
   "execution_count": null,
   "id": "c075639c",
   "metadata": {},
   "outputs": [],
   "source": [
    "vector_0 = [5, 89, 79, 4, 56]\n",
    "vector_1 = [8, 9.4, 12, 78, 7.7]\n",
    "\n",
    "sum_vector = 0\n",
    "\n",
    "for i in range(len(vector_0)):\n",
    "        sum_vector += vector_0[i] * vector_1[i]\n",
    "        print(sum_vector)"
   ]
  },
  {
   "cell_type": "markdown",
   "id": "30b73100",
   "metadata": {},
   "source": [
    "Exo 57: Écrire un programme qui parcourt une liste de chaînes de caractères et affiche chaque lettre individuellement."
   ]
  },
  {
   "cell_type": "code",
   "execution_count": null,
   "id": "c0828667",
   "metadata": {},
   "outputs": [],
   "source": [
    "words = [\"apple\", \"banana\", \"cherry\"]\n",
    "\n",
    "for fruit in words:\n",
    "    for letter in fruit:\n",
    "        print(letter)\n",
    "    print()"
   ]
  },
  {
   "cell_type": "markdown",
   "id": "77f6e2ab",
   "metadata": {},
   "source": [
    "Exo 58 : Créer une boucle imbriquée pour générer les coordonnées (x, y) d'un quadrillage de 0 à 4."
   ]
  },
  {
   "cell_type": "code",
   "execution_count": null,
   "id": "1d714a4d",
   "metadata": {},
   "outputs": [],
   "source": [
    "cordonate = []\n",
    "\n",
    "for i in range(5):\n",
    "    for j in range(5):\n",
    "        cordonate.append((j,i))\n",
    "\n",
    "print(cordonate)\n",
    "        "
   ]
  },
  {
   "cell_type": "markdown",
   "id": "48050551",
   "metadata": {},
   "source": [
    "Exo 59: Créer une grille de caractères où chaque ligne et colonne est remplie de l'indice correspondant."
   ]
  },
  {
   "cell_type": "code",
   "execution_count": null,
   "id": "6c72fad7",
   "metadata": {},
   "outputs": [],
   "source": [
    "for i in range(6):\n",
    "    for j in range(6):\n",
    "        print(j, end=\" \")\n",
    "    print()"
   ]
  },
  {
   "cell_type": "markdown",
   "id": "2a2758eb",
   "metadata": {},
   "source": [
    "Exo 60 : Afficher les éléments en diagonale d'une matrice carrée."
   ]
  },
  {
   "cell_type": "code",
   "execution_count": null,
   "id": "c4229fe6",
   "metadata": {},
   "outputs": [],
   "source": [
    "matrix = [\n",
    "    [1, 2, 3],\n",
    "    [4, 5, 6],\n",
    "    [7, 8, 9]\n",
    "]\n",
    "\n",
    "for i,liste in enumerate(matrix):\n",
    "    print(liste[i])"
   ]
  },
  {
   "cell_type": "markdown",
   "id": "df7dafc1",
   "metadata": {},
   "source": [
    "Exo 61: Utiliser une boucle pour inverser une liste."
   ]
  },
  {
   "cell_type": "code",
   "execution_count": null,
   "id": "8ac441c1",
   "metadata": {},
   "outputs": [],
   "source": [
    "elements = [8, 9, 'mrt', 97, True, 1.2]\n",
    "reverse_elements=[]\n",
    "\n",
    "print(elements[::-1])"
   ]
  },
  {
   "cell_type": "markdown",
   "id": "344d498d",
   "metadata": {},
   "source": [
    "Exo 62: Utiliser une boucle pour vérifier si une liste est triée ou non."
   ]
  },
  {
   "cell_type": "code",
   "execution_count": null,
   "id": "d2b09eb4",
   "metadata": {},
   "outputs": [],
   "source": [
    "my_list = [2, 4, 9, 12, 4, 32, 13, 8, 78, 1, 4, 21, 7, 4, 1, 3, 5, 4, 6]\n",
    "is_sorted = True\n",
    "\n",
    "for i in range(len(my_list) -1):\n",
    "    if my_list[i] > my_list[i+1] :\n",
    "        is_sorted = False\n",
    "        break\n",
    "\n",
    "if is_sorted : \n",
    "    print(\"La liste est triée\") \n",
    "else: \n",
    "    print(\"La liste n'est pas triée\")\n"
   ]
  },
  {
   "cell_type": "markdown",
   "id": "c7d00ee9",
   "metadata": {},
   "source": [
    "Exo 63: Créer une boucle qui compte le nombre de fois qu'un élément apparaît dans une liste."
   ]
  },
  {
   "cell_type": "code",
   "execution_count": null,
   "id": "a7233350",
   "metadata": {},
   "outputs": [],
   "source": [
    "my_list = [4, 2, 9, 12, 4, 32, 13, 8, 78, 1, 4, 21, 7, 4, 1, 3, 5, 4, 6]\n",
    "\n",
    "my_dict = {}\n",
    "\n",
    "for i in my_list:\n",
    "    if i in my_dict:\n",
    "        my_dict[i] += 1\n",
    "    else:\n",
    "        my_dict[i] = 1\n",
    "\n",
    "for cle, valeur in my_dict.items():\n",
    "    print(f\"{cle} apparaît {valeur} fois\")"
   ]
  },
  {
   "cell_type": "markdown",
   "id": "b2320aae",
   "metadata": {},
   "source": [
    "Exo 64: Créer un programme qui enlève tous les éléments d'une liste qui sont inférieurs à 10."
   ]
  },
  {
   "cell_type": "code",
   "execution_count": null,
   "id": "0cee65b2",
   "metadata": {},
   "outputs": [],
   "source": [
    "my_list = [4, 2, 9, 12, 4, 32, 13, 8, 78, 1, 4, 21, 7, 4, 1, 3, 5, 4, 6]\n",
    "stock_list = []\n",
    "\n",
    "for i in range(len(my_list)):\n",
    "    if i >= 10:\n",
    "        stock_list.append(i)\n",
    "\n",
    "print(stock_list)"
   ]
  },
  {
   "cell_type": "markdown",
   "id": "24a97fec",
   "metadata": {},
   "source": [
    "Exo 65: Parcourir un dictionnaire et afficher ses clés et valeurs."
   ]
  },
  {
   "cell_type": "code",
   "execution_count": null,
   "id": "e6c88c84",
   "metadata": {},
   "outputs": [],
   "source": [
    "my_dict = {\n",
    "    'nom': 'Alice',\n",
    "    'age': 25,\n",
    "    'ville': 'Paris',\n",
    "    'profession': 'Développeuse',\n",
    "    'langages': ['Python', 'JavaScript', 'C++']\n",
    "}\n",
    "\n",
    "for cle,valeur in my_dict.items():\n",
    "    print(f\"{cle} : {valeur}\")\n",
    "\n",
    "# Ceci est une deuxieme façon de faire cette boucle en utilisant enumrate()\n",
    "# for cle,valeur in enumerate(my_dict):\n",
    "#     print(f\"{valeur} : {my_dict[valeur]}\")"
   ]
  },
  {
   "cell_type": "markdown",
   "id": "d23610db",
   "metadata": {},
   "source": [
    "Exo 66: Utiliser une boucle pour compter le nombre de voyelles dans une chaîne de caractères."
   ]
  },
  {
   "cell_type": "code",
   "execution_count": null,
   "id": "0c8ba5c9",
   "metadata": {},
   "outputs": [],
   "source": [
    "string_chain = \"La programmation c'est trop cool !!\"\n",
    "vowels = [\"a\",\"e\",\"i\",\"o\",\"u\",\"y\"]\n",
    "count = 0\n",
    "\n",
    "for letter in string_chain:\n",
    "    if letter in vowels:  # on peut faire letter.lower() si on veut compter les voyelles même si c'est en majuscule de base\n",
    "        count += 1\n",
    "\n",
    "print(f\"dans la phrase : {string_chain} il y a {count} voyelles\")"
   ]
  },
  {
   "cell_type": "markdown",
   "id": "8e17264f",
   "metadata": {},
   "source": [
    "Exo 67: Écrire une boucle qui fusionne deux listes en une seule."
   ]
  },
  {
   "cell_type": "code",
   "execution_count": null,
   "id": "8145bf03",
   "metadata": {},
   "outputs": [],
   "source": [
    "elements = [8, 9, 'mrt', 97, True, 1.2]\n",
    "my_list = [4, 2, 9, 12, 4, 32, 13, 8, 78]\n",
    "\n",
    "for element in my_list:\n",
    "    elements.append(element)\n",
    "\n",
    "# Autre solution possible :\n",
    "# elements.extend(my_list)\n",
    "# elements = elements + my_list\n",
    "print(elements)"
   ]
  },
  {
   "cell_type": "markdown",
   "id": "317f5393",
   "metadata": {},
   "source": [
    "Exo 68: Utiliser une boucle pour trouver l'élément le plus grand dans une liste."
   ]
  },
  {
   "cell_type": "code",
   "execution_count": null,
   "id": "ead34daf",
   "metadata": {},
   "outputs": [],
   "source": [
    "my_list = [4, 2, 9, 12, 4, 32, 13, 8, 78, 1, 4, 21, 7, 4, 1, 3, 5, 4, 6]\n",
    "bigger_number = my_list[0]\n",
    "\n",
    "for number in my_list[1:]:\n",
    "    if number > bigger_number:\n",
    "        bigger_number = number\n",
    "\n",
    "print(bigger_number)"
   ]
  },
  {
   "cell_type": "markdown",
   "id": "820e2420",
   "metadata": {},
   "source": [
    "Exo 69: Créer une boucle qui copie tous les éléments d'une liste dans une autre liste."
   ]
  },
  {
   "cell_type": "code",
   "execution_count": null,
   "id": "23763508",
   "metadata": {},
   "outputs": [],
   "source": [
    "first_list = [8, 9, 'mrt', 97, True, 1.2, 4, 2, 9, 12, 4, 32, 13, 8, 78]\n",
    "second_list = []\n",
    "\n",
    "for element in first_list:\n",
    "    second_list.append(element)\n",
    "\n",
    "print(second_list)"
   ]
  },
  {
   "cell_type": "markdown",
   "id": "6d19fcd3",
   "metadata": {},
   "source": [
    "Exo 70: Écrire une boucle qui trie une liste sans utiliser la méthode .sort()."
   ]
  },
  {
   "cell_type": "code",
   "execution_count": null,
   "id": "de63a9aa",
   "metadata": {},
   "outputs": [],
   "source": [
    "messy_list = [4, 2, 9, 12, 32, 13, 8, 78, 14, 21, 7, 1, 3, 5, 6]\n",
    "\n",
    "for j in range(len(messy_list)):\n",
    "    for i in range(len(messy_list)-1):\n",
    "        if messy_list[i] > messy_list[i +1] :\n",
    "            messy_list[i], messy_list[i+1] = messy_list[i+1], messy_list[i]\n",
    "\n",
    "print(messy_list)"
   ]
  },
  {
   "cell_type": "markdown",
   "id": "6f0e8493",
   "metadata": {},
   "source": [
    "Exo 71: Créer une boucle qui affiche tous les nombres premiers entre 1 et 100."
   ]
  },
  {
   "cell_type": "code",
   "execution_count": null,
   "id": "5976c9c2",
   "metadata": {},
   "outputs": [],
   "source": [
    "prime_number = [] \n",
    "\n",
    "for i in range(2,101): \n",
    "    for number in range(2,i-1): \n",
    "        if i % number == 0 : \n",
    "            break  \n",
    "    else:\n",
    "        prime_number.append(i)\n",
    "\n",
    "print(prime_number)"
   ]
  },
  {
   "cell_type": "markdown",
   "id": "7f27f5e0",
   "metadata": {},
   "source": [
    "Exo 72: Écrire une boucle qui calcule le produit de tous les éléments d'une liste."
   ]
  },
  {
   "cell_type": "code",
   "execution_count": null,
   "id": "b88ce32a",
   "metadata": {},
   "outputs": [],
   "source": [
    "my_list = [1, 2, 3, 5, 7, 9, 11, 13, 15, 17, 19, 21, 23, 25, 27, 29, 31, 33, 35]\n",
    "produit = 1\n",
    "\n",
    "for number in my_list:\n",
    "    produit *= number\n",
    "    \n",
    "print(produit)\n"
   ]
  },
  {
   "cell_type": "markdown",
   "id": "32386d09",
   "metadata": {},
   "source": [
    "Exo 73: Utiliser une boucle pour calculer la moyenne d'une liste de nombres."
   ]
  },
  {
   "cell_type": "code",
   "execution_count": null,
   "id": "92a66eea",
   "metadata": {},
   "outputs": [],
   "source": [
    "my_list = [1, 2, 3, 5, 7, 9, 11, 13, 15, 17, 19, 21, 23, 25, 27, 29, 31, 33, 35]\n",
    "total = 0\n",
    "\n",
    "for number in my_list:\n",
    "    total += number\n",
    "\n",
    "print(round(total / len(my_list),2))"
   ]
  },
  {
   "cell_type": "markdown",
   "id": "5dc08907",
   "metadata": {},
   "source": [
    "Exo 74: Écrire une boucle qui vérifie si un nombre est un palindrome numérique."
   ]
  },
  {
   "cell_type": "code",
   "execution_count": null,
   "id": "f215f990",
   "metadata": {},
   "outputs": [],
   "source": [
    "number = 12\n",
    "number_str = str(number)\n",
    "\n",
    "if number_str == number_str[::-1]:\n",
    "    print(f\"{number_str} est un palindrome numérique\")\n",
    "else:\n",
    "    print(f\"{number_str} est pas un palindrome numérique\")\n",
    "    "
   ]
  },
  {
   "cell_type": "markdown",
   "id": "662e2d20",
   "metadata": {},
   "source": [
    "Exo 75: Créer une boucle qui calcule les 10 premiers termes de la suite de Fibonacci."
   ]
  },
  {
   "cell_type": "code",
   "execution_count": null,
   "id": "7bb9881c",
   "metadata": {},
   "outputs": [],
   "source": [
    "fibonnaci = []\n",
    "\n",
    "for i in range(11):\n",
    "    if i == 0 or i == 1:\n",
    "        fibonnaci.append(i)\n",
    "    else:\n",
    "        last_number = fibonnaci[i-1]\n",
    "        penultimate_number = fibonnaci[i-2]\n",
    "        new_fibonnaci_number = last_number + penultimate_number\n",
    "        fibonnaci.append(new_fibonnaci_number)\n",
    "\n",
    "print(fibonnaci)"
   ]
  },
  {
   "cell_type": "markdown",
   "id": "18d29f24",
   "metadata": {},
   "source": [
    "Exo 76: Utiliser une boucle pour vérifier si un nombre est parfait."
   ]
  },
  {
   "cell_type": "code",
   "execution_count": null,
   "id": "e39f5767",
   "metadata": {},
   "outputs": [],
   "source": [
    "number = int(input(\"Veuillez saisir un nombre\"))\n",
    "sum_number = 0\n",
    "\n",
    "for i in range(1,number):\n",
    "    if number % i == 0:\n",
    "        sum_number += i\n",
    "\n",
    "if sum_number == number:\n",
    "    print(f\"{number} est un nombre parfait\")\n",
    "else:\n",
    "    print(f\"{number} n'est pas un nombre parfait\")\n"
   ]
  },
  {
   "cell_type": "markdown",
   "id": "0bd12aaa",
   "metadata": {},
   "source": [
    "Exo 77 : Créer une boucle qui génère et affiche les carrés des nombres de 1 à 20."
   ]
  },
  {
   "cell_type": "code",
   "execution_count": null,
   "id": "4a920369",
   "metadata": {},
   "outputs": [],
   "source": [
    "for square_number in range(21):\n",
    "    print(square_number ** 2)"
   ]
  },
  {
   "cell_type": "markdown",
   "id": "d70e200f",
   "metadata": {},
   "source": [
    "Exo 78 : Écrire une boucle qui affiche tous les multiples de 7 inférieurs à 100."
   ]
  },
  {
   "cell_type": "code",
   "execution_count": null,
   "id": "2c29c908",
   "metadata": {},
   "outputs": [],
   "source": [
    "for i in range(100):\n",
    "    if i % 7 == 0:\n",
    "        print(f\"{i} est un nombre divisible par 7\")\n",
    "    else:\n",
    "        print(f\"{i} n'est pas divisible par 7\")"
   ]
  },
  {
   "cell_type": "markdown",
   "id": "69e6e232",
   "metadata": {},
   "source": [
    "Exo 79 : Créer une boucle qui calcule la somme des chiffres d'un nombre donné."
   ]
  },
  {
   "cell_type": "code",
   "execution_count": 11,
   "id": "5f8fa324",
   "metadata": {},
   "outputs": [
    {
     "name": "stdout",
     "output_type": "stream",
     "text": [
      "8\n"
     ]
    }
   ],
   "source": [
    "number = input(\"Veuillez saisir un nombre\")\n",
    "sum_number = 0\n",
    "\n",
    "for chiffre in number:\n",
    "    sum_number += int(chiffre)\n",
    "\n",
    "print(sum_number)"
   ]
  },
  {
   "cell_type": "markdown",
   "id": "8b5c46af",
   "metadata": {},
   "source": [
    "Exo 80 : Utiliser une boucle pour déterminer si deux listes sont identiques."
   ]
  },
  {
   "cell_type": "code",
   "execution_count": 16,
   "id": "4b1917b1",
   "metadata": {},
   "outputs": [
    {
     "name": "stdout",
     "output_type": "stream",
     "text": [
      "la liste 1 et 2 sont identique\n"
     ]
    }
   ],
   "source": [
    "my_list_0 = [1, 2, 3, 5, 7, 9, 11, 13, 15, 17, 19, 21, 23, 25, 27, 29, 31, 33, 35]\n",
    "my_list_1 = [1, 2, 3, 5, 7, 17, 19, 21, 23, 25, 27, 29, 31, 33, 35, 9, 11, 13, 15]\n",
    "\n",
    "if sorted(my_list_0) == sorted(my_list_1):\n",
    "    print(f\"la liste 1 et 2 sont identique\")\n",
    "else:\n",
    "    print(f\"la liste 1 et 2 ne sont pas identique\")"
   ]
  },
  {
   "cell_type": "markdown",
   "id": "c976df19",
   "metadata": {},
   "source": [
    "Exo 81 : Créer un programme qui vérifie si deux chaînes sont des anagrammes."
   ]
  },
  {
   "cell_type": "code",
   "execution_count": 19,
   "id": "db51c19b",
   "metadata": {},
   "outputs": [
    {
     "name": "stdout",
     "output_type": "stream",
     "text": [
      "ce sont des anagrammes\n"
     ]
    }
   ],
   "source": [
    "first_string = \"silent\"\n",
    "second_string = \"listen\"\n",
    "\n",
    "if sorted(first_string) == sorted(second_string):\n",
    "    print(\"ce sont des anagrammes\")\n",
    "else:\n",
    "    print(\"ce ne sont pas des anagrammes\")"
   ]
  },
  {
   "cell_type": "markdown",
   "id": "5820380a",
   "metadata": {},
   "source": [
    "Exo 82 : Écrire une boucle qui parcourt un texte et compte le nombre de mots."
   ]
  },
  {
   "cell_type": "code",
   "execution_count": 20,
   "id": "56c11695",
   "metadata": {},
   "outputs": [
    {
     "name": "stdout",
     "output_type": "stream",
     "text": [
      "11\n"
     ]
    }
   ],
   "source": [
    "text = \"Python est un langage de programmation puissant et facile à apprendre.\"\n",
    "\n",
    "text_list = text.split()\n",
    "\n",
    "print(len(text_list))"
   ]
  },
  {
   "cell_type": "markdown",
   "id": "89ef494c",
   "metadata": {},
   "source": [
    "Exo 83 : Créer une boucle qui parcourt une liste de listes et affiche la somme de chaque sous-liste."
   ]
  },
  {
   "cell_type": "code",
   "execution_count": 21,
   "id": "ec32a06d",
   "metadata": {},
   "outputs": [
    {
     "name": "stdout",
     "output_type": "stream",
     "text": [
      "4764\n",
      "189\n",
      "97\n",
      "598\n"
     ]
    }
   ],
   "source": [
    "elements = [\n",
    "    (71, 4689, 1, 3),\n",
    "    (5, 89, 79, 4, 12),\n",
    "    (8, 9, 12, 52, 7, 9),\n",
    "    (9, 1, 567, 10, 11)\n",
    "]\n",
    "\n",
    "for tuple in elements:\n",
    "    sum_number = 0\n",
    "    for number in tuple:\n",
    "        sum_number += number\n",
    "    print(sum_number)"
   ]
  },
  {
   "cell_type": "markdown",
   "id": "893a8b71",
   "metadata": {},
   "source": [
    "Exo 84 : Utiliser une boucle pour trier une liste de tuples en fonction de la deuxième valeur."
   ]
  },
  {
   "cell_type": "code",
   "execution_count": 22,
   "id": "ee1f4324",
   "metadata": {},
   "outputs": [
    {
     "name": "stdout",
     "output_type": "stream",
     "text": [
      "[(9, 1, 567, 10, 11), (8, 9, 12, 52, 7, 9), (5, 89, 79, 4, 12), (71, 4689, 1, 3)]\n"
     ]
    }
   ],
   "source": [
    "elements = [\n",
    "    (71, 4689, 1, 3),\n",
    "    (5, 89, 79, 4, 12),\n",
    "    (8, 9, 12, 52, 7, 9),\n",
    "    (9, 1, 567, 10, 11)\n",
    "]\n",
    "\n",
    "for i in range(len(elements) - 1):             # boucle externe\n",
    "    for j in range(len(elements) - 1 - i):     # boucle interne\n",
    "        if elements[j][1] > elements[j + 1][1]:  # comparer la 2ème valeur\n",
    "            elements[j], elements[j + 1] = elements[j + 1], elements[j]  # échange\n",
    "\n",
    "print(elements)\n"
   ]
  }
 ],
 "metadata": {
  "kernelspec": {
   "display_name": ".venv",
   "language": "python",
   "name": "python3"
  },
  "language_info": {
   "codemirror_mode": {
    "name": "ipython",
    "version": 3
   },
   "file_extension": ".py",
   "mimetype": "text/x-python",
   "name": "python",
   "nbconvert_exporter": "python",
   "pygments_lexer": "ipython3",
   "version": "3.13.7"
  }
 },
 "nbformat": 4,
 "nbformat_minor": 5
}
