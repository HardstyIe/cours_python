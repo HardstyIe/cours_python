{
 "cells": [
  {
   "cell_type": "markdown",
   "id": "c5ab80b1",
   "metadata": {},
   "source": [
    "Exo 1: Écrire un programme qui vérifie si un nombre donné est supérieur à 10."
   ]
  },
  {
   "cell_type": "code",
   "execution_count": null,
   "id": "01d5265c",
   "metadata": {},
   "outputs": [],
   "source": [
    "number = 10\n",
    "\n",
    "if number > 10 : \n",
    "    print(\"le nombre est supérieur a 10\")"
   ]
  },
  {
   "cell_type": "markdown",
   "id": "ccb74ec1",
   "metadata": {},
   "source": [
    "Exo 2: Vérifier si un nombre donné est positif, négatif ou nul."
   ]
  },
  {
   "cell_type": "code",
   "execution_count": null,
   "id": "f4a93974",
   "metadata": {},
   "outputs": [],
   "source": [
    "a = 10\n",
    "\n",
    "if a < 0 :\n",
    "    print(\"ce nombre est négatif\")\n",
    "elif a == 0 :\n",
    "    print(\"ce nombre est nul\")\n",
    "elif a > 0 :\n",
    "    print(\"ce nombre est positif\")"
   ]
  },
  {
   "cell_type": "markdown",
   "id": "8545dfbf",
   "metadata": {},
   "source": [
    "Exo 3: Créer un programme qui affiche \"Vous êtes mineur\" si l’âge est inférieur à 18."
   ]
  },
  {
   "cell_type": "code",
   "execution_count": null,
   "id": "7c614da5",
   "metadata": {},
   "outputs": [],
   "source": [
    "age = 17\n",
    "\n",
    "if age < 18 :\n",
    "    print(\"vous êtes mineur\")"
   ]
  },
  {
   "cell_type": "markdown",
   "id": "b82b6da7",
   "metadata": {},
   "source": [
    "Exo 4: Écrire un programme qui vérifie si une chaîne de caractères est vide ou non."
   ]
  },
  {
   "cell_type": "code",
   "execution_count": null,
   "id": "e49c1ad8",
   "metadata": {},
   "outputs": [],
   "source": [
    "chaine_charactere_vide = \"\"\n",
    "\n",
    "if chaine_charactere_vide : \n",
    "    print(\"la chaine de characteres est rempli\")\n",
    "else:\n",
    "    print(\"la chaine de characteres est vide\")"
   ]
  },
  {
   "cell_type": "markdown",
   "id": "251b3fcd",
   "metadata": {},
   "source": [
    "Exo 5: Vérifier si un nombre est pair ou impair."
   ]
  },
  {
   "cell_type": "code",
   "execution_count": null,
   "id": "f94e05e6",
   "metadata": {},
   "outputs": [],
   "source": [
    "a = 155\n",
    "\n",
    "if a % 2 == 0:\n",
    "    print(\"le nombre est pair\")\n",
    "else:\n",
    "    print(\"le nombre est impair\")\n"
   ]
  },
  {
   "cell_type": "markdown",
   "id": "0c757500",
   "metadata": {},
   "source": [
    "Exo 6: Écrire un programme qui compare deux nombres et affiche le plus grand.\n"
   ]
  },
  {
   "cell_type": "code",
   "execution_count": null,
   "id": "500ccb93",
   "metadata": {},
   "outputs": [],
   "source": [
    "a = 5\n",
    "b = 5\n",
    "\n",
    "if a < b :\n",
    "    print(f\"b: {b} est le nombre le plus grand\")\n",
    "elif a > b:\n",
    "    print(f\"a: {a} est le nombre le plus grand\")\n",
    "else :\n",
    "    print(\"tu utilise les meme nombres\")\n"
   ]
  },
  {
   "cell_type": "markdown",
   "id": "e3c43c28",
   "metadata": {},
   "source": [
    "Exo 7: Vérifier si un nombre est divisible par 3 ou par 5."
   ]
  },
  {
   "cell_type": "code",
   "execution_count": null,
   "id": "92c89170",
   "metadata": {},
   "outputs": [],
   "source": [
    "a = 5\n",
    "\n",
    "if a % 5 ==0 and a % 3 == 0:\n",
    "    print(f\"{a} est divislbe par 3 et par 5\")\n",
    "elif a % 3 == 0 :\n",
    "    print(f\"{a} est divisible par 3\")\n",
    "elif a % 5 == 0 :\n",
    "    print(f\"{a} est divisible par 5\")"
   ]
  },
  {
   "cell_type": "markdown",
   "id": "89eb87b9",
   "metadata": {},
   "source": [
    "Exo 8: Demander à l'utilisateur un mot de passe et vérifier s'il correspond à \"admin\"."
   ]
  },
  {
   "cell_type": "code",
   "execution_count": null,
   "id": "56e8d7a9",
   "metadata": {},
   "outputs": [],
   "source": [
    "admin = \"admin\"\n",
    "input_utilisateur = input(\"Veuillez saisir un mot de passe\")\n",
    "\n",
    "if input_utilisateur == admin:\n",
    "    print(\"le mot de passe correspond\")\n",
    "else :\n",
    "    print(\"le mot de passe ne correspond pas\")"
   ]
  },
  {
   "cell_type": "markdown",
   "id": "30764dbe",
   "metadata": {},
   "source": [
    "Exo 9: Créer un programme qui vérifie si une lettre est une voyelle ou une consonne."
   ]
  },
  {
   "cell_type": "code",
   "execution_count": null,
   "id": "b010b408",
   "metadata": {},
   "outputs": [],
   "source": [
    "lettre = \"a\"\n",
    "\n",
    "voyelle = [\"a\",\"e\",\"i\",\"o\",\"u\",\"y\"]\n",
    "\n",
    "if lettre in voyelle :\n",
    "    print(\"la lettre est une voyelle\")\n",
    "elif lettre not in voyelle:\n",
    "    print(\"la lettre est une consonne\")"
   ]
  },
  {
   "cell_type": "markdown",
   "id": "2a8d0362",
   "metadata": {},
   "source": [
    "Exo 10: Vérifier si une liste est vide ou non."
   ]
  },
  {
   "cell_type": "code",
   "execution_count": null,
   "id": "ba14a2a5",
   "metadata": {},
   "outputs": [],
   "source": [
    "liste = []\n",
    "\n",
    "if liste :\n",
    "    print(\"la liste contient des informations\")\n",
    "else:\n",
    "    print(\"la liste est vide\")"
   ]
  },
  {
   "cell_type": "markdown",
   "id": "5f0d679d",
   "metadata": {},
   "source": [
    "Exo 11: Écrire un programme qui vérifie si un nombre est compris entre 10 et 20."
   ]
  },
  {
   "cell_type": "code",
   "execution_count": null,
   "id": "875fc083",
   "metadata": {},
   "outputs": [],
   "source": [
    "a = 20\n",
    "\n",
    "if a < 10 or a > 20:\n",
    "    print(f\"{a} n'est pas compris entre 10 et 20\")\n",
    "elif a >= 10 and a <= 20:\n",
    "    print(f\"{a} est compris entre 10 et 20\")"
   ]
  },
  {
   "cell_type": "markdown",
   "id": "9e36e0e4",
   "metadata": {},
   "source": [
    "Exo 12: Demander à l'utilisateur un âge et afficher s'il est un enfant (moins de 12 ans), un adolescent (entre 12 et 18 ans) ou un adulte (plus de 18 ans).\n"
   ]
  },
  {
   "cell_type": "code",
   "execution_count": null,
   "id": "f197fa86",
   "metadata": {},
   "outputs": [],
   "source": [
    "age_utilisateur = input(\"Veuillez rentrée votre age\")\n",
    "age_utilisateur_int = int(age_utilisateur)\n",
    "\n",
    "if age_utilisateur_int < 12 :\n",
    "    print(f\"tu as {age_utilisateur_int}ans, tu est donc un enfant\")\n",
    "elif age_utilisateur_int >= 12 and age_utilisateur_int < 18 :\n",
    "    print(f\"tu as {age_utilisateur_int}ans, tu est donc un adolescent\")\n",
    "elif age_utilisateur_int >= 18 :\n",
    "    print(f\"tu as {age_utilisateur_int}ans, tu est donc un adulte\")"
   ]
  },
  {
   "cell_type": "markdown",
   "id": "285b13e4",
   "metadata": {},
   "source": [
    "Exo 13: Créer un programme qui vérifie si une année est bissextile ou non."
   ]
  },
  {
   "cell_type": "code",
   "execution_count": null,
   "id": "a64ad7d1",
   "metadata": {},
   "outputs": [],
   "source": [
    "year = 2012\n",
    "\n",
    "\n",
    "if year % 4 == 0 and year % 100 != 0 or year % 400 == 0:\n",
    "    print(f\"{year} est une année bissextiles\")\n",
    "else:\n",
    "    print(f\"{year} n'est pas une année bissextiles\")"
   ]
  },
  {
   "cell_type": "markdown",
   "id": "479ee636",
   "metadata": {},
   "source": [
    "Exo 14: Vérifier si un nombre est positif et multiple de 5"
   ]
  },
  {
   "cell_type": "code",
   "execution_count": null,
   "id": "4985d6cf",
   "metadata": {},
   "outputs": [],
   "source": [
    "a = 5\n",
    "\n",
    "if a > 0:\n",
    "    \n",
    "    if a % 5 == 0:\n",
    "        print(f\"{a} est un multiple de 5\")\n",
    "    else:\n",
    "        print(f\"{a} n'est pas un multiple de 5\")\n",
    "else: \n",
    "    print(f\"le nombre {a} n'est pas positif\")"
   ]
  },
  {
   "cell_type": "markdown",
   "id": "545d9c69",
   "metadata": {},
   "source": [
    "Exo 15: Écrire un programme qui vérifie si une chaîne de caractères contient la lettre 'a'."
   ]
  },
  {
   "cell_type": "code",
   "execution_count": null,
   "id": "ca2be8e7",
   "metadata": {},
   "outputs": [],
   "source": [
    "liste_charactere = \"bcdef\"\n",
    "\n",
    "if \"a\" in liste_charactere :\n",
    "    print(\"la lettre \\\"a\\\" est présente dans la liste \")\n",
    "else:\n",
    "    print(\"la lettre \\\"a\\\" n'est pas présente dans la liste\")"
   ]
  },
  {
   "cell_type": "markdown",
   "id": "fbdb8c96",
   "metadata": {},
   "source": [
    "Exo 16: Vérifier si un nombre est divisible à la fois par 2 et par 3, mais pas par 9."
   ]
  },
  {
   "cell_type": "code",
   "execution_count": null,
   "id": "868f4446",
   "metadata": {},
   "outputs": [],
   "source": [
    "a = 18\n",
    "\n",
    "if a % 2 == 0 and a % 3 == 0 and a % 9 != 0:\n",
    "    print(\"ce chiffre est divisable par 2 et 3 mais pas par 9\") \n",
    "elif a % 9 == 0:\n",
    "    print(\"ce chiffre est divisable par 9\")"
   ]
  },
  {
   "cell_type": "markdown",
   "id": "6baff572",
   "metadata": {},
   "source": [
    "Exo 17: Demander à l'utilisateur un nom d'utilisateur et un mot de passe, et vérifier si les deux sont corrects."
   ]
  },
  {
   "cell_type": "code",
   "execution_count": null,
   "id": "ba120735",
   "metadata": {},
   "outputs": [],
   "source": [
    "nom_utilisateur = input(\"Quel est ton nom utilisateur\")\n",
    "mot_de_passe = input(\"Quel est ton mot de passe ?\")\n",
    "\n",
    "if nom_utilisateur == \"test\" and mot_de_passe == \"test\" :\n",
    "    print(\"le nom d'utilisateur et mot de passe correspondent\")\n",
    "else:\n",
    "    print(\"les informations ne sont pas correspondantes\")"
   ]
  },
  {
   "cell_type": "markdown",
   "id": "82a1d2df",
   "metadata": {},
   "source": [
    "Exo 18: Écrire un programme qui affiche \"Excellent\" si la note est supérieure à 85, \"Bien\" si elle est entre 70 et 85, sinon afficher \"Peut mieux faire\".\n"
   ]
  },
  {
   "cell_type": "code",
   "execution_count": null,
   "id": "34672abe",
   "metadata": {},
   "outputs": [],
   "source": [
    "note = 68\n",
    "\n",
    "if note > 85:\n",
    "    print(\"Excellente note!\")\n",
    "elif note >= 70 and note <= 85:\n",
    "    print(\"Bien\")\n",
    "else:\n",
    "    print(\"Peut mieux faire\")"
   ]
  },
  {
   "cell_type": "markdown",
   "id": "a9b3d42a",
   "metadata": {},
   "source": [
    "Exo 19: Créer un programme qui vérifie si une chaîne de caractères est un palindrome."
   ]
  },
  {
   "cell_type": "code",
   "execution_count": null,
   "id": "2103e384",
   "metadata": {},
   "outputs": [],
   "source": [
    "palindrome = \"kayak\"\n",
    "\n",
    "if palindrome == palindrome[::-1] :\n",
    "    print(f\"{palindrome} est le palindrome de {palindrome[::-1]}\")\n",
    "else: \n",
    "    print(f\"{palindrome} n'a pas de palindrome\")\n"
   ]
  },
  {
   "cell_type": "markdown",
   "id": "26677a0c",
   "metadata": {},
   "source": [
    "Exo 20: Écrire un programme qui vérifie si un nombre est à la fois positif, pair et supérieur à 100.\n"
   ]
  },
  {
   "cell_type": "code",
   "execution_count": null,
   "id": "52d0b4f6",
   "metadata": {},
   "outputs": [],
   "source": [
    "a = 101\n",
    "\n",
    "if a > 0 :\n",
    "    print(f\"{a} est un nombre positif\")\n",
    "    if a > 100:\n",
    "          print(f\"{a} est supérieur a 100\")\n",
    "\n",
    "          if a % 2 == 0:\n",
    "           print(f\"{a} est un nombre pair\")\n",
    "          else: print(f\"{a} est un nombre impair\")\n",
    "    else: \n",
    "        print(f\"{a} n'est pas supérieur a 100\")\n",
    "else:\n",
    "    print(f\"{a} n'est pas un nombre positif\")"
   ]
  },
  {
   "cell_type": "markdown",
   "id": "b83fba96",
   "metadata": {},
   "source": [
    "Exo 21: Afficher les nombres de 1 à 10 avec une boucle for.\n"
   ]
  },
  {
   "cell_type": "code",
   "execution_count": null,
   "id": "a5d0cf39",
   "metadata": {},
   "outputs": [],
   "source": [
    "for i in range(11):\n",
    " print(i)"
   ]
  },
  {
   "cell_type": "markdown",
   "id": "70892669",
   "metadata": {},
   "source": [
    "Exo 22: Afficher les nombres pairs entre 1 et 20."
   ]
  },
  {
   "cell_type": "code",
   "execution_count": null,
   "id": "ae7ef626",
   "metadata": {},
   "outputs": [],
   "source": [
    "for i in range(21):\n",
    "    if i % 2 == 0:\n",
    "        print(i)"
   ]
  },
  {
   "cell_type": "markdown",
   "id": "6a46e0fb",
   "metadata": {},
   "source": [
    "Exo 23: Utiliser une boucle pour afficher chaque élément d'une liste.\n",
    "\tword_list = ['apple', 'banana', 'cherry']\n"
   ]
  },
  {
   "cell_type": "code",
   "execution_count": null,
   "id": "6d55d005",
   "metadata": {},
   "outputs": [],
   "source": [
    "word_list = ['apple', 'banana', 'cherry']\n",
    "\n",
    "for word in word_list :\n",
    "    print(word)"
   ]
  },
  {
   "cell_type": "markdown",
   "id": "fefaeaad",
   "metadata": {},
   "source": [
    "Exo 24: Demander à l'utilisateur un nombre de 1 à 10 et afficher la table de multiplication."
   ]
  },
  {
   "cell_type": "code",
   "execution_count": null,
   "id": "90958116",
   "metadata": {},
   "outputs": [],
   "source": [
    "number_input = input(\"veuillez saisir un nombre pour obtenir sa table de multiplication\")\n",
    "number = int(number_input)\n",
    "\n",
    "for i in range(11):\n",
    "    print(number * i)"
   ]
  },
  {
   "cell_type": "markdown",
   "id": "4411c579",
   "metadata": {},
   "source": [
    "Exo 25: Afficher les éléments d'une chaîne de caractères un par un."
   ]
  },
  {
   "cell_type": "code",
   "execution_count": null,
   "id": "4975e46b",
   "metadata": {},
   "outputs": [],
   "source": [
    "chaine_characteres = \"test\"\n",
    "\n",
    "for letter in chaine_characteres:\n",
    "    print(letter)"
   ]
  },
  {
   "cell_type": "markdown",
   "id": "86cb4904",
   "metadata": {},
   "source": [
    "Exo 26: Utiliser range() pour afficher les nombres de 0 à 100 avec un pas de 10"
   ]
  },
  {
   "cell_type": "code",
   "execution_count": null,
   "id": "2bec4de1",
   "metadata": {},
   "outputs": [],
   "source": [
    "for i in range(0,110,10):\n",
    "    print(i)"
   ]
  },
  {
   "cell_type": "markdown",
   "id": "f141f7a9",
   "metadata": {},
   "source": [
    "Exo 27: Afficher les éléments d'une liste avec leurs indices."
   ]
  },
  {
   "cell_type": "code",
   "execution_count": null,
   "id": "42bd6d48",
   "metadata": {},
   "outputs": [],
   "source": [
    "word_list = ['apple', 'banana', 'cherry']\n",
    "\n",
    "for i in range(len(word_list)):\n",
    "    print(f\"{word_list[i]} est a la position {i}\")"
   ]
  },
  {
   "cell_type": "markdown",
   "id": "c0c33961",
   "metadata": {},
   "source": [
    "Exo 28: Afficher les nombres de 10 à 1 en ordre décroissant avec une boucle for."
   ]
  },
  {
   "cell_type": "code",
   "execution_count": 50,
   "id": "597d9f50",
   "metadata": {},
   "outputs": [
    {
     "name": "stdout",
     "output_type": "stream",
     "text": [
      "10\n",
      "9\n",
      "8\n",
      "7\n",
      "6\n",
      "5\n",
      "4\n",
      "3\n",
      "2\n",
      "1\n"
     ]
    }
   ],
   "source": [
    "for i in range(10, 0, -1):\n",
    "    print(i)\n"
   ]
  },
  {
   "cell_type": "markdown",
   "id": "54197275",
   "metadata": {},
   "source": [
    "Exo 29 : Créer une boucle qui calcule la somme des nombres de 1 à 50"
   ]
  },
  {
   "cell_type": "code",
   "execution_count": null,
   "id": "4134ee0c",
   "metadata": {},
   "outputs": [],
   "source": [
    "numbers = 0\n",
    "\n",
    "for i in range(51):\n",
    "    numbers += i \n",
    "\n",
    "print(numbers)"
   ]
  },
  {
   "cell_type": "markdown",
   "id": "f0b853b3",
   "metadata": {},
   "source": [
    "Exo 30 : Utiliser une boucle pour afficher les 5 premières lettres de l'alphabet."
   ]
  },
  {
   "cell_type": "code",
   "execution_count": null,
   "id": "41893d3c",
   "metadata": {},
   "outputs": [],
   "source": [
    "import string\n",
    "\n",
    "alphabet = string.ascii_lowercase\n",
    "\n",
    "for index,letter in enumerate(alphabet):\n",
    "    print(letter)\n",
    "    if index == 4:\n",
    "        break"
   ]
  },
  {
   "cell_type": "markdown",
   "id": "570dfb22",
   "metadata": {},
   "source": [
    "Exo 31: Utiliser une boucle while pour afficher les nombres de 1 à 10."
   ]
  },
  {
   "cell_type": "code",
   "execution_count": null,
   "id": "3c2ed32d",
   "metadata": {},
   "outputs": [],
   "source": [
    "number=0\n",
    "\n",
    "while (number < 10):\n",
    "     number += 1\n",
    "     print(number)"
   ]
  },
  {
   "cell_type": "markdown",
   "id": "918d499f",
   "metadata": {},
   "source": [
    "Exo 32: Utiliser une boucle while pour calculer la somme des nombres de 1 à 100."
   ]
  },
  {
   "cell_type": "code",
   "execution_count": null,
   "id": "d3a12d4c",
   "metadata": {},
   "outputs": [],
   "source": [
    "iterator = 1\n",
    "sum_100 = 0\n",
    "while iterator <= 100:\n",
    "     sum_100 += iterator \n",
    "     iterator += 1\n",
    "     print(sum_100)"
   ]
  },
  {
   "cell_type": "markdown",
   "id": "74f90457",
   "metadata": {},
   "source": [
    "Exo 33: Demander à l'utilisateur un nombre et continuer à demander tant que ce nombre est négatif."
   ]
  },
  {
   "cell_type": "code",
   "execution_count": null,
   "id": "a736f211",
   "metadata": {},
   "outputs": [],
   "source": [
    "input_utilisateur = input(\"Veuillez rentrée un nombre\")\n",
    "number = int(input_utilisateur)\n",
    "while number <= 0 :\n",
    "        print(f\"le nombre : {number} est négatif ou nul (dans le cas de 0)\")\n",
    "        input_utilisateur = input(\"Veuillez saisir un nouveaux nombre\")\n",
    "        number = int(input_utilisateur)\n",
    "\n",
    "print(f\"{number} est un nombre positif\")"
   ]
  },
  {
   "cell_type": "markdown",
   "id": "f4babd67",
   "metadata": {},
   "source": [
    "Exo 34 : Créer une boucle infinie qui demande un mot de passe jusqu'à ce qu'il soit correct."
   ]
  },
  {
   "cell_type": "code",
   "execution_count": null,
   "id": "060a6936",
   "metadata": {},
   "outputs": [],
   "source": [
    "input_utilisateur = input(\"Veuillez entré un mot de passe\")\n",
    "\n",
    "while input_utilisateur != \"test\" :\n",
    "    input_utilisateur = input(\"Mot de passe pas bon, veuillez recommencer\")"
   ]
  },
  {
   "cell_type": "markdown",
   "id": "75a72faa",
   "metadata": {},
   "source": [
    "Exo 35 : Utiliser while pour afficher les multiples de 5 entre 1 et 50."
   ]
  },
  {
   "cell_type": "code",
   "execution_count": 51,
   "id": "3a02d96b",
   "metadata": {},
   "outputs": [
    {
     "name": "stdout",
     "output_type": "stream",
     "text": [
      "5 est un multiple de 5\n",
      "10 est un multiple de 5\n",
      "15 est un multiple de 5\n",
      "20 est un multiple de 5\n",
      "25 est un multiple de 5\n",
      "30 est un multiple de 5\n",
      "35 est un multiple de 5\n",
      "40 est un multiple de 5\n",
      "45 est un multiple de 5\n",
      "50 est un multiple de 5\n"
     ]
    }
   ],
   "source": [
    "iterator = 1\n",
    "\n",
    "while iterator <= 50:\n",
    "    iterator += 1\n",
    "    if iterator % 5 == 0:\n",
    "        print(f\"{iterator} est un multiple de 5\")\n"
   ]
  },
  {
   "cell_type": "markdown",
   "id": "bf482d74",
   "metadata": {},
   "source": [
    "Exo 36 : Écrire une boucle qui affiche les nombres de 1 à 10, puis termine avec un message \"Fin de la boucle\"."
   ]
  },
  {
   "cell_type": "code",
   "execution_count": null,
   "id": "ad4b951a",
   "metadata": {},
   "outputs": [],
   "source": [
    "iterator = 0\n",
    "\n",
    "while iterator < 10:\n",
    "    iterator += 1\n",
    "    print(f\"{iterator}\")\n",
    "\n",
    "print(\"fin de la boucle\")"
   ]
  },
  {
   "cell_type": "markdown",
   "id": "9eeb3958",
   "metadata": {},
   "source": [
    "Exo 37 : Créer une boucle while qui décrémente un nombre à partir de 10 jusqu'à 0."
   ]
  },
  {
   "cell_type": "code",
   "execution_count": 43,
   "id": "a852b669",
   "metadata": {},
   "outputs": [
    {
     "name": "stdout",
     "output_type": "stream",
     "text": [
      "10\n",
      "9\n",
      "8\n",
      "7\n",
      "6\n",
      "5\n",
      "4\n",
      "3\n",
      "2\n",
      "1\n",
      "0\n"
     ]
    }
   ],
   "source": [
    "number = 11\n",
    "\n",
    "while number > 0:\n",
    "    number -= 1\n",
    "    print(f\"{number}\")"
   ]
  },
  {
   "cell_type": "markdown",
   "id": "a91c4186",
   "metadata": {},
   "source": [
    "Exo 38: Demander un nombre à l'utilisateur et calculer sa factorielle avec une boucle while."
   ]
  },
  {
   "cell_type": "code",
   "execution_count": null,
   "id": "3c356678",
   "metadata": {},
   "outputs": [
    {
     "name": "stdout",
     "output_type": "stream",
     "text": [
      "2\n",
      "6\n",
      "24\n",
      "120\n",
      "720\n",
      "5040\n",
      "40320\n",
      "362880\n",
      "3628800\n"
     ]
    }
   ],
   "source": [
    "iterateur = 10\n",
    "start = 1\n",
    "n = 1\n",
    "\n",
    "while start < iterateur:\n",
    "    start += 1\n",
    "    n *= start\n",
    "    print(n)\n"
   ]
  },
  {
   "cell_type": "markdown",
   "id": "23d7c5e3",
   "metadata": {},
   "source": [
    "Exo 39: Afficher les nombres pairs de 2 à 200 s'ils sont divisibles par 3 avec une boucle while."
   ]
  },
  {
   "cell_type": "code",
   "execution_count": 54,
   "id": "3ffd8b48",
   "metadata": {},
   "outputs": [
    {
     "name": "stdout",
     "output_type": "stream",
     "text": [
      "2 est un nombre pair\n",
      "4 est un nombre pair\n",
      "6 est un nombre pair\n",
      "6 est aussi un divisble de 3\n",
      "8 est un nombre pair\n",
      "10 est un nombre pair\n",
      "12 est un nombre pair\n",
      "12 est aussi un divisble de 3\n",
      "14 est un nombre pair\n",
      "16 est un nombre pair\n",
      "18 est un nombre pair\n",
      "18 est aussi un divisble de 3\n",
      "20 est un nombre pair\n",
      "22 est un nombre pair\n",
      "24 est un nombre pair\n",
      "24 est aussi un divisble de 3\n",
      "26 est un nombre pair\n",
      "28 est un nombre pair\n",
      "30 est un nombre pair\n",
      "30 est aussi un divisble de 3\n",
      "32 est un nombre pair\n",
      "34 est un nombre pair\n",
      "36 est un nombre pair\n",
      "36 est aussi un divisble de 3\n",
      "38 est un nombre pair\n",
      "40 est un nombre pair\n",
      "42 est un nombre pair\n",
      "42 est aussi un divisble de 3\n",
      "44 est un nombre pair\n",
      "46 est un nombre pair\n",
      "48 est un nombre pair\n",
      "48 est aussi un divisble de 3\n",
      "50 est un nombre pair\n",
      "52 est un nombre pair\n",
      "54 est un nombre pair\n",
      "54 est aussi un divisble de 3\n",
      "56 est un nombre pair\n",
      "58 est un nombre pair\n",
      "60 est un nombre pair\n",
      "60 est aussi un divisble de 3\n",
      "62 est un nombre pair\n",
      "64 est un nombre pair\n",
      "66 est un nombre pair\n",
      "66 est aussi un divisble de 3\n",
      "68 est un nombre pair\n",
      "70 est un nombre pair\n",
      "72 est un nombre pair\n",
      "72 est aussi un divisble de 3\n",
      "74 est un nombre pair\n",
      "76 est un nombre pair\n",
      "78 est un nombre pair\n",
      "78 est aussi un divisble de 3\n",
      "80 est un nombre pair\n",
      "82 est un nombre pair\n",
      "84 est un nombre pair\n",
      "84 est aussi un divisble de 3\n",
      "86 est un nombre pair\n",
      "88 est un nombre pair\n",
      "90 est un nombre pair\n",
      "90 est aussi un divisble de 3\n",
      "92 est un nombre pair\n",
      "94 est un nombre pair\n",
      "96 est un nombre pair\n",
      "96 est aussi un divisble de 3\n",
      "98 est un nombre pair\n",
      "100 est un nombre pair\n",
      "102 est un nombre pair\n",
      "102 est aussi un divisble de 3\n",
      "104 est un nombre pair\n",
      "106 est un nombre pair\n",
      "108 est un nombre pair\n",
      "108 est aussi un divisble de 3\n",
      "110 est un nombre pair\n",
      "112 est un nombre pair\n",
      "114 est un nombre pair\n",
      "114 est aussi un divisble de 3\n",
      "116 est un nombre pair\n",
      "118 est un nombre pair\n",
      "120 est un nombre pair\n",
      "120 est aussi un divisble de 3\n",
      "122 est un nombre pair\n",
      "124 est un nombre pair\n",
      "126 est un nombre pair\n",
      "126 est aussi un divisble de 3\n",
      "128 est un nombre pair\n",
      "130 est un nombre pair\n",
      "132 est un nombre pair\n",
      "132 est aussi un divisble de 3\n",
      "134 est un nombre pair\n",
      "136 est un nombre pair\n",
      "138 est un nombre pair\n",
      "138 est aussi un divisble de 3\n",
      "140 est un nombre pair\n",
      "142 est un nombre pair\n",
      "144 est un nombre pair\n",
      "144 est aussi un divisble de 3\n",
      "146 est un nombre pair\n",
      "148 est un nombre pair\n",
      "150 est un nombre pair\n",
      "150 est aussi un divisble de 3\n",
      "152 est un nombre pair\n",
      "154 est un nombre pair\n",
      "156 est un nombre pair\n",
      "156 est aussi un divisble de 3\n",
      "158 est un nombre pair\n",
      "160 est un nombre pair\n",
      "162 est un nombre pair\n",
      "162 est aussi un divisble de 3\n",
      "164 est un nombre pair\n",
      "166 est un nombre pair\n",
      "168 est un nombre pair\n",
      "168 est aussi un divisble de 3\n",
      "170 est un nombre pair\n",
      "172 est un nombre pair\n",
      "174 est un nombre pair\n",
      "174 est aussi un divisble de 3\n",
      "176 est un nombre pair\n",
      "178 est un nombre pair\n",
      "180 est un nombre pair\n",
      "180 est aussi un divisble de 3\n",
      "182 est un nombre pair\n",
      "184 est un nombre pair\n",
      "186 est un nombre pair\n",
      "186 est aussi un divisble de 3\n",
      "188 est un nombre pair\n",
      "190 est un nombre pair\n",
      "192 est un nombre pair\n",
      "192 est aussi un divisble de 3\n",
      "194 est un nombre pair\n",
      "196 est un nombre pair\n",
      "198 est un nombre pair\n",
      "198 est aussi un divisble de 3\n",
      "200 est un nombre pair\n"
     ]
    }
   ],
   "source": [
    "iterator = 1\n",
    "\n",
    "while iterator <= 200:\n",
    "    if iterator % 2 == 0:\n",
    "        print(f\"{iterator} est un nombre pair\")\n",
    "        if iterator % 3 == 0:\n",
    "            print(f\"{iterator} est aussi un divisble de 3\")\n",
    "    iterator += 1   "
   ]
  },
  {
   "cell_type": "markdown",
   "id": "3c3df392",
   "metadata": {},
   "source": [
    "Exo 40: Écrire un programme qui demande à l'utilisateur de saisir des nombres positifs et de les ajouter à une liste. Le programme doit continuer à demander des nombres tant que la longueur de la liste ne dépasse pas 5."
   ]
  },
  {
   "cell_type": "code",
   "execution_count": 97,
   "id": "2a111234",
   "metadata": {},
   "outputs": [
    {
     "name": "stdout",
     "output_type": "stream",
     "text": [
      "Erreur: vous n'avez pas mis un nombre\n",
      "voici la liste final [5, 9, 2, 0, -8]\n"
     ]
    }
   ],
   "source": [
    "liste = []\n",
    "\n",
    "while len(liste) < 5:\n",
    "    try:\n",
    "        input_utilisateur = input(f\"Veuillez saisir un nombre (il manque encore {5 - len(liste)} nombre(s) dans la liste)\")\n",
    "        number = int(input_utilisateur)\n",
    "        liste.append(number)\n",
    "    except ValueError:\n",
    "        print(\"Erreur: vous n'avez pas mis un nombre\")\n",
    "\n",
    "print(f\"voici la liste final {liste}\")\n",
    "\n"
   ]
  },
  {
   "cell_type": "markdown",
   "id": "81cde350",
   "metadata": {},
   "source": [
    "Exo 41: Utiliser une boucle pour afficher les nombres de 1 à 20, mais arrêter dès que vous atteignez 10."
   ]
  },
  {
   "cell_type": "code",
   "execution_count": 65,
   "id": "7f8db2b8",
   "metadata": {},
   "outputs": [
    {
     "name": "stdout",
     "output_type": "stream",
     "text": [
      "0\n",
      "1\n",
      "2\n",
      "3\n",
      "4\n",
      "5\n",
      "6\n",
      "7\n",
      "8\n",
      "9\n"
     ]
    }
   ],
   "source": [
    "for i in range(0,21,1):\n",
    "    if i == 10 : break\n",
    "    print(i)"
   ]
  },
  {
   "cell_type": "markdown",
   "id": "60da1ea2",
   "metadata": {},
   "source": [
    "Exo 42: Créer une boucle qui demande un nombre et s'arrête si le nombre est 0."
   ]
  },
  {
   "cell_type": "code",
   "execution_count": 98,
   "id": "6eee33b8",
   "metadata": {},
   "outputs": [
    {
     "name": "stdout",
     "output_type": "stream",
     "text": [
      "Vous avez correctement entrée le : 0\n"
     ]
    }
   ],
   "source": [
    "user_input = int(input(\"Veuillez saisir un nombre\"))\n",
    "\n",
    "while user_input != 0:\n",
    "  user_input = int(input(\"Veuillez saisir un nombre\"))\n",
    "\n",
    "print(\"Vous avez correctement entrée le : 0\")"
   ]
  },
  {
   "cell_type": "markdown",
   "id": "7c6cb9c5",
   "metadata": {},
   "source": [
    "Exo 43: Utiliser continue pour afficher uniquement les nombres impairs de 1 à 10."
   ]
  },
  {
   "cell_type": "code",
   "execution_count": 96,
   "id": "b3908cca",
   "metadata": {},
   "outputs": [
    {
     "name": "stdout",
     "output_type": "stream",
     "text": [
      "1 est un nombre impair\n",
      "3 est un nombre impair\n",
      "5 est un nombre impair\n",
      "7 est un nombre impair\n",
      "9 est un nombre impair\n"
     ]
    }
   ],
   "source": [
    "iterator = 0\n",
    "\n",
    "while iterator < 10:\n",
    "    iterator += 1\n",
    "    if iterator % 2 == 0 : \n",
    "        continue\n",
    "    print(f\"{iterator} est un nombre impair\")"
   ]
  },
  {
   "cell_type": "markdown",
   "id": "bd6079de",
   "metadata": {},
   "source": [
    "Exo 44: Écrire une boucle qui affiche les nombres de 1 à 20, mais saute les multiples de 3."
   ]
  },
  {
   "cell_type": "code",
   "execution_count": 99,
   "id": "84ce2cbd",
   "metadata": {},
   "outputs": [
    {
     "name": "stdout",
     "output_type": "stream",
     "text": [
      "1\n",
      "2\n",
      "4\n",
      "5\n",
      "7\n",
      "8\n",
      "10\n",
      "11\n",
      "13\n",
      "14\n",
      "16\n",
      "17\n",
      "19\n",
      "20\n"
     ]
    }
   ],
   "source": [
    "for i in range(21):\n",
    "    if i % 3 == 0:\n",
    "        continue\n",
    "    print(i)"
   ]
  },
  {
   "cell_type": "markdown",
   "id": "6e63ace7",
   "metadata": {},
   "source": [
    "Exo 45: Demander à l'utilisateur un nombre et afficher tous les nombres de 1 à ce nombre, sauf ceux divisibles par 4."
   ]
  },
  {
   "cell_type": "code",
   "execution_count": 100,
   "id": "488c712e",
   "metadata": {},
   "outputs": [
    {
     "name": "stdout",
     "output_type": "stream",
     "text": [
      "1\n",
      "2\n",
      "3\n",
      "5\n",
      "6\n",
      "7\n",
      "9\n",
      "10\n",
      "11\n",
      "13\n",
      "14\n",
      "15\n",
      "17\n",
      "18\n"
     ]
    }
   ],
   "source": [
    "user_input = int(input(\"Veuillez rentrée un nombre\"))\n",
    "iteration = 0\n",
    "while iteration < user_input :\n",
    "    iteration += 1\n",
    "    if iteration % 4 == 0:\n",
    "        continue\n",
    "    print(iteration)"
   ]
  },
  {
   "cell_type": "markdown",
   "id": "7175d6d2",
   "metadata": {},
   "source": [
    "Exo 46: Créer une boucle qui affiche les éléments d'une liste mais s'arrête dès qu'elle rencontre un élément spécifique."
   ]
  },
  {
   "cell_type": "code",
   "execution_count": 111,
   "id": "64e82b1c",
   "metadata": {},
   "outputs": [
    {
     "name": "stdout",
     "output_type": "stream",
     "text": [
      "apple\n",
      "banana\n"
     ]
    }
   ],
   "source": [
    "elements = ['apple', 'banana', 'cherry', 'orange', 'grape']\n",
    "stop_element = 'cherry'\n",
    "\n",
    "for fruit in elements:\n",
    "    if fruit == stop_element:\n",
    "        break\n",
    "    print(fruit)\n"
   ]
  },
  {
   "cell_type": "markdown",
   "id": "3543730f",
   "metadata": {},
   "source": [
    "Exo 47: Utiliser break pour quitter une boucle infinie après 5 itérations."
   ]
  },
  {
   "cell_type": "code",
   "execution_count": null,
   "id": "ed84a359",
   "metadata": {},
   "outputs": [
    {
     "name": "stdout",
     "output_type": "stream",
     "text": [
      "1\n",
      "2\n",
      "3\n",
      "4\n",
      "5\n"
     ]
    }
   ],
   "source": [
    "iteration = 0\n",
    "\n",
    "while True:\n",
    "    iteration += 1\n",
    "    if iteration >= 6:\n",
    "        break\n",
    "    print(iteration)"
   ]
  },
  {
   "cell_type": "markdown",
   "id": "30906944",
   "metadata": {},
   "source": [
    "Exo 48: Utiliser continue pour ignorer les lettres 'a' et 'e' lors de l'affichage des lettres d'un mot."
   ]
  },
  {
   "cell_type": "code",
   "execution_count": 122,
   "id": "1cf95167",
   "metadata": {},
   "outputs": [
    {
     "name": "stdout",
     "output_type": "stream",
     "text": [
      "b\n",
      "c\n",
      "d\n",
      "f\n",
      "g\n",
      "h\n",
      "i\n",
      "j\n",
      "k\n",
      "l\n",
      "m\n",
      "n\n",
      "o\n",
      "p\n",
      "q\n",
      "r\n",
      "s\n",
      "t\n",
      "u\n",
      "v\n",
      "w\n",
      "x\n",
      "y\n",
      "z\n"
     ]
    }
   ],
   "source": [
    "import string\n",
    "\n",
    "alphabet = string.ascii_lowercase\n",
    "\n",
    "for letter in alphabet:\n",
    "    if letter == \"a\" or letter == \"e\":\n",
    "        continue\n",
    "    print(letter)"
   ]
  },
  {
   "cell_type": "markdown",
   "id": "dd574357",
   "metadata": {},
   "source": [
    "Exo 49: Écrire une boucle qui demande à l'utilisateur de saisir un mot, mais qui s'arrête dès qu'il entre \"stop\"."
   ]
  },
  {
   "cell_type": "code",
   "execution_count": null,
   "id": "e9794445",
   "metadata": {},
   "outputs": [],
   "source": [
    "while True:\n",
    "    user_input = input(\"Veuillez rentrer un mot (dite stop pour arreter)\")\n",
    "    if user_input == \"stop\":\n",
    "        break\n",
    "\n",
    "print(\"La boucle est terminée, vous avez entré 'stop'.\")"
   ]
  },
  {
   "cell_type": "markdown",
   "id": "9875bbfa",
   "metadata": {},
   "source": [
    "Exo 50: Afficher les éléments d’une liste, arrêter la boucle si un même élément apparaît une deuxième fois."
   ]
  },
  {
   "cell_type": "code",
   "execution_count": 126,
   "id": "a0c2f06c",
   "metadata": {},
   "outputs": [
    {
     "name": "stdout",
     "output_type": "stream",
     "text": [
      "apple\n",
      "banana\n",
      "cherry\n",
      "orange\n",
      "grape\n"
     ]
    }
   ],
   "source": [
    "elements = ['apple', 'banana', 'cherry', 'orange', 'grape', 'apple', 'banana', 'cherry', 'orange', 'grape']\n",
    "vu = []\n",
    "\n",
    "for fruit in elements:\n",
    "    if fruit in vu:\n",
    "        break\n",
    "    vu.append(fruit)\n",
    "    print(fruit)\n"
   ]
  },
  {
   "cell_type": "markdown",
   "id": "80059a8c",
   "metadata": {},
   "source": [
    "Exo 51: Écrire un programme qui affiche la table de multiplication de 1 à 10 avec des boucles imbriquées."
   ]
  },
  {
   "cell_type": "code",
   "execution_count": null,
   "id": "765a4917",
   "metadata": {},
   "outputs": [
    {
     "name": "stdout",
     "output_type": "stream",
     "text": [
      "1 x 1 = 1\t1 x 2 = 2\t1 x 3 = 3\t1 x 4 = 4\t1 x 5 = 5\t1 x 6 = 6\t1 x 7 = 7\t1 x 8 = 8\t1 x 9 = 9\t1 x 10 = 10\t2 x 1 = 2\t2 x 2 = 4\t2 x 3 = 6\t2 x 4 = 8\t2 x 5 = 10\t2 x 6 = 12\t2 x 7 = 14\t2 x 8 = 16\t2 x 9 = 18\t2 x 10 = 20\t3 x 1 = 3\t3 x 2 = 6\t3 x 3 = 9\t3 x 4 = 12\t3 x 5 = 15\t3 x 6 = 18\t3 x 7 = 21\t3 x 8 = 24\t3 x 9 = 27\t3 x 10 = 30\t4 x 1 = 4\t4 x 2 = 8\t4 x 3 = 12\t4 x 4 = 16\t4 x 5 = 20\t4 x 6 = 24\t4 x 7 = 28\t4 x 8 = 32\t4 x 9 = 36\t4 x 10 = 40\t5 x 1 = 5\t5 x 2 = 10\t5 x 3 = 15\t5 x 4 = 20\t5 x 5 = 25\t5 x 6 = 30\t5 x 7 = 35\t5 x 8 = 40\t5 x 9 = 45\t5 x 10 = 50\t6 x 1 = 6\t6 x 2 = 12\t6 x 3 = 18\t6 x 4 = 24\t6 x 5 = 30\t6 x 6 = 36\t6 x 7 = 42\t6 x 8 = 48\t6 x 9 = 54\t6 x 10 = 60\t7 x 1 = 7\t7 x 2 = 14\t7 x 3 = 21\t7 x 4 = 28\t7 x 5 = 35\t7 x 6 = 42\t7 x 7 = 49\t7 x 8 = 56\t7 x 9 = 63\t7 x 10 = 70\t8 x 1 = 8\t8 x 2 = 16\t8 x 3 = 24\t8 x 4 = 32\t8 x 5 = 40\t8 x 6 = 48\t8 x 7 = 56\t8 x 8 = 64\t8 x 9 = 72\t8 x 10 = 80\t9 x 1 = 9\t9 x 2 = 18\t9 x 3 = 27\t9 x 4 = 36\t9 x 5 = 45\t9 x 6 = 54\t9 x 7 = 63\t9 x 8 = 72\t9 x 9 = 81\t9 x 10 = 90\t10 x 1 = 10\t10 x 2 = 20\t10 x 3 = 30\t10 x 4 = 40\t10 x 5 = 50\t10 x 6 = 60\t10 x 7 = 70\t10 x 8 = 80\t10 x 9 = 90\t10 x 10 = 100\t"
     ]
    }
   ],
   "source": [
    "for i in range(1,11):\n",
    "    for j in range(1,11):\n",
    "        print(f\"{i} x {j} = {i*j}\")"
   ]
  }
 ],
 "metadata": {
  "kernelspec": {
   "display_name": ".venv",
   "language": "python",
   "name": "python3"
  },
  "language_info": {
   "codemirror_mode": {
    "name": "ipython",
    "version": 3
   },
   "file_extension": ".py",
   "mimetype": "text/x-python",
   "name": "python",
   "nbconvert_exporter": "python",
   "pygments_lexer": "ipython3",
   "version": "3.13.7"
  }
 },
 "nbformat": 4,
 "nbformat_minor": 5
}
