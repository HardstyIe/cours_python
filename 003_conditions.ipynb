{
 "cells": [
  {
   "cell_type": "markdown",
   "id": "064bd766",
   "metadata": {},
   "source": [
    "# **Les conditions**"
   ]
  },
  {
   "cell_type": "markdown",
   "id": "9dffa7bf",
   "metadata": {},
   "source": [
    "En python les conditions servent à activer ou non des blocs d'instructions en fonction de la valeur qui suit.\n",
    "\n",
    "Nous avons alors 3 types de conditions:\n",
    "- `if`      (Si)\n",
    "- `elif`    (Sinon Si)\n",
    "- `else`    (Sinon)\n",
    "\n",
    "Dès qu'une des conditions est vérifiée, les instructions associées sont exécutées et le programme sort de la condition. Ce qui est indenté est considéré comme faisant partie du bloc d'instructions."
   ]
  },
  {
   "cell_type": "markdown",
   "id": "0d676b97",
   "metadata": {},
   "source": [
    "#### 1. **La condition `if`**"
   ]
  },
  {
   "cell_type": "code",
   "execution_count": null,
   "id": "f75846c2",
   "metadata": {},
   "outputs": [],
   "source": [
    "if True:\n",
    "    print('The condition passed')"
   ]
  },
  {
   "cell_type": "code",
   "execution_count": null,
   "id": "599c9b1b",
   "metadata": {},
   "outputs": [],
   "source": [
    "if False:\n",
    "    print('The condition not passed')"
   ]
  },
  {
   "cell_type": "code",
   "execution_count": null,
   "id": "9f051db2",
   "metadata": {},
   "outputs": [],
   "source": [
    "age = 18\n",
    "\n",
    "if age >= 18:\n",
    "    print(\"You are an adult\")"
   ]
  },
  {
   "cell_type": "markdown",
   "id": "0f8e3c73",
   "metadata": {},
   "source": [
    "##### **Explications supplémentaires sur la condition if**"
   ]
  },
  {
   "cell_type": "markdown",
   "id": "6910a07b",
   "metadata": {},
   "source": [
    "En Python, la notion de \"vrai\" (*truthy*) ou \"faux\" (*falsy*) s'applique à certains types de valeurs et objets, ce qui permet de les utiliser dans des conditions logiques comme dans les exemples précédents.\n",
    "\n",
    "Voici les règles générales pour savoir si une valeur est évaluée comme vraie ou fausse dans une condition :\n",
    "\n",
    "##### Sont considérés comme **faux** (`False`, *falsy*) :\n",
    "1. **Le booléen `False`**.\n",
    "2. **Le nombre `0`**, que ce soit un entier (`0`), un flottant (`0.0`), ou encore un nombre complexe (`0j`).\n",
    "3. **Les collections vides** : \n",
    "   - Chaînes de caractères vides (`\"\"`)\n",
    "   - Listes vides (`[]`)\n",
    "   - Tuples vides (`()`)\n",
    "   - Dictionnaires vides (`{}`)\n",
    "   - Ensembles vides (`set()`)\n",
    "4. **La valeur `None`**.\n",
    "5. **Les objets définis avec une méthode spéciale** `__bool__()` ou `__len__()` qui renvoient `False` ou `0`.\n",
    "\n",
    "##### Sont considérés comme **vrais** (`True`, *truthy*) :\n",
    "1. **Le booléen `True`**.\n",
    "2. **Tous les nombres non-nuls** :\n",
    "   - Entiers (`1`, `-1`, etc.)\n",
    "   - Flottants (`0.1`, `-2.5`, etc.)\n",
    "   - Nombres complexes non nuls.\n",
    "3. **Toutes les collections non vides** :\n",
    "   - Chaînes de caractères non vides (`\"hello\"`, `\"0\"`, etc.)\n",
    "   - Listes non vides (`[1, 2]`)\n",
    "   - Tuples non vides (`(1,)`)\n",
    "   - Dictionnaires non vides (`{\"a\": 1}`)\n",
    "   - Ensembles non vides (`{1, 2}`)\n",
    "4. **Tout objet** dont la méthode `__bool__()` ou `__len__()` renvoie respectivement `True` ou une valeur non nulle."
   ]
  },
  {
   "cell_type": "code",
   "execution_count": null,
   "id": "b085066d",
   "metadata": {},
   "outputs": [],
   "source": [
    "print(0 == False)"
   ]
  },
  {
   "cell_type": "code",
   "execution_count": null,
   "id": "2a2d4cc9",
   "metadata": {},
   "outputs": [],
   "source": [
    "a = 0\n",
    "print(a.__bool__())"
   ]
  },
  {
   "cell_type": "code",
   "execution_count": null,
   "id": "e8d703c2",
   "metadata": {},
   "outputs": [],
   "source": [
    "if 0 :\n",
    "    print(\"The condition not passed\")"
   ]
  },
  {
   "cell_type": "code",
   "execution_count": null,
   "id": "5d6fd138",
   "metadata": {},
   "outputs": [],
   "source": [
    "print(1 == True)"
   ]
  },
  {
   "cell_type": "code",
   "execution_count": null,
   "id": "5a99ea3a",
   "metadata": {},
   "outputs": [],
   "source": [
    "b = 1\n",
    "print(b.__bool__())"
   ]
  },
  {
   "cell_type": "code",
   "execution_count": null,
   "id": "cbd54cd4",
   "metadata": {},
   "outputs": [],
   "source": [
    "if 1:\n",
    "    print('The condition passed')"
   ]
  },
  {
   "cell_type": "code",
   "execution_count": null,
   "id": "9bb37077",
   "metadata": {},
   "outputs": [],
   "source": [
    "if None:\n",
    "    print('The condition not passed')"
   ]
  },
  {
   "cell_type": "code",
   "execution_count": null,
   "id": "a1fafdbf",
   "metadata": {},
   "outputs": [],
   "source": [
    "if '0':\n",
    "    print('The condition passed')"
   ]
  },
  {
   "cell_type": "code",
   "execution_count": null,
   "id": "5c91e5d2",
   "metadata": {},
   "outputs": [],
   "source": [
    "if 1 == True:\n",
    "    print('The condition passed')"
   ]
  },
  {
   "cell_type": "code",
   "execution_count": null,
   "id": "a4d2dd52",
   "metadata": {},
   "outputs": [],
   "source": [
    "age_list = [12, 20, 18, 25, 30]\n",
    "\n",
    "if 18 in age_list:\n",
    "    print(\"This age is in the list\")"
   ]
  },
  {
   "cell_type": "markdown",
   "id": "fab04b26",
   "metadata": {},
   "source": [
    "Il est tout à fait possible d'enchaîner plusieurs conditions `if` les unes à la suite des autres. Cela permet de tester plusieurs cas de figure différents."
   ]
  },
  {
   "cell_type": "code",
   "execution_count": null,
   "id": "253a2125",
   "metadata": {},
   "outputs": [],
   "source": [
    "age_list = [18, 20, 25, 30]\n",
    "\n",
    "if 17 in age_list:\n",
    "    print(\"This age is in the list\")\n",
    "\n",
    "if 20 in age_list:\n",
    "    print(\"This second age is in the list\")"
   ]
  },
  {
   "cell_type": "markdown",
   "id": "520342de",
   "metadata": {},
   "source": [
    "Il est également possible de combiner plusieurs conditions en utilisant les opérateurs logiques `and` (ET) et `or` (OU)."
   ]
  },
  {
   "cell_type": "code",
   "execution_count": null,
   "id": "505b925d",
   "metadata": {},
   "outputs": [],
   "source": [
    "age_list = [12, 20, 25, 30]\n",
    "\n",
    "if 18 in age_list or 35 in age_list or 30 in age_list:\n",
    "    print(\"At least one of the ages is in the list\")"
   ]
  },
  {
   "cell_type": "markdown",
   "id": "0d5e411e",
   "metadata": {},
   "source": [
    "À noter qu'il y a un ordre d'évaluation des conditions :\n",
    "- Les parenthèses sont évaluées en premier.\n",
    "- Ensuite, les opérateurs `not` (NON) sont évalués.\n",
    "- Puis, les opérateurs `and` (ET) sont évalués.\n",
    "- Enfin, les opérateurs `or` (OU) sont évalués"
   ]
  },
  {
   "cell_type": "code",
   "execution_count": null,
   "id": "4cab1533",
   "metadata": {},
   "outputs": [],
   "source": [
    "age_list = [12, 18, 25, 30]\n",
    "\n",
    "if 18 in age_list or 20 in age_list and 30 not in age_list:\n",
    "    print(\"The condition passed\")"
   ]
  },
  {
   "cell_type": "code",
   "execution_count": null,
   "id": "7e1ceff1",
   "metadata": {},
   "outputs": [],
   "source": [
    "age_list = [12, 18, 25, 30]\n",
    "\n",
    "if not 18 in age_list and 35 not in age_list:\n",
    "    print(\"The condition passed\")"
   ]
  },
  {
   "cell_type": "code",
   "execution_count": null,
   "id": "8a782456",
   "metadata": {},
   "outputs": [],
   "source": [
    "not 18 in age_list"
   ]
  },
  {
   "cell_type": "code",
   "execution_count": null,
   "id": "291e635f",
   "metadata": {},
   "outputs": [],
   "source": [
    "age_list = [12, 18, 25, 30]\n",
    "\n",
    "if 18 in age_list or (20 in age_list and 30 not in age_list):\n",
    "    print(\"The condition passed\")"
   ]
  },
  {
   "cell_type": "markdown",
   "id": "6a79f651",
   "metadata": {},
   "source": [
    "* La fonction `any()` prend en argument une liste de conditions et renvoie `True` si au moins une des conditions est vraie. Elle est utile pour vérifier si au moins une condition parmi plusieurs est satisfaite. C'est une alternative à l'utilisation de `or` pour des conditions multiples.\n",
    "\n",
    "* La fonction `all()` prend en argument une liste de conditions et renvoie `True` si toutes les conditions sont vraies. Elle est utile pour vérifier si toutes les conditions sont satisfaites. C'est une alternative à l'utilisation de `and` pour des conditions multiples."
   ]
  },
  {
   "cell_type": "code",
   "execution_count": null,
   "id": "6b22da52",
   "metadata": {},
   "outputs": [],
   "source": [
    "any([18 in age_list, 20 in age_list]) or any([12 in age_list, 20 in age_list])"
   ]
  },
  {
   "cell_type": "markdown",
   "id": "25ac611b",
   "metadata": {},
   "source": [
    "#### 2. **La condition `elif`**"
   ]
  },
  {
   "cell_type": "markdown",
   "id": "d593cc5b",
   "metadata": {},
   "source": [
    "`elif` signifie \"sinon si\". Il permet d'ajouter une condition supplémentaire à la suite d'un `if`. Si la condition du `if` est fausse, mais que celle du `elif` est vraie, le bloc associé sera exécuté."
   ]
  },
  {
   "cell_type": "code",
   "execution_count": null,
   "id": "7519eca9",
   "metadata": {},
   "outputs": [],
   "source": [
    "age = 18\n",
    "\n",
    "if age < 18:\n",
    "    print(\"You are a minor\")\n",
    "elif age >= 18:\n",
    "    print(\"You are an adult\")"
   ]
  },
  {
   "cell_type": "markdown",
   "id": "ee440c75",
   "metadata": {},
   "source": [
    "On peut utiliser plusieurs `elif` à la suite d'un `if`. Python passera alors au `elif` suivant, et ainsi de suite jusqu'à ce qu'une condition soit vérifiée ou qu'il atteigne le `else`."
   ]
  },
  {
   "cell_type": "code",
   "execution_count": null,
   "id": "70ca9b67",
   "metadata": {},
   "outputs": [],
   "source": [
    "age = None\n",
    "\n",
    "if age == None:\n",
    "    print(\"Age is not defined\")\n",
    "elif age < 18:\n",
    "    print(\"You are a minor\")\n",
    "elif age >= 18:\n",
    "    print(\"You are an adult\")"
   ]
  },
  {
   "cell_type": "markdown",
   "id": "01336530",
   "metadata": {},
   "source": [
    "Le `elif` permet de ne pas vérifier inutilement toutes les conditions si l'une d'entre elles est déjà vraie. Cela permet d'optimiser les performances du programme. Là où un enchaînement de `if` simples vérifierait toutes les conditions, un enchaînement de `if` et de `elif` ne vérifiera que les conditions nécessaires."
   ]
  },
  {
   "cell_type": "code",
   "execution_count": null,
   "id": "348f4e56",
   "metadata": {},
   "outputs": [],
   "source": [
    "age_list = [18, 12, 25, 30]\n",
    "\n",
    "if 18 in age_list:\n",
    "    print(\"This age is in the list\")\n",
    "\n",
    "if 20 in age_list:\n",
    "    print(\"This second age is in the list\")\n",
    "\n",
    "if 12 in age_list:\n",
    "    print(\"This third age is in the list\")"
   ]
  },
  {
   "cell_type": "code",
   "execution_count": null,
   "id": "0f301c48",
   "metadata": {},
   "outputs": [],
   "source": [
    "age_list = [18, 20, 25, 30]\n",
    "\n",
    "if 18 in age_list:\n",
    "    print(\"The first age is in the list\")\n",
    "elif 20 in age_list:\n",
    "    print(\"The second age is in the list\")\n",
    "elif 12 in age_list:\n",
    "    print(\"The third age is in the list\")"
   ]
  },
  {
   "cell_type": "markdown",
   "id": "c4cabf88",
   "metadata": {},
   "source": [
    "#### 3. **La condition `else`**"
   ]
  },
  {
   "cell_type": "markdown",
   "id": "3d2cb366",
   "metadata": {},
   "source": [
    "Le bloc `else` est exécuté si aucune des conditions précédentes n'est vérifiée."
   ]
  },
  {
   "cell_type": "code",
   "execution_count": null,
   "id": "e0a4f215",
   "metadata": {},
   "outputs": [],
   "source": [
    "age = 18\n",
    "\n",
    "if age < 18:\n",
    "    print(\"You are a minor\")\n",
    "else:\n",
    "    print(\"You are an adult\")"
   ]
  },
  {
   "cell_type": "code",
   "execution_count": null,
   "id": "3e3c7d9d",
   "metadata": {},
   "outputs": [],
   "source": [
    "age_list = [13, 21, 25, 30]\n",
    "\n",
    "if 18 in age_list:\n",
    "    print(\"This age is in the list\")\n",
    "elif 20 in age_list:\n",
    "    print(\"This second age is in the list\")\n",
    "else:\n",
    "    print(\"This age is not in the list\")"
   ]
  },
  {
   "cell_type": "markdown",
   "id": "11a3666e",
   "metadata": {},
   "source": [
    "#### 4. **Les conditions imbriquées**"
   ]
  },
  {
   "cell_type": "markdown",
   "id": "45f70f58",
   "metadata": {},
   "source": [
    "Les conditions imbriquées en Python consistent à utiliser des blocs `if`, `elif` ou `else` à l'intérieur d'autres blocs conditionnels. Cela permet de créer des décisions plus complexes où chaque condition dépend de la vérification d'autres conditions à différents niveaux."
   ]
  },
  {
   "cell_type": "code",
   "execution_count": null,
   "id": "ff95685e",
   "metadata": {},
   "outputs": [],
   "source": [
    "age = 17\n",
    "is_employed = True\n",
    "\n",
    "if age >= 18:  # Première condition\n",
    "    print(\"You are an adult.\")\n",
    "    \n",
    "    if is_employed:  # Condition imbriquée dans la première\n",
    "        print(\"You are employed.\")\n",
    "    else:\n",
    "        print(\"You are not employed.\")\n",
    "else:\n",
    "    print(\"You are a minor.\")"
   ]
  },
  {
   "cell_type": "code",
   "execution_count": null,
   "id": "1c055052",
   "metadata": {},
   "outputs": [],
   "source": [
    "age = 30\n",
    "is_student = False\n",
    "is_employed = True\n",
    "\n",
    "if age >= 18:  # Première vérification sur l'âge\n",
    "    print(\"You are an adult.\")\n",
    "    \n",
    "    if is_student:  # Deuxième vérification, si la personne est étudiante\n",
    "        print(\"You are a student.\")\n",
    "    else:\n",
    "        if is_employed:  # Vérification de l'emploi si la personne n'est pas étudiante\n",
    "            print(\"You are employed.\")\n",
    "        else:\n",
    "            print(\"You are neither a student nor employed.\")\n",
    "else:\n",
    "    print(\"You are a minor.\")"
   ]
  },
  {
   "cell_type": "markdown",
   "id": "5ace4e19",
   "metadata": {},
   "source": [
    "Prenons un autre exemple où nous vérifions si certains âges sont présents dans une liste, tout en ajoutant des conditions imbriquées."
   ]
  },
  {
   "cell_type": "code",
   "execution_count": null,
   "id": "63680c5a",
   "metadata": {},
   "outputs": [],
   "source": [
    "age_list = [15, 18, 25, 40]\n",
    "age_to_check = 18\n",
    "\n",
    "if age_to_check in age_list:  # Première condition\n",
    "    print(f\"Age {age_to_check} is in the list.\")\n",
    "    \n",
    "    if age_to_check >= 18:  # Condition imbriquée\n",
    "        print(\"You are an adult.\")\n",
    "    else:\n",
    "        print(\"You are a minor.\")\n",
    "else:\n",
    "    print(f\"Age {age_to_check} is not in the list.\")"
   ]
  },
  {
   "cell_type": "markdown",
   "id": "d0c7f978",
   "metadata": {},
   "source": [
    "##### **Avantages des conditions imbriquées**"
   ]
  },
  {
   "cell_type": "markdown",
   "id": "9b5232e3",
   "metadata": {},
   "source": [
    "- Elles permettent de gérer des scénarios plus complexes, en faisant des vérifications supplémentaires dans des situations spécifiques.\n",
    "- Elles offrent une flexibilité accrue, car chaque condition peut ajouter de nouvelles vérifications pour affiner la logique du programme.\n",
    "\n",
    "Cependant, il est important de ne pas abuser des conditions imbriquées, car cela peut rendre le code difficile à lire et à maintenir. Il est souvent préférable de limiter la profondeur d'imbrication ou de refactoriser en utilisant des fonctions ou des opérateurs logiques."
   ]
  },
  {
   "cell_type": "markdown",
   "id": "33d608b6",
   "metadata": {},
   "source": [
    "**Réalisé par [Benjamin QUINET](https://www.linkedin.com/in/benjamin-quinet-freelance-dev-data-ia)**"
   ]
  }
 ],
 "metadata": {
  "language_info": {
   "name": "python"
  }
 },
 "nbformat": 4,
 "nbformat_minor": 5
}
