{
 "cells": [
  {
   "cell_type": "markdown",
   "metadata": {},
   "source": [
    "# **Introduction à Python**"
   ]
  },
  {
   "cell_type": "markdown",
   "metadata": {},
   "source": [
    "## ***Qu'est-ce que Python ?***\n",
    "\n",
    "Python est un langage de programmation **interprété**, **interactif**, **orienté objet** et de **haut niveau**. Créé par Guido van Rossum et sorti pour la première fois en 1991, Python se distingue par sa philosophie de conception qui met l'accent sur la **lisibilité du code**. Sa syntaxe claire et élégante permet aux programmeurs d'exprimer des concepts en moins de lignes de code que ce qui serait possible dans des langages comme C++ ou Java.\n",
    "\n",
    "**Caractéristiques principales :**\n",
    "\n",
    "*   **Facile à apprendre et à lire :** Sa syntaxe ressemble beaucoup à l'anglais, ce qui le rend accessible aux débutants.\n",
    "*   **Interprété :** Le code est exécuté ligne par ligne par un interpréteur, ce qui facilite le débogage.\n",
    "*   **Multiplateforme :** Python fonctionne sur de nombreux systèmes d'exploitation (Windows, macOS, Linux).\n",
    "*   **Vaste bibliothèque standard :** Offre de nombreux modules et fonctions prêts à l'emploi pour diverses tâches.\n",
    "*   **Grande communauté :** Bénéficie d'une communauté active et de nombreuses ressources en ligne.\n",
    "*   **Polyvalent :** Utilisé dans le développement web, l'analyse de données, l'intelligence artificielle, l'automatisation, les scripts système, etc."
   ]
  },
  {
   "cell_type": "markdown",
   "metadata": {},
   "source": [
    "## ***Votre premier programme : \"Hello, World!\"***\n",
    "\n",
    "Traditionnellement, le premier programme que l'on écrit dans un nouveau langage affiche \"Hello, World!\". En Python, c'est très simple :"
   ]
  },
  {
   "cell_type": "code",
   "execution_count": null,
   "metadata": {},
   "outputs": [],
   "source": [
    "print(\"Hello, World!\")"
   ]
  },
  {
   "cell_type": "markdown",
   "metadata": {},
   "source": [
    "La fonction `print()` est une fonction intégrée qui permet d'afficher du texte ou la valeur de variables dans la console."
   ]
  },
  {
   "cell_type": "markdown",
   "metadata": {},
   "source": [
    "## ***Les commentaires***\n",
    "\n",
    "Les commentaires sont des lignes de texte dans votre code qui ne sont pas exécutées par l'interpréteur. Ils servent à expliquer ce que fait le code, le rendant plus compréhensible pour vous et pour les autres.\n",
    "\n",
    "En Python, un commentaire commence par le symbole `#`. Tout ce qui suit ce symbole sur la même ligne est ignoré."
   ]
  },
  {
   "cell_type": "code",
   "execution_count": null,
   "metadata": {},
   "outputs": [],
   "source": [
    "# Ceci est un commentaire sur une seule ligne.\n",
    "\n",
    "print(\"Ce message sera affiché.\") # Ceci est un commentaire en fin de ligne.\n",
    "\n",
    "# Vous pouvez utiliser des commentaires pour expliquer des parties complexes du code\n",
    "# ou pour laisser des notes pour plus tard.\n",
    "\n",
    "# ou encore ignorer temporairement des lignes de code\n",
    "# print(\"Ce message ne sera pas affiché car la ligne est commentée.\")"
   ]
  },
  {
   "cell_type": "markdown",
   "metadata": {},
   "source": [
    "Il n'existe pas de syntaxe spécifique pour les commentaires multi-lignes comme dans certains autres langages, mais on utilise souvent des chaînes de caractères multi-lignes (avec triples guillemets `\"\"\"` ou `'''`) pour documenter des fonctions ou des classes (appelées *docstrings*), bien qu'elles ne soient pas techniquement des commentaires ignorés par l'interpréteur."
   ]
  },
  {
   "cell_type": "code",
   "execution_count": 33,
   "metadata": {},
   "outputs": [
    {
     "name": "stdout",
     "output_type": "stream",
     "text": [
      "Fin des commentaires.\n"
     ]
    }
   ],
   "source": [
    "\"\"\"\n",
    "Ceci est une chaîne de caractères multi-lignes,\n",
    "souvent utilisée comme docstring pour expliquer\n",
    "une fonction ou une classe.\n",
    "Techniquement, ce n'est pas un commentaire ignoré car elle est lu par l'interpréteur,\n",
    "mais une chaîne de caractères qui n'est pas assignée à une variable.\n",
    "\"\"\"\n",
    "\n",
    "print(\"Fin des commentaires.\")"
   ]
  },
  {
   "cell_type": "markdown",
   "metadata": {},
   "source": [
    "## ***Variables et Affectation***\n",
    "\n",
    "Une **variable** est un nom symbolique associé à une valeur. Elle sert à stocker des informations (données) que le programme peut manipuler. En Python, vous n'avez pas besoin de déclarer explicitement le type d'une variable ; l'interpréteur le détermine automatiquement lors de l'affectation.\n",
    "\n",
    "Pour simplifier, une variable est comme une boîte dans laquelle vous pouvez mettre des objets (valeurs) pour les utiliser plus tard.\n",
    "L'opérateur d'affectation est le signe égal `=`."
   ]
  },
  {
   "cell_type": "code",
   "execution_count": null,
   "metadata": {},
   "outputs": [],
   "source": [
    "# Affectation de valeurs à des variables\n",
    "age = 30\n",
    "nom = \"Alice\"\n",
    "taille = 1.75\n",
    "est_etudiant = False\n",
    "\n",
    "# Affichage des valeurs des variables\n",
    "print(nom)\n",
    "print(age)\n",
    "print(taille)\n",
    "print(est_etudiant)"
   ]
  },
  {
   "cell_type": "markdown",
   "metadata": {},
   "source": [
    "Vous pouvez changer la valeur d'une variable en lui affectant une nouvelle valeur. Le type peut même changer (bien que ce ne soit pas toujours une bonne pratique)."
   ]
  },
  {
   "cell_type": "code",
   "execution_count": null,
   "metadata": {},
   "outputs": [],
   "source": [
    "ma_variable = 10\n",
    "print(ma_variable)"
   ]
  },
  {
   "cell_type": "code",
   "execution_count": null,
   "id": "02ab15e8",
   "metadata": {},
   "outputs": [],
   "source": [
    "ma_variable = \"Bonjour\"\n",
    "print(ma_variable)"
   ]
  },
  {
   "cell_type": "markdown",
   "metadata": {},
   "source": [
    "### **Règles et Conventions de Nommage**\n",
    "\n",
    "\n",
    "*   Les noms de variables doivent commencer par une lettre (a-z, A-Z) ou un underscore (`_`).\n",
    "\n",
    "*   Ils peuvent contenir des lettres, des chiffres (0-9) et des underscores.\n",
    "\n",
    "*   Ils sont sensibles à la casse (`age`, `Age` et `AGE` sont trois variables différentes).\n",
    "\n",
    "*   Évitez d'utiliser des mots-clés réservés par Python comme `if`, `else`, `for`, `while`, `class`, `def`, etc.\n",
    "\n",
    "*   **Convention (PEP 8) :** Utilisez le `snake_case` (mots en minuscules séparés par des underscores) pour les noms de variables et de fonctions (ex: `nom_utilisateur`, `calculer_moyenne`). Utilisez des noms descriptifs et clairs pour faciliter la compréhension du code."
   ]
  },
  {
   "cell_type": "code",
   "execution_count": null,
   "metadata": {},
   "outputs": [],
   "source": [
    "# Bonnes pratiques\n",
    "premier_nom = \"Benjamin\"\n",
    "age_utilisateur = 34\n",
    "taux_interet = 0.05\n",
    "\n",
    "# Moins bonnes pratiques (peu descriptif ou mauvaise casse)\n",
    "x = 10\n",
    "NomUtilisateur = \"Alice\" # Ceci est plutôt la convention PascalCase pour les classes et non les variables"
   ]
  },
  {
   "cell_type": "markdown",
   "metadata": {},
   "source": [
    "## ***Types de Données Fondamentaux***\n",
    "\n",
    "Python possède plusieurs types de données intégrés pour représenter différentes sortes d'informations. Voici les plus courants :"
   ]
  },
  {
   "cell_type": "markdown",
   "metadata": {},
   "source": [
    "### **1. Entiers (`int`)**\n",
    "\n",
    "Représentent les nombres entiers, positifs ou négatifs, sans partie décimale."
   ]
  },
  {
   "cell_type": "code",
   "execution_count": null,
   "metadata": {},
   "outputs": [],
   "source": [
    "nombre_etudiants = 25\n",
    "temperature = -5\n",
    "annee = 2024\n",
    "\n",
    "print(type(nombre_etudiants))\n",
    "print(type(temperature))\n",
    "print(type(annee))"
   ]
  },
  {
   "cell_type": "markdown",
   "metadata": {},
   "source": [
    "### **2. Nombres Flottants (`float`)**\n",
    "\n",
    "Représentent les nombres réels, c'est-à-dire les nombres avec une partie décimale."
   ]
  },
  {
   "cell_type": "code",
   "execution_count": null,
   "metadata": {},
   "outputs": [],
   "source": [
    "prix = 99.99\n",
    "pi = 3.14159\n",
    "temperature_corporelle = 37.5\n",
    "\n",
    "print(type(prix))\n",
    "print(type(pi))\n",
    "print(type(temperature_corporelle))"
   ]
  },
  {
   "cell_type": "markdown",
   "metadata": {},
   "source": [
    "### **3. Chaînes de Caractères (`str`)**\n",
    "\n",
    "Représentent des séquences de caractères (texte). Elles sont définies en utilisant des guillemets simples (`'`) ou doubles (`\"`)."
   ]
  },
  {
   "cell_type": "code",
   "execution_count": null,
   "metadata": {},
   "outputs": [],
   "source": [
    "message = \"Bonjour le monde !\"\n",
    "prenom = 'Charlie'\n",
    "phrase = \"L'important, c'est de participer.\" # Guillemets doubles si la chaîne contient une apostrophe\n",
    "citation = 'Le savoir, c\\'est le pouvoir.'  # ou éhappement avec un anti slash \\\n",
    "\n",
    "print(type(message))\n",
    "print(type(prenom))\n",
    "print(type(phrase))\n",
    "print(type(citation))"
   ]
  },
  {
   "cell_type": "markdown",
   "metadata": {},
   "source": [
    "Les chaînes de caractères supportent diverses opérations, comme la **concaténation** (assemblage) avec `+` et la **mise en forme** (notamment avec les f-strings).\n",
    "\n",
    "Nous reviendrons plus en détail sur les chaînes de caractères dans un chapitre ultérieur."
   ]
  },
  {
   "cell_type": "code",
   "execution_count": null,
   "metadata": {},
   "outputs": [],
   "source": [
    "salutation = \"Bonjour\"\n",
    "nom_personne = \"David\"\n",
    "\n",
    "# Concaténation\n",
    "message_complet = salutation + \", \" + nom_personne + \" !\"\n",
    "print(message_complet)"
   ]
  },
  {
   "cell_type": "code",
   "execution_count": null,
   "id": "087871dc",
   "metadata": {},
   "outputs": [],
   "source": [
    "# f-string (formatage moderne et lisible)\n",
    "age_personne = 42\n",
    "message_fstring = f\"{message_complet} Vous avez {age_personne} ans.\"\n",
    "print(message_fstring)"
   ]
  },
  {
   "cell_type": "markdown",
   "metadata": {},
   "source": [
    "### **4. Booléens (`bool`)**\n",
    "\n",
    "Représentent l'une des deux valeurs : `True` (vrai) ou `False` (faux). Ils sont essentiels pour les conditions logiques."
   ]
  },
  {
   "cell_type": "code",
   "execution_count": null,
   "metadata": {},
   "outputs": [],
   "source": [
    "est_majeur = True\n",
    "a_reussi_examen = False\n",
    "lumiere_allumee = True\n",
    "\n",
    "print(type(est_majeur))\n",
    "print(type(a_reussi_examen))\n",
    "print(type(lumiere_allumee))"
   ]
  },
  {
   "cell_type": "markdown",
   "id": "82d45140",
   "metadata": {},
   "source": [
    "Les booléens résultent souvent de comparaisons"
   ]
  },
  {
   "cell_type": "code",
   "execution_count": null,
   "id": "5bc5161d",
   "metadata": {},
   "outputs": [],
   "source": [
    "print(10 > 5)  \n",
    "print(5 == 10) "
   ]
  },
  {
   "cell_type": "markdown",
   "id": "e9128a83",
   "metadata": {},
   "source": [
    "Nous explorerons plus en détails dans les chapitres sur **les opérateurs** et **les conditions**."
   ]
  },
  {
   "cell_type": "markdown",
   "metadata": {},
   "source": [
    "### **5. Type `None` (`NoneType`)**\n",
    "\n",
    "Représente l'absence de valeur. C'est souvent utilisé pour initialiser une variable dont la valeur n'est pas encore connue ou pour indiquer qu'une fonction ne retourne rien de significatif."
   ]
  },
  {
   "cell_type": "code",
   "execution_count": null,
   "metadata": {},
   "outputs": [],
   "source": [
    "resultat = None\n",
    "gagnant = None\n",
    "\n",
    "print(type(resultat))\n",
    "print(type(gagnant))"
   ]
  },
  {
   "cell_type": "markdown",
   "metadata": {},
   "source": [
    "## ***Vérification et Conversion de Type***"
   ]
  },
  {
   "cell_type": "markdown",
   "metadata": {},
   "source": [
    "### **Vérifier le type (`type()`)**\n",
    "\n",
    "La fonction `type()` permet de connaître le type d'une variable ou d'une valeur."
   ]
  },
  {
   "cell_type": "code",
   "execution_count": null,
   "metadata": {},
   "outputs": [],
   "source": [
    "ma_variable = 123\n",
    "print(type(ma_variable))"
   ]
  },
  {
   "cell_type": "code",
   "execution_count": null,
   "id": "816fb254",
   "metadata": {},
   "outputs": [],
   "source": [
    "ma_variable = \"Texte\"\n",
    "print(type(ma_variable))"
   ]
  },
  {
   "cell_type": "code",
   "execution_count": null,
   "id": "5b7632c6",
   "metadata": {},
   "outputs": [],
   "source": [
    "ma_variable = 3.14\n",
    "print(type(ma_variable))"
   ]
  },
  {
   "cell_type": "markdown",
   "metadata": {},
   "source": [
    "### **Convertir le type (Casting)**\n",
    "\n",
    "Il est parfois nécessaire de convertir une valeur d'un type à un autre. Python propose des fonctions pour cela : `int()`, `float()`, `str()`, `bool()`."
   ]
  },
  {
   "cell_type": "code",
   "execution_count": null,
   "metadata": {},
   "outputs": [],
   "source": [
    "nombre_str = \"100\"\n",
    "print(type(nombre_str))"
   ]
  },
  {
   "cell_type": "code",
   "execution_count": null,
   "id": "82eb7ca0",
   "metadata": {},
   "outputs": [],
   "source": [
    "# Convertir str en int\n",
    "nombre_int = int(nombre_str)\n",
    "print(nombre_int)\n",
    "print(type(nombre_int))"
   ]
  },
  {
   "cell_type": "code",
   "execution_count": null,
   "id": "7df544a1",
   "metadata": {},
   "outputs": [],
   "source": [
    "# Convertir int en float\n",
    "nombre_float = float(nombre_int)\n",
    "\n",
    "print(nombre_float)\n",
    "print(type(nombre_float))"
   ]
  },
  {
   "cell_type": "code",
   "execution_count": null,
   "id": "ce4a1c45",
   "metadata": {},
   "outputs": [],
   "source": [
    "# Convertir float en str\n",
    "pi_str = str(3.14)\n",
    "\n",
    "print(pi_str)\n",
    "print(type(pi_str))"
   ]
  },
  {
   "cell_type": "code",
   "execution_count": null,
   "id": "cf74292e",
   "metadata": {},
   "outputs": [],
   "source": [
    "# Attention \"pi_str\" est maintenant une chaîne de caractères\n",
    "# Si vous essayez d'ajouter un entier à une chaîne, cela causera une erreur.\n",
    "nouveau_nombre = pi_str + 15\n",
    "\n",
    "print(nouveau_nombre)\n",
    "print(type(nouveau_nombre))"
   ]
  },
  {
   "cell_type": "code",
   "execution_count": null,
   "id": "b3b01ce1",
   "metadata": {},
   "outputs": [],
   "source": [
    "# Attention également aux conversions impossibles\n",
    "valeur_invalide = int(\"Bonjour\") # Ceci lèvera une erreur (ValueError)"
   ]
  },
  {
   "cell_type": "markdown",
   "metadata": {},
   "source": [
    "La conversion en booléen (`bool()`) suit les règles de *truthy* / *falsy* que nous verrons dans la leçon sur les conditions : `0`, `0.0`, `\"\"`, `None`, et les collections vides deviennent `False`, tout le reste devient `True`."
   ]
  },
  {
   "cell_type": "code",
   "execution_count": null,
   "metadata": {},
   "outputs": [],
   "source": [
    "print(bool(0))\n",
    "print(bool(1))\n",
    "print(bool(\"\"))\n",
    "print(bool(\"texte\"))\n",
    "print(bool(None))"
   ]
  },
  {
   "cell_type": "markdown",
   "metadata": {},
   "source": [
    "## ***Entrées et Sorties de Base***"
   ]
  },
  {
   "cell_type": "markdown",
   "metadata": {},
   "source": [
    "### **Sortie (`print()`)**\n",
    "\n",
    "Nous avons déjà utilisé `print()` pour afficher des informations à l'utilisateur. On peut lui passer plusieurs arguments séparés par des virgules."
   ]
  },
  {
   "cell_type": "code",
   "execution_count": null,
   "metadata": {},
   "outputs": [],
   "source": [
    "nom_utilisateur = \"Eva\"\n",
    "score = 95\n",
    "\n",
    "print(\"Utilisateur:\", nom_utilisateur, \"- Score:\", score)"
   ]
  },
  {
   "cell_type": "markdown",
   "metadata": {},
   "source": [
    "### **Entrée (`input()`)**\n",
    "\n",
    "La fonction `input()` permet de demander une information à l'utilisateur. Elle affiche un message (prompt) et attend que l'utilisateur tape quelque chose et appuie sur Entrée. **Important :** `input()` retourne toujours une **chaîne de caractères (`str`)**."
   ]
  },
  {
   "cell_type": "code",
   "execution_count": null,
   "metadata": {},
   "outputs": [],
   "source": [
    "nom_visiteur = input(\"Quel est votre nom ? \")\n",
    "print(f\"Bonjour, {nom_visiteur} !\")"
   ]
  },
  {
   "cell_type": "code",
   "execution_count": null,
   "id": "72b93b81",
   "metadata": {},
   "outputs": [],
   "source": [
    "age_str = input(\"Quel est votre âge ? \")\n",
    "# Si on veut utiliser l'âge comme un nombre, il faut le convertir car les entrées de input sont toujours des chaînes de caractères\n",
    "age_int = int(age_str)\n",
    "\n",
    "print(f\"Dans 10 ans, vous aurez {age_int + 10} ans.\")"
   ]
  },
  {
   "cell_type": "markdown",
   "id": "927754f1",
   "metadata": {},
   "source": [
    "## **Exercices**"
   ]
  },
  {
   "cell_type": "markdown",
   "id": "302a9710",
   "metadata": {},
   "source": [
    "**Instructions :** Écrivez et exécutez le code Python pour résoudre chaque exercice suivant.\n",
    "\n",
    "**Exercice 1 : Informations Personnelles**\n",
    "\n",
    "\n",
    "1.  Créez une variable `prenom` et assignez-lui votre prénom (en tant que chaîne de caractères).\n",
    "\n",
    "2.  Créez une variable `age` et assignez-lui votre âge (en tant que nombre entier).\n",
    "\n",
    "3.  Créez une variable `taille_metres` et assignez-lui votre taille en mètres (en tant que nombre flottant, par exemple `1.75`).\n",
    "\n",
    "4.  Affichez chaque variable sur une ligne séparée, en ajoutant une petite description avant chaque valeur (par exemple : \"Prénom : Benjamin\").\n",
    "\n",
    "5.  Affichez une phrase complète qui résume ces informations en utilisant une f-string. Exemple : \"Je m'appelle Benjamin, j'ai 33 ans et je mesure 1.85 mètres.\""
   ]
  },
  {
   "cell_type": "code",
   "execution_count": null,
   "id": "b3ac5f93",
   "metadata": {},
   "outputs": [],
   "source": [
    "age = 25\n",
    "taille = 1.80\n",
    "nom = \"Dylan\"\n",
    "\n",
    "print(\"Age: \",age)\n",
    "print(\"Taille: \",taille)\n",
    "print(\"Nom: \",nom)\n",
    "\n",
    "print(f\"je m'apelle {nom}, j'ai {age} ans et je mesure {taille}m\")"
   ]
  },
  {
   "cell_type": "markdown",
   "id": "070ccf9a",
   "metadata": {},
   "source": [
    "**Exercice 2 : Calcul Simple**\n",
    "\n",
    "\n",
    "1.  Créez deux variables, `nombre1` et `nombre2`, et assignez-leur deux nombres entiers de votre choix (par exemple, 15 et 7).\n",
    "\n",
    "2.  Calculez la somme de ces deux nombres et stockez le résultat dans une variable `somme`.\n",
    "\n",
    "3.  Calculez la différence entre `nombre1` et `nombre2` et stockez le résultat dans une variable `difference`.\n",
    "\n",
    "4.  Calculez le produit de ces deux nombres et stockez le résultat dans une variable `produit`.\n",
    "\n",
    "5.  Affichez les résultats de la somme, de la différence et du produit, en précisant à chaque fois de quelle opération il s'agit. Exemple : \"La somme de 15 et 7 est 22\".\n"
   ]
  },
  {
   "cell_type": "code",
   "execution_count": 22,
   "id": "4b0503f0",
   "metadata": {},
   "outputs": [
    {
     "name": "stdout",
     "output_type": "stream",
     "text": [
      "La somme de 5 et 10 est 15\n",
      "La différence entre 10 et 5 est de 5\n",
      "Le produit de 5 et 10 est 50\n",
      "La somme de 5 et 10 est 15 \n",
      "La difference entre 10 et 5 est de 5 \n",
      "Le prduit de 5 et 10 est 50 \n"
     ]
    }
   ],
   "source": [
    "nombre1 = 5\n",
    "nombre2 = 10\n",
    "somme = nombre1 + nombre2\n",
    "difference = nombre2 - nombre1\n",
    "produit = nombre1 * nombre2\n",
    "\n",
    "print(\"La somme de 5 et 10 est\", somme)\n",
    "print(\"La différence entre 10 et 5 est de\", difference)\n",
    "print(\"Le produit de 5 et 10 est\", produit)\n",
    "\n",
    "print(f\"La somme de {nombre1} et {nombre2} est {somme} \")\n",
    "print(f\"La difference entre {nombre2} et {nombre1} est de {difference} \")\n",
    "print(f\"Le prduit de {nombre1} et {nombre2} est {produit} \")\n"
   ]
  },
  {
   "cell_type": "markdown",
   "id": "1d0e98c3",
   "metadata": {},
   "source": [
    "**Exercice 3 : Interaction Utilisateur**\n",
    "\n",
    "\n",
    "1.  Demandez à l'utilisateur d'entrer son plat préféré en utilisant la fonction `input()`. Stockez la réponse dans une variable `plat_prefere`.\n",
    "\n",
    "2.  Affichez un message de confirmation, par exemple : \"Ah, {plat_prefere} ! Excellent choix !\".\n",
    "\n",
    "3.  Demandez à l'utilisateur d'entrer son année de naissance en utilisant `input()`. Stockez la réponse dans une variable `annee_naissance_str`.\n",
    "\n",
    "4.  Convertissez `annee_naissance_str` en un nombre entier et stockez-le dans une variable `annee_naissance_int`.\n",
    "\n",
    "5.  Calculez l'âge approximatif de l'utilisateur (par exemple, 2025 - `annee_naissance_int`) et affichez-le.\n"
   ]
  },
  {
   "cell_type": "code",
   "execution_count": null,
   "id": "ae57d1bb",
   "metadata": {},
   "outputs": [
    {
     "name": "stdout",
     "output_type": "stream",
     "text": [
      "Ah, blabla! trés bon choix!\n",
      "tu as donc 25 ans (née en 2000)\n"
     ]
    }
   ],
   "source": [
    "plat_prefere = input(\"Quel est ton plat preferé ?\")\n",
    "print(f\"Ah, {plat_prefere}! trés bon choix!\")\n",
    "\n",
    "annee_naissance_str = input(\"tu est née en quel année\")\n",
    "annee_naissance_int = int(annee_naissance_str)\n",
    "age_utilisateur = 2025 - annee_naissance_int\n",
    "print(f\"tu as donc {age_utilisateur} ans (née en {annee_naissance_int})\")"
   ]
  },
  {
   "cell_type": "markdown",
   "id": "2cf0ea3a",
   "metadata": {},
   "source": [
    "\n",
    "**Exercice 4 : Manipulation de Chaînes**\n",
    "\n",
    "\n",
    "1.  Créez une variable `mot1` avec la valeur `\"programmation\"`.\n",
    "\n",
    "2.  Créez une variable `mot2` avec la valeur `\"facile\"`.\n",
    "\n",
    "3.  Créez une nouvelle variable `phrase` en concaténant `mot1`, un espace, le mot `\"est\"`, un espace, et `mot2` en utilisant l'opérateur `+`.\n",
    "\n",
    "4.  Affichez la variable `phrase`.\n",
    "\n",
    "5.  Recréez la même phrase en utilisant une f-string et affichez-la de nouveau pour vérifier.\n"
   ]
  },
  {
   "cell_type": "code",
   "execution_count": 16,
   "id": "b56d622a",
   "metadata": {},
   "outputs": [
    {
     "name": "stdout",
     "output_type": "stream",
     "text": [
      "la programmation est facile\n",
      "La programmation est facile\n"
     ]
    }
   ],
   "source": [
    "mot1 = \"programmation\"\n",
    "mot2 = \"facile\"\n",
    "phrase = \"la\" + \" \" + mot1 + \" \" + \"est\" + \" \" + mot2\n",
    "\n",
    "print(phrase)\n",
    "print(f\"La {mot1} est {mot2}\" )"
   ]
  },
  {
   "cell_type": "markdown",
   "id": "aa1da70d",
   "metadata": {},
   "source": [
    "**Exercice 5 : Types et Conversion**\n",
    "\n",
    "\n",
    "1.  Créez une variable `valeur_str` contenant le nombre `42` mais sous forme de chaîne de caractères (`\"42\"`).\n",
    "\n",
    "2.  Affichez le type de la variable `valeur_str` en utilisant `type()`.\n",
    "\n",
    "3.  Convertissez `valeur_str` en un entier et stockez le résultat dans une variable `valeur_int`.\n",
    "\n",
    "4.  Affichez la valeur et le type de `valeur_int`.\n",
    "\n",
    "5.  Convertissez `valeur_int` en un nombre flottant et stockez le résultat dans une variable `valeur_float`.\n",
    "\n",
    "6.  Affichez la valeur et le type de `valeur_float`."
   ]
  },
  {
   "cell_type": "code",
   "execution_count": 32,
   "id": "900660c1",
   "metadata": {},
   "outputs": [
    {
     "name": "stdout",
     "output_type": "stream",
     "text": [
      "le type de: \"42\" est <class 'str'>\n",
      "le type de: 42 est <class 'int'>\n",
      "la valeur: 42.0 est de type <class 'float'>\n"
     ]
    }
   ],
   "source": [
    "valeur_str = \"42\"\n",
    "print(f\"le type de: \\\"{valeur_str}\\\" est {type(valeur_str)}\") # affiche type string\n",
    "\n",
    "valeur_int = int(valeur_str) # convertion str -> int\n",
    "print(f\"le type de: {valeur_int} est {type(valeur_int)}\") # affiche int\n",
    "\n",
    "valeur_float = float(valeur_int) # convertion int -> float\n",
    "print(f\"la valeur: {valeur_float} est de type {type(valeur_float)}\") # affiche float"
   ]
  },
  {
   "cell_type": "markdown",
   "metadata": {},
   "source": [
    "---\n",
    "\n",
    "**Réalisé par [Benjamin QUINET](https://www.linkedin.com/in/benjamin-quinet-freelance-dev-data-ia)**"
   ]
  }
 ],
 "metadata": {
  "kernelspec": {
   "display_name": ".venv",
   "language": "python",
   "name": "python3"
  },
  "language_info": {
   "codemirror_mode": {
    "name": "ipython",
    "version": 3
   },
   "file_extension": ".py",
   "mimetype": "text/x-python",
   "name": "python",
   "nbconvert_exporter": "python",
   "pygments_lexer": "ipython3",
   "version": "3.13.7"
  }
 },
 "nbformat": 4,
 "nbformat_minor": 5
}
