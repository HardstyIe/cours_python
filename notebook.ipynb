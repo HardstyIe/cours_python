{
 "cells": [
  {
   "cell_type": "code",
   "execution_count": 18,
   "id": "6639a9b7",
   "metadata": {},
   "outputs": [
    {
     "name": "stdout",
     "output_type": "stream",
     "text": [
      "Age:  25\n",
      "Taille:  1.8\n",
      "Nom:  Dylan\n",
      "je m'apelle Dylan, j'ai 25 ans et je mesure 1.8m\n"
     ]
    }
   ],
   "source": [
    "age = 25\n",
    "taille = 1.80\n",
    "nom = \"Dylan\"\n",
    "\n",
    "print(\"Age: \",age)\n",
    "print(\"Taille: \",taille)\n",
    "print(\"Nom: \",nom)\n",
    "\n",
    "print(f\"je m'apelle {nom}, j'ai {age} ans et je mesure {taille}m\")"
   ]
  }
 ],
 "metadata": {
  "kernelspec": {
   "display_name": ".venv",
   "language": "python",
   "name": "python3"
  },
  "language_info": {
   "codemirror_mode": {
    "name": "ipython",
    "version": 3
   },
   "file_extension": ".py",
   "mimetype": "text/x-python",
   "name": "python",
   "nbconvert_exporter": "python",
   "pygments_lexer": "ipython3",
   "version": "3.13.7"
  }
 },
 "nbformat": 4,
 "nbformat_minor": 5
}
