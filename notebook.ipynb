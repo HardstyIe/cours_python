{
 "cells": [
  {
   "cell_type": "code",
   "execution_count": null,
   "id": "6639a9b7",
   "metadata": {},
   "outputs": [
    {
     "name": "stdout",
     "output_type": "stream",
     "text": [
      "\n",
      "Prévisions météo pour Valenciennes (FR):\n",
      "\n",
      "2025-10-27 15:00:00 - 13.0°C - ressentie 12.5°C - légère pluie\n",
      "2025-10-27 18:00:00 - 12.9°C - ressentie 12.2°C - nuageux\n",
      "2025-10-27 21:00:00 - 11.2°C - ressentie 10.6°C - nuageux\n",
      "2025-10-28 00:00:00 - 11.2°C - ressentie 10.7°C - partiellement nuageux\n",
      "2025-10-28 03:00:00 - 11.8°C - ressentie 11.3°C - légère pluie\n"
     ]
    }
   ],
   "source": [
    "import requests\n",
    "import json\n",
    "import datetime\n",
    "import os\n",
    "\n",
    "localization = \"valenciennes\"\n",
    "\n",
    "api_key = os.getenv('API_KEY')\n",
    "\n",
    "url_request = f\"https://api.openweathermap.org/data/2.5/forecast?q={localization}&appid={api_key}&units=metric&lang=fr\"\n",
    "\n",
    "response = requests.get(url_request)\n",
    "\n",
    "if response.status_code == 200:\n",
    "    data = response.json()\n",
    "\n",
    "    print(f\"\\nPrévisions météo pour {data['city']['name']} ({data['city']['country']}):\\n\")\n",
    "\n",
    "    # On affiche les 5 prochaines prévisions (toutes les 3h)\n",
    "    for forecast in data['list'][:5]:\n",
    "        dt_txt = forecast['dt_txt']\n",
    "        temp = forecast['main']['temp']\n",
    "        description = forecast['weather'][0]['description']\n",
    "        feels_like= forecast['main']['feels_like']\n",
    "        print(f\"{dt_txt} - {temp:.1f}°C - ressentie {feels_like:.1f}°C - {description}\")\n",
    "\n",
    "else:\n",
    "    print(f\"Erreur {response.status_code}: impossible de récupérer la météo.\")\n"
   ]
  }
 ],
 "metadata": {
  "kernelspec": {
   "display_name": ".venv",
   "language": "python",
   "name": "python3"
  },
  "language_info": {
   "codemirror_mode": {
    "name": "ipython",
    "version": 3
   },
   "file_extension": ".py",
   "mimetype": "text/x-python",
   "name": "python",
   "nbconvert_exporter": "python",
   "pygments_lexer": "ipython3",
   "version": "3.13.7"
  }
 },
 "nbformat": 4,
 "nbformat_minor": 5
}
