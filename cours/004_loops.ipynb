{
 "cells": [
  {
   "cell_type": "markdown",
   "metadata": {},
   "source": [
    "# **Les boucles**"
   ]
  },
  {
   "cell_type": "markdown",
   "metadata": {},
   "source": [
    "**Qu'est-ce qu'une boucle ?**\n",
    "\n",
    "En python les boucles servent à répéter plusieurs fois les mêmes actions. Imaginez que vous voulez dire \"Bonjour\" 5 fois. Au lieu d'écrire 5 fois `print(\"Bonjour\")`, vous pouvez utiliser une **boucle** !"
   ]
  },
  {
   "cell_type": "code",
   "execution_count": null,
   "metadata": {},
   "outputs": [],
   "source": [
    "# Exemple de boucle\n",
    "for i in range(5):\n",
    "    print(\"Bonjour\")"
   ]
  },
  {
   "cell_type": "markdown",
   "metadata": {},
   "source": [
    "\n",
    "Une boucle permet de répéter la même action plusieurs fois automatiquement. Ainsi en itérant sur une séquence, une liste ou un ensemble d'instructions, on peut exécuter plusieurs fois les mêmes instructions.\n",
    "\n",
    "Il existe deux types de boucles en Python:\n",
    "- La boucle `for` (quand on sait combien de fois répéter)\n",
    "- La boucle `while` (quand on répète jusqu'à ce qu'une condition soit remplie)"
   ]
  },
  {
   "cell_type": "markdown",
   "metadata": {},
   "source": [
    "### 1. **La boucle `for`**"
   ]
  },
  {
   "cell_type": "markdown",
   "metadata": {},
   "source": [
    "**Comment fonctionne une boucle `for` ?**\n",
    "\n",
    "Une boucle `for` fonctionne selon ce principe simple :\n",
    "\n",
    "**Pseudo-code :**\n",
    "```\n",
    "POUR chaque élément DANS une séquence :\n",
    "    EXÉCUTER les instructions\n",
    "FIN POUR\n",
    "```\n",
    "\n",
    "**Étapes détaillées :**\n",
    "\n",
    "1. **Initialisation** : Python prend le premier élément de la séquence\n",
    "2. **Attribution** : Cet élément est assigné à la variable de boucle\n",
    "3. **Exécution** : Le bloc d'instructions indenté est exécuté\n",
    "4. **Itération** : Python passe à l'élément suivant de la séquence\n",
    "5. **Répétition** : Les étapes se répètent pour chaque élément\n",
    "6. **Fin** : Quand tous les éléments ont été traités, la boucle se termine\n",
    "\n",
    "**Exemple concret :**\n",
    "```\n",
    "fruits = [\"pomme\", \"banane\", \"orange\"]\n",
    "\n",
    "POUR fruit DANS fruits :\n",
    "    AFFICHER fruit\n",
    "```\n",
    "\n",
    "**Déroulement :**\n",
    "- Tour 1 : fruit = \"pomme\" → affiche \"pomme\"\n",
    "- Tour 2 : fruit = \"banane\" → affiche \"banane\"  \n",
    "- Tour 3 : fruit = \"orange\" → affiche \"orange\"\n",
    "- Fin de la séquence → sortie de la boucle\n",
    "\n",
    "La boucle `for` est donc parfaite quand on connaît à l'avance les éléments à parcourir !"
   ]
  },
  {
   "cell_type": "code",
   "execution_count": null,
   "metadata": {},
   "outputs": [],
   "source": [
    "fruit_list = [\"apple\", \"banana\", \"cherry\", \"passion fruit\", \"kiwi\", \"mango\"]\n",
    "\n",
    "for fruit in fruit_list:\n",
    "    print(fruit)"
   ]
  },
  {
   "cell_type": "markdown",
   "metadata": {},
   "source": [
    "La boucle `for` permet donc de parcourir une séquence préalablement définie, comme une séquence de nombre, une liste, un tuple, un dictionnaire, un ensemble ou une chaîne de caractères. Pour chaque élément de la séquence, le bloc d'instructions associé est exécuté."
   ]
  },
  {
   "cell_type": "code",
   "execution_count": null,
   "metadata": {},
   "outputs": [],
   "source": [
    "nb_list = [10, 25, 99, 152, 1]\n",
    "\n",
    "for n in nb_list:\n",
    "    print(n)"
   ]
  },
  {
   "cell_type": "markdown",
   "metadata": {},
   "source": [
    "La fonction `range()` est souvent utilisée dans les boucles `for` pour générer une série de nombres. Elle prend en paramètre un nombre entier et renvoie une séquence de nombres allant de `0` à ce nombre, exclu exactement comme le slicing des listes. \n",
    "\n",
    "Trois paramètres peuvent être passés à la fonction `range()` :\n",
    "\n",
    "- `start` : la valeur de départ de la séquence (par défaut, `0`)\n",
    "\n",
    "- `stop` : la valeur de fin de la séquence (non incluse)\n",
    "\n",
    "- `step` : le pas de la séquence (par défaut, `1`)"
   ]
  },
  {
   "cell_type": "code",
   "execution_count": null,
   "metadata": {},
   "outputs": [],
   "source": [
    "range(5, 50, 3)"
   ]
  },
  {
   "cell_type": "code",
   "execution_count": null,
   "metadata": {},
   "outputs": [],
   "source": [
    "print([i for i in range(5, 50, 3)])"
   ]
  },
  {
   "cell_type": "code",
   "execution_count": null,
   "metadata": {},
   "outputs": [],
   "source": [
    "for number in range(4, 15, 2):\n",
    "    print(number)"
   ]
  },
  {
   "cell_type": "code",
   "execution_count": null,
   "metadata": {},
   "outputs": [],
   "source": [
    "fruit_list = [\"apple\", \"banana\", \"cherry\", \"passion fruit\", \"kiwi\", \"mango\"]\n",
    "\n",
    "for i in range(3):\n",
    "    print(i, \" : \", fruit_list[i])"
   ]
  },
  {
   "cell_type": "code",
   "execution_count": null,
   "metadata": {},
   "outputs": [],
   "source": [
    "for i in range(2, 5):\n",
    "    print(fruit_list[i])"
   ]
  },
  {
   "cell_type": "markdown",
   "metadata": {},
   "source": [
    "En Python, on peut parcourir les chaînes de caractères fonctionnent comme des listes, on peut donc les parcourir avec une boucle `for` et accéder à chaque caractère individuellement."
   ]
  },
  {
   "cell_type": "code",
   "execution_count": null,
   "metadata": {},
   "outputs": [],
   "source": [
    "chain = 'Bonjour'\n",
    "\n",
    "for letter in chain:\n",
    "    print(letter)"
   ]
  },
  {
   "cell_type": "markdown",
   "metadata": {},
   "source": [
    "Le type n'influence pas la manière dont la boucle `for` est utilisée. Que ce soit une liste, un tuple, un dictionnaire, un ensemble ou une chaîne de caractères, la syntaxe reste la même et les éléments sont parcourus dans l'ordre."
   ]
  },
  {
   "cell_type": "code",
   "execution_count": null,
   "metadata": {},
   "outputs": [],
   "source": [
    "var_a = 'hello'\n",
    "random_list = [0, 'aba', 4.85, 1, var_a]\n",
    "\n",
    "for item in random_list:\n",
    "    print(item, type(item))"
   ]
  },
  {
   "cell_type": "code",
   "execution_count": null,
   "metadata": {},
   "outputs": [],
   "source": [
    "random_tuple = (0, 50, (89990, 'abc'), 5.3214, [1, 89, 72], 'hello')\n",
    "\n",
    "for item in random_tuple:\n",
    "    print(item, type(item))"
   ]
  },
  {
   "cell_type": "markdown",
   "metadata": {},
   "source": [
    "Il également possible de combiner les listes et les conditions."
   ]
  },
  {
   "cell_type": "code",
   "execution_count": null,
   "metadata": {},
   "outputs": [],
   "source": [
    "for fruit in fruit_list:\n",
    "    print(fruit)\n",
    "    if fruit == \"banana\":\n",
    "        print(\"\\nBanana is in the list!\\n\")"
   ]
  },
  {
   "cell_type": "code",
   "execution_count": null,
   "metadata": {},
   "outputs": [],
   "source": [
    "len(fruit_list)"
   ]
  },
  {
   "cell_type": "code",
   "execution_count": null,
   "metadata": {},
   "outputs": [],
   "source": [
    "for i in range(len(fruit_list)):\n",
    "    print(i)"
   ]
  },
  {
   "cell_type": "markdown",
   "metadata": {},
   "source": [
    "### **Comprehensions List (Liste de compréhensions)**\n",
    "\n",
    "Une syntaxe concise pour créer des listes."
   ]
  },
  {
   "cell_type": "code",
   "execution_count": null,
   "metadata": {},
   "outputs": [],
   "source": [
    "# Créer une liste des carrés des nombres de 0 à 9\n",
    "carres = []\n",
    "for i in range(10):\n",
    "    carres.append(i * i)\n",
    "print(carres)"
   ]
  },
  {
   "cell_type": "code",
   "execution_count": null,
   "metadata": {},
   "outputs": [],
   "source": [
    "# La même chose avec une list comprehension\n",
    "carres_comprehension = [i * i for i in range(10)]\n",
    "print(carres_comprehension)"
   ]
  },
  {
   "cell_type": "code",
   "execution_count": null,
   "metadata": {},
   "outputs": [],
   "source": [
    "# Avec une condition : carrés des nombres pairs\n",
    "carres_pairs = [i * i for i in range(10) if i % 2 == 0]\n",
    "print(carres_pairs)"
   ]
  },
  {
   "cell_type": "markdown",
   "metadata": {},
   "source": [
    "### 2. **La boucle `while`**"
   ]
  },
  {
   "cell_type": "markdown",
   "metadata": {},
   "source": [
    "La boucle `while` continue à s'exécuter tant qu'une condition est vraie. C'est utile pour des boucles dont le nombre d'itérations n'est pas prédéfini ou lors de boucle infinie (par exemple pour un jeu vidéo ou un serveur)."
   ]
  },
  {
   "cell_type": "code",
   "execution_count": null,
   "metadata": {},
   "outputs": [],
   "source": [
    "while True:\n",
    "    print('a')"
   ]
  },
  {
   "cell_type": "code",
   "execution_count": null,
   "metadata": {},
   "outputs": [],
   "source": [
    "count = 0\n",
    "\n",
    "while count < 5:\n",
    "    print(\"The count is:\", count)\n",
    "    count += 1"
   ]
  },
  {
   "cell_type": "markdown",
   "metadata": {},
   "source": [
    "Tout comme dans les conditions `if`, il est possible d'éxecuter un bloc d'instructions à la fin des boucle `for` et `while` en utilisant le mot-clé `else`.\n",
    "\n",
    "L'usage du mot-clé else avec une boucle `for` ou `while` permet d'exécuter un bloc d'instructions lorsque la boucle se termine normalement, c'est-à-dire sans interruption par une instruction `break`. Cela peut être utile pour effectuer des actions supplémentaires après la fin de la boucle, comme afficher un message ou effectuer un nettoyage."
   ]
  },
  {
   "cell_type": "code",
   "execution_count": null,
   "metadata": {},
   "outputs": [],
   "source": [
    "count = 0\n",
    "\n",
    "while count <= 10:\n",
    "    print(\"The count is:\", count)\n",
    "    count += 2\n",
    "\n",
    "else:\n",
    "    print(\"\\nLoop completed successfully!\")"
   ]
  },
  {
   "cell_type": "markdown",
   "metadata": {},
   "source": [
    "Il est également possible de parcourir une liste de nombre négatifs indépendamment de leur valeur."
   ]
  },
  {
   "cell_type": "code",
   "execution_count": null,
   "metadata": {},
   "outputs": [],
   "source": [
    "int_list = [i for i in range(-20, 0)]\n",
    "print(int_list)"
   ]
  },
  {
   "cell_type": "code",
   "execution_count": null,
   "metadata": {},
   "outputs": [],
   "source": [
    "count = 0\n",
    "while count < 10:\n",
    "    print(count, int_list[count])\n",
    "    count += 1"
   ]
  },
  {
   "cell_type": "code",
   "execution_count": null,
   "metadata": {},
   "outputs": [],
   "source": [
    "count = 0\n",
    "arret = 5\n",
    "\n",
    "while count <= arret:\n",
    "    print(count)\n",
    "    count +=1"
   ]
  },
  {
   "cell_type": "markdown",
   "metadata": {},
   "source": [
    "### 3. ***Les instructions de contrôle de flux***"
   ]
  },
  {
   "cell_type": "markdown",
   "metadata": {},
   "source": [
    "En python il existe plusieurs instructions de contrôle de flux qui permettent de modifier le comportement des boucles et des conditions, dont les plus courantes sont :\n",
    "\n",
    "- `pass` : Cette instruction ne fait rien. Elle est utilisée lors de la construction d'un bloc de code syntaxiquement valide mais sans la volonté d'exécuter des actions pour l'instant.\n",
    "\n",
    "- `break` : Cette instruction permet de sortir immédiatement de la boucle dans laquelle elle se trouve, interrompant ainsi l'exécution des itérations restantes.\n",
    "\n",
    "- `continue` : Cette instruction permet de passer directement à l'itération suivante de la boucle, en sautant le reste du code dans l'itération courante."
   ]
  },
  {
   "cell_type": "code",
   "execution_count": null,
   "metadata": {},
   "outputs": [],
   "source": [
    "for i in range(10):\n",
    "    pass # ne fait rien mais évite qu'une erreur soit levée\n",
    "\n",
    "else:\n",
    "    print(\"Loop completed successfully!\")"
   ]
  },
  {
   "cell_type": "code",
   "execution_count": null,
   "metadata": {},
   "outputs": [],
   "source": [
    "fruit_list = [\"apple\", \"banana\", \"cherry\", \"passion fruit\", \"kiwi\", \"mango\"]\n",
    "\n",
    "for fruit in fruit_list:\n",
    "    print(fruit)\n",
    "    if fruit == \"banana\":\n",
    "        print(\"\\nBanana is in the list, stop the loop!\\n\")\n",
    "        break  # Sort de la boucle dès que \"banana\" est trouvé\n",
    "\n",
    "else:\n",
    "    print(\"\\nLoop completed successfully!\")"
   ]
  },
  {
   "cell_type": "code",
   "execution_count": null,
   "metadata": {},
   "outputs": [],
   "source": [
    "for i in range(10):\n",
    "    if i % 2 == 0:\n",
    "        continue # N'éxécute pas le reste du code et passe à l'itération suivante\n",
    "    print(i)"
   ]
  },
  {
   "cell_type": "markdown",
   "metadata": {},
   "source": [
    "### 4. ***Gestion des exceptions***\n",
    "\n",
    "Lors de l'utilisation de boucles, il est parfois nécessaire de gérer les erreurs qui peuvent survenir. Python propose le mécanisme `try/except` qui permet de capturer et traiter les exceptions sans arrêter brutalement le programme."
   ]
  },
  {
   "cell_type": "code",
   "execution_count": null,
   "metadata": {},
   "outputs": [],
   "source": [
    "# Exemple avec une liste contenant différents types de données\n",
    "data = [1, 2, \"trois\", 4, 5, \"six\", 7]\n",
    "\n",
    "for item in data:\n",
    "    try:\n",
    "        result = item + 2\n",
    "        print(f\"Résultat : {result}\")\n",
    "    except TypeError:\n",
    "        print(f\"Erreur : impossible de calculer '{item}' + 2\")"
   ]
  },
  {
   "cell_type": "code",
   "execution_count": null,
   "metadata": {},
   "outputs": [],
   "source": [
    "# Exemple avec une liste contenant différents types de données sans le try / except\n",
    "data = [1, 2, \"trois\", 4, 5, \"six\", 7]\n",
    "\n",
    "for item in data:\n",
    "    result = item + 2\n",
    "    print(f\"Résultat : {result}\")"
   ]
  },
  {
   "cell_type": "code",
   "execution_count": null,
   "metadata": {},
   "outputs": [],
   "source": [
    "# Exemple avec division par zéro dans une boucle while\n",
    "numbers = [10, 5, 0, 3, 8, 0, 2]\n",
    "i = 0\n",
    "\n",
    "while i < len(numbers):\n",
    "    try:\n",
    "        result = 100 / numbers[i]\n",
    "        print(f\"100 / {numbers[i]} = {result}\")\n",
    "    except ZeroDivisionError:\n",
    "        print(f\"Erreur : division par zéro avec l'itération {i+1}\")\n",
    "    finally:\n",
    "        i += 1  # S'assurer que la boucle continue"
   ]
  },
  {
   "cell_type": "markdown",
   "metadata": {},
   "source": [
    "Le bloc `finally` est optionnel et s'exécute toujours, que l'exception soit attrapée ou non. Il est particulièrement utile dans les boucles pour s'assurer que certaines actions (comme l'incrémentation d'un compteur) sont toujours effectuées."
   ]
  },
  {
   "cell_type": "markdown",
   "metadata": {},
   "source": [
    "**Réalisé par [Benjamin QUINET](https://www.linkedin.com/in/benjamin-quinet-freelance-dev-data-ia)**"
   ]
  }
 ],
 "metadata": {
  "kernelspec": {
   "display_name": ".venv",
   "language": "python",
   "name": "python3"
  },
  "language_info": {
   "codemirror_mode": {
    "name": "ipython",
    "version": 3
   },
   "file_extension": ".py",
   "mimetype": "text/x-python",
   "name": "python",
   "nbconvert_exporter": "python",
   "pygments_lexer": "ipython3",
   "version": "3.12.3"
  }
 },
 "nbformat": 4,
 "nbformat_minor": 2
}
