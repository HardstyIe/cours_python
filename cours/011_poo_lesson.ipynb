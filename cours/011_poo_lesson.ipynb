{
 "cells": [
  {
   "cell_type": "markdown",
   "metadata": {},
   "source": [
    "# **La Programmation Orientée Objet (POO)**"
   ]
  },
  {
   "cell_type": "markdown",
   "metadata": {},
   "source": [
    "## **Introduction**"
   ]
  },
  {
   "cell_type": "markdown",
   "metadata": {},
   "source": [
    "### ***Qu'est-ce que la Programmation Orientée Objet (POO) ?***"
   ]
  },
  {
   "cell_type": "markdown",
   "metadata": {},
   "source": [
    "La **programmation orientée objet** (POO) est un paradigme de programmation basé sur le concept des **\"objets\"**.\n",
    "Ces objets sont des entités qui combinent des **données** (appelées attributs ou propriétés) et des **comportements** (appelés méthodes ou fonctions).\n",
    "\n",
    "Ce paradigme vise à modéliser des entités du monde réel ou abstrait de manière à mieux structurer, organiser et réutiliser le code.\n",
    "\n",
    "Celui-ci est utilisé dans beaucoup de langages de programmation comme **python**, **java**, **C++**, **C#**, **Ruby**, **PHP**, etc."
   ]
  },
  {
   "cell_type": "markdown",
   "metadata": {},
   "source": [
    "#### ***Principes de base de la POO***"
   ]
  },
  {
   "cell_type": "markdown",
   "metadata": {},
   "source": [
    "1. **Objet** :\n",
    "   Un objet est une instance d'une classe qui représente une entité particulière. Il regroupe des données (sous forme d'attributs) et des fonctions pour manipuler ces données (sous forme de méthodes).\n",
    "\n",
    "2. **Classe** :\n",
    "   Une classe est un modèle ou un plan qui définit les caractéristiques et les comportements que ses objets auront. Elle sert de \"moule\" pour créer des objets.\n",
    "\n",
    "\n",
    "3. **Attributs** :\n",
    "   Ce sont des variables qui appartiennent à une classe ou à un objet. Elles contiennent des informations spécifiques liées à l'objet.\n",
    "\n",
    "\n",
    "4. **Méthodes** :\n",
    "   Ce sont des fonctions définies dans une classe et qui peuvent être appelées sur des objets de cette classe. Elles définissent les comportements que l'objet peut avoir.\n"
   ]
  },
  {
   "cell_type": "markdown",
   "metadata": {},
   "source": [
    "##### ***Imaginons la réalisation d'un gâteau :***"
   ]
  },
  {
   "cell_type": "markdown",
   "metadata": {},
   "source": [
    "1. **Classe : La recette**\n",
    "\n",
    "   La classe, c'est comme une **recette de gâteau**. Elle ne représente pas un gâteau particulier, mais elle contient **le plan** pour en créer un. La recette indique quels ingrédients sont nécessaires et explique les étapes à suivre pour réaliser le gâteau.\n",
    "\n",
    "\n",
    "2. **Attributs : Les ingrédients**\n",
    "\n",
    "   Les attributs sont les **ingrédients** du gâteau. Ils définissent les caractéristiques spécifiques de chaque gâteau préparé. Par exemple, la recette peut demander de la farine, du sucre, des œufs, et du lait. Ces ingrédients sont les données nécessaires pour réaliser le gâteau. Ils sont spécifiques à chaque recette de gâteau.\n",
    "\n",
    "\n",
    "3. **Méthodes : L'ordre de préparation**\n",
    "\n",
    "   Les méthodes, ce sont les **étapes de préparation** du gâteau : mélanger les ingrédients, préchauffer le four, verser la pâte dans un moule, cuire le gâteau. Chaque méthode décrit une action à réaliser sur les ingrédients pour aboutir au résultat final, le gâteau.\n",
    "\n",
    "\n",
    "4. **Objet (Instance) : Un gâteau**\n",
    "\n",
    "   Une fois que la recette est totalement suivie et les ingrédients utilisés, on obtient **un gâteau concret**. Ce gâteau est une **instance** de la recette, c'est-à-dire un **objet** basé sur le modèle (**la classe**). Si plusieurs gâteaux sont réalisés en suivant la même recette, on obtient plusieurs objets (gâteaux) distincts, même si tous ont été créés à partir de la même classe (la recette). \n",
    "\n",
    "\n",
    "Ainsi, chaque fois que la recette est suivie pour faire un nouveau gâteau, une nouvelle **instance** de la classe \"Gâteau\" est créée, avec ses propres caractéristiques.\n",
    "Chaque gâteau aura ses propres caractéristiques (attributs) et peut être manipulé de manière indépendante (méthodes). Par exemple chaque gâteau réalisé peut avoir un nombre de bougies différents, une décoration différente, etc."
   ]
  },
  {
   "cell_type": "code",
   "execution_count": null,
   "metadata": {},
   "outputs": [],
   "source": [
    "class Gateau:\n",
    "    def __init__(self, farine, lait, oeuf, sucre):\n",
    "        self.farine = farine\n",
    "        self.lait = lait\n",
    "        self.oeuf = oeuf\n",
    "        self.sucre = sucre\n",
    "        self.pate = None\n",
    "        self.cuit = False\n",
    "        self.decore = False\n",
    "\n",
    "    def melanger_ingredients(self):\n",
    "        self.pate = f\"Mélange de {self.farine} de farine, {self.lait} de lait, {self.oeuf} œuf(s) et {self.sucre} de sucre.\"\n",
    "        print(\"Les ingrédients sont mélangés.\")\n",
    "        return self.pate\n",
    "\n",
    "    def cuire(self):\n",
    "        if self.pate:\n",
    "            self.cuit = True\n",
    "            print(\"Le gâteau est cuit.\")\n",
    "        else:\n",
    "            print(\"Vous devez d'abord mélanger les ingrédients.\")\n",
    "\n",
    "    def decorer(self, decoration):\n",
    "        if self.cuit:\n",
    "            self.decore = True\n",
    "            self.decoration = decoration\n",
    "            print(f\"Le gâteau est décoré avec {decoration}.\")\n",
    "        else:\n",
    "            print(\"Vous devez d'abord cuire le gâteau.\")"
   ]
  },
  {
   "cell_type": "code",
   "execution_count": null,
   "metadata": {},
   "outputs": [],
   "source": [
    "# Création d'une instance de Gateau avec des ingrédients spécifiques\n",
    "mon_gateau = Gateau('200g', '100ml', 2, '150g')"
   ]
  },
  {
   "cell_type": "code",
   "execution_count": null,
   "metadata": {},
   "outputs": [],
   "source": [
    "# Cuisson du gâteau\n",
    "mon_gateau.cuire()"
   ]
  },
  {
   "cell_type": "code",
   "execution_count": null,
   "metadata": {},
   "outputs": [],
   "source": [
    "# Mélange des ingrédients\n",
    "mon_gateau.melanger_ingredients()"
   ]
  },
  {
   "cell_type": "code",
   "execution_count": null,
   "metadata": {},
   "outputs": [],
   "source": [
    "# Cuisson du gâteau\n",
    "mon_gateau.cuire()"
   ]
  },
  {
   "cell_type": "code",
   "execution_count": null,
   "metadata": {},
   "outputs": [],
   "source": [
    "# Décoration du gâteau\n",
    "mon_gateau.decorer('des fraises')"
   ]
  },
  {
   "cell_type": "markdown",
   "metadata": {},
   "source": [
    "#### ***Les 4 piliers de la POO***"
   ]
  },
  {
   "cell_type": "markdown",
   "metadata": {},
   "source": [
    "1. **Encapsulation** :\n",
    "\n",
    "   L'encapsulation est un principe de la programmation orientée objet qui consiste à rassembler les données (**les attributs**) et les actions (**les méthodes**) dans une même entité appelée objet. Ensuite, on contrôle l'**accès à ces données** pour éviter que n'importe qui puisse les modifier directement.\n",
    "\n",
    "   Pour cela, on utilise des règles pour définir qui peut voir ou modifier ces données. Par exemple :\n",
    "\n",
    "   L'encapsulation, dans l'exemple du gâteau, revient à rassembler les ingrédients et les étapes de la préparation dans une seule entité. On peut décider de garder certaines informations privées, comme la quantité exacte de sucre ou la température précise du four, et les protéger pour éviter que d'autres ne les modifient directement. Cela permet de garantir que chaque gâteau est bien préparé de manière cohérente et en toute sécurité, sans risquer qu'un ingrédient soit remplacé accidentellement.\n",
    "\n",
    "\n",
    "\n",
    "2. **Héritage** :\n",
    "\n",
    "   L'héritage permet de créer une nouvelle classe à partir d'une classe existante. La nouvelle classe, appelée **classe dérivée** ou **sous-classe**, hérite des attributs et méthodes de la classe de base (ou **classe parente**), et peut aussi avoir ses propres attributs et méthodes.\n",
    "\n",
    "   Exemple : on peut imaginer avoir une recette de base pour un gâteau (la classe parente), puis créer une nouvelle recette à partir de celle-ci (la sous-classe). On pourrait alors créer une sous-recette pour un gâteau au chocolat en partant de la recette de gâteau classique. Cette nouvelle recette héritera des étapes de base (mélanger la farine, ajouter les œufs), mais ajoutera aussi des éléments propres comme le chocolat fondu. Cela permet de réutiliser une partie des instructions sans avoir à tout réécrire.\n",
    "\n",
    "\n",
    "\n",
    "3. **Polymorphisme** :\n",
    "\n",
    "   Le polymorphisme permet d'utiliser une interface commune pour manipuler des objets de différentes classes. Il existe sous deux formes :\n",
    "   - **Polymorphisme de surcharge** : plusieurs méthodes peuvent avoir le même nom, mais des signatures différentes (types ou nombres d'arguments). À noter qu'en python la surcharge de méthode n'est pas directement implémenté comme dans d'autres langage et qu'il faudra par exemple utiliser **args* et ***kwargs* pour simuler la surcharge de méthode.\n",
    "   - **Polymorphisme d'héritage** : une méthode définie dans une classe parente (générale) peut être modifiée dans une classe \"enfant\" (spécifique) pour faire quelque chose d’un peu différent, tout en gardant le même nom. Cela permet d’adapter le comportement de la méthode à la classe spécifique.\n",
    "\n",
    "   Cela permet à un même morceau de code d'être utilisé de manière flexible selon l'objet sur lequel il est appliqué. Par exemple :\n",
    "\n",
    "   On pourrait avoir une étape dans toutes les recettes qui consiste à \"décorer le gâteau\". Pour un gâteau d'anniversaire, cela peut vouloir dire **ajouter des bougies**, tandis que pour un gâteau de mariage, cela pourrait signifier **ajouter des fleurs**. Chaque type de gâteau suit la même action (décorer) mais l'**adapte selon ses besoins spécifiques**, ce qui permet de varier le résultat sans changer la méthode de base.\n",
    "\n",
    "\n",
    "\n",
    "4. **Abstraction** :\n",
    "\n",
    "   L'abstraction consiste à cacher les détails internes et à ne montrer que l'essentiel à l'utilisateur. Cela permet de simplifier l'interface d'utilisation d'une classe en masquant sa complexité.\n",
    "\n",
    "   L'abstraction consiste à masquer les détails complexes de la préparation d'un gâteau pour ne montrer que ce qui est essentiel. Par exemple, quand on présente un gâteau à quelqu’un, il n’a pas besoin de savoir comment on a battu les œufs ou mélangé la pâte. Ce qui compte, c'est le résultat final : un gâteau prêt à être mangé. L'abstraction, dans ce cas, consiste à cacher les détails techniques (le processus de cuisson exact) et à ne montrer que l'aspect global (le gâteau lui-même)."
   ]
  },
  {
   "cell_type": "markdown",
   "metadata": {},
   "source": [
    "### ***Pourquoi utiliser la POO ?***"
   ]
  },
  {
   "cell_type": "markdown",
   "metadata": {},
   "source": [
    "1. **Modularité** :\n",
    "   La POO facilite l'organisation du code en unités réutilisables. Chaque classe peut être conçue pour être indépendante, ce qui permet de la réutiliser dans différents projets.\n",
    "\n",
    "2. **Facilité de maintenance** :\n",
    "   Grâce à l'encapsulation et à l'héritage, la POO permet de modifier le code sans impacter d'autres parties du programme. Cela simplifie grandement la maintenance et l'extension des applications.\n",
    "\n",
    "3. **Réutilisation du code** :\n",
    "   Avec l'héritage, il est possible de réutiliser du code existant en créant de nouvelles classes qui héritent des fonctionnalités de classes de base. Cela réduit la duplication de code.\n",
    "\n",
    "4. **Gestion de la complexité** :\n",
    "   La POO permet de mieux structurer les programmes, en facilitant leur décomposition en entités logiques et claires. Les objets permettent de modéliser des concepts complexes du monde réel ou abstrait."
   ]
  },
  {
   "cell_type": "markdown",
   "metadata": {},
   "source": [
    "### ***Exemples d'objets dans la vie réelle et leur modélisation en code***"
   ]
  },
  {
   "cell_type": "markdown",
   "metadata": {},
   "source": []
  },
  {
   "cell_type": "markdown",
   "metadata": {},
   "source": [
    "## **Les bases des classes et des objets en Python**"
   ]
  },
  {
   "cell_type": "markdown",
   "metadata": {},
   "source": [
    "### ***Classes et Objets (Instances)***"
   ]
  },
  {
   "cell_type": "markdown",
   "metadata": {},
   "source": [
    "#### **Définition d'une Classe**"
   ]
  },
  {
   "cell_type": "markdown",
   "metadata": {},
   "source": [
    "En Python, une classe est définie à l'aide du mot-clé `class` suivi du **nom** de la classe et d'un **deux-points**. On utilise la nomenclature **CamelCase** pour les noms de classe (chaque mot commence par une majuscule)."
   ]
  },
  {
   "cell_type": "code",
   "execution_count": null,
   "metadata": {},
   "outputs": [],
   "source": [
    "class Animal:\n",
    "    pass"
   ]
  },
  {
   "cell_type": "markdown",
   "metadata": {},
   "source": [
    "#### **Création de l'objet (instance)**"
   ]
  },
  {
   "cell_type": "code",
   "execution_count": null,
   "metadata": {},
   "outputs": [],
   "source": [
    "mon_animal = Animal()"
   ]
  },
  {
   "cell_type": "markdown",
   "metadata": {},
   "source": [
    "Ici, `mon_animal` est une instance de la classe `Animal`."
   ]
  },
  {
   "cell_type": "markdown",
   "metadata": {},
   "source": [
    "### **Attributs et Méthodes**"
   ]
  },
  {
   "cell_type": "markdown",
   "metadata": {},
   "source": [
    "#### **Attributs**"
   ]
  },
  {
   "cell_type": "markdown",
   "metadata": {},
   "source": [
    "On retrouve deux types d'attributs, les **attributs d'instances** (propriétés propres à chaque objet) et les **attributs de classe** (propriétés partagées par toutes les instances de la classe.)\n",
    "\n",
    "Les attributs d'instances se font grâce au constructeur `__init__` qui est automatiquement appelé lors de la création de l'objet."
   ]
  },
  {
   "cell_type": "code",
   "execution_count": null,
   "metadata": {},
   "outputs": [],
   "source": [
    "class Animal:\n",
    "\n",
    "    espece = \"Mammifère\" # attribut de classe\n",
    "\n",
    "    def __init__(self, nom):\n",
    "        self.nom = nom # attribut d'instance"
   ]
  },
  {
   "cell_type": "code",
   "execution_count": null,
   "metadata": {},
   "outputs": [],
   "source": [
    "mon_animal = Animal(\"Chien\")\n",
    "\n",
    "print(mon_animal.espece)\n",
    "print(mon_animal.nom)"
   ]
  },
  {
   "cell_type": "code",
   "execution_count": null,
   "metadata": {},
   "outputs": [],
   "source": [
    "mon_animal_1 = Animal(\"Chat\")\n",
    "\n",
    "print(mon_animal_1.espece)\n",
    "print(mon_animal_1.nom)"
   ]
  },
  {
   "cell_type": "markdown",
   "metadata": {},
   "source": [
    "##### **Exercice Pratique**"
   ]
  },
  {
   "cell_type": "markdown",
   "metadata": {},
   "source": [
    "- Créer une classe `Table` avec l'attribut de classe `type_objet` initialisé à `'meuble'`.\n",
    "\n",
    "- Ajouter les attributs d'instance `longueur`, `largeur`, `hauteur`\n",
    "\n",
    "- Créer le constructeur `__init__` pour initialiser ces attributs.\n",
    "\n",
    "- Instancier un objet `ma_table` de cette classe.\n",
    "\n",
    "- Afficher les informations de `ma_table` avec : `print(f\"Type : {ma_table.type_objet}, Longueur : {ma_table.longueur}, Largeur : {ma_table.largeur}, Hauteur : {ma_table.hauteur}\")`."
   ]
  },
  {
   "cell_type": "code",
   "execution_count": null,
   "metadata": {},
   "outputs": [],
   "source": []
  },
  {
   "cell_type": "markdown",
   "metadata": {},
   "source": [
    "#### **Méthodes**"
   ]
  },
  {
   "cell_type": "markdown",
   "metadata": {},
   "source": [
    "Une méthode d'instance est une **fonction** définie à l'**intérieur** d'une classe et qui est appelée sur une instance de cette classe."
   ]
  },
  {
   "cell_type": "code",
   "execution_count": null,
   "metadata": {},
   "outputs": [],
   "source": [
    "class Animal:\n",
    "    def __init__(self, nom):\n",
    "        self.nom = nom\n",
    "\n",
    "    def manger(self):\n",
    "        print(f\"{self.nom} mange.\")"
   ]
  },
  {
   "cell_type": "code",
   "execution_count": null,
   "metadata": {},
   "outputs": [],
   "source": [
    "mon_animal = Animal(\"Médor\")\n",
    "mon_animal.manger()"
   ]
  },
  {
   "cell_type": "markdown",
   "metadata": {},
   "source": [
    "##### **Exercice Pratique**"
   ]
  },
  {
   "cell_type": "markdown",
   "metadata": {},
   "source": [
    "- Créer une classe `Professeur` avec les attributs `nom`, `matiere`.\n",
    "\n",
    "- Créer le constructeur `__init__` pour initialiser ces attributs.\n",
    "\n",
    "- Ajouter la méthode `enseigner()` qui affiche \"Le professeur {nom} enseigne {matiere}\".\n",
    "\n",
    "- Instancier un objet `mon_professeur` de cette classe.\n",
    "\n",
    "- Tester la méthode enseigner du professeur."
   ]
  },
  {
   "cell_type": "code",
   "execution_count": null,
   "metadata": {},
   "outputs": [],
   "source": []
  },
  {
   "cell_type": "markdown",
   "metadata": {},
   "source": [
    "### **Le mot-clé `self`**"
   ]
  },
  {
   "cell_type": "markdown",
   "metadata": {},
   "source": [
    "Dans une classe Python, le mot-clé `self` fait référence à **l'instance actuelle** de la classe. Il est utilisé pour accéder aux **attributs** et aux **méthodes** de cette instance spécifique. Chaque fois que vous définissez une méthode dans une classe, vous devez inclure `self` comme premier paramètre, bien que vous ne deviez pas le passer explicitement lors de l'appel à la méthode. \n",
    "\n",
    "Python le fait automatiquement en utilisant la nomenclature `objet.méthode()` où `objet` correspond à `self`."
   ]
  },
  {
   "cell_type": "code",
   "execution_count": null,
   "metadata": {},
   "outputs": [],
   "source": [
    "mon_animal = Animal(\"Chat\")\n",
    "mon_animal_1 = Animal(\"Chien\")\n",
    "\n",
    "mon_animal.manger()\n",
    "mon_animal_1.manger()"
   ]
  },
  {
   "cell_type": "markdown",
   "metadata": {},
   "source": [
    "`self` est indispensable dans les méthodes d'instances de la classe pour garantir que chaque instance peut accéder à ses propres attributs et méthodes, indépendamment des autres instances. Il assure une bonne encapsulation des données à l'intérieur de chaque objet. \n",
    "\n",
    "Dans cet exemple, sans l'utilisation de `self` il serait impossible de distinguer quel animal mange.\n",
    "\n",
    "À noter que certaines méthodes sont dites **statiques** et n'ont pas besoin de `self` pour être appelées. En Python elles sont définies avec le décorateur `@staticmethod` et peuvent être appelées directement sur la classe sans instanciation. Bien qu'elles ne soient pas détaillées ici, il est utile de savoir qu'elles existent."
   ]
  },
  {
   "cell_type": "markdown",
   "metadata": {},
   "source": [
    "##### **Exercice Pratique**"
   ]
  },
  {
   "cell_type": "markdown",
   "metadata": {},
   "source": [
    "Créer une classe Voiture avec des attributs de base :"
   ]
  },
  {
   "cell_type": "markdown",
   "metadata": {},
   "source": [
    "Objectif : Créer une classe `Voiture` avec les **attributs** `marque`, `annee`, `vitesse_max` et la **méthode** `afficher_vitesse_max` qui affiche la vitesse maximale de la voiture."
   ]
  },
  {
   "cell_type": "markdown",
   "metadata": {},
   "source": [
    "Étapes :\n",
    "\n",
    "- Définir la classe `Voiture`\n",
    "\n",
    "- Ajouter le constructeur `__init__` avec les attributs `marque`, `annee` et `vitesse_max`\n",
    "\n",
    "- Créer la méthode `afficher_vitesse_max`\n",
    "\n",
    "- Instancier 2 voitures différentes et afficher leur vitesse maximale."
   ]
  },
  {
   "cell_type": "code",
   "execution_count": null,
   "metadata": {},
   "outputs": [],
   "source": []
  },
  {
   "cell_type": "markdown",
   "metadata": {},
   "source": [
    "## **Encapsulation et Méthodes spéciales en Python**"
   ]
  },
  {
   "cell_type": "markdown",
   "metadata": {},
   "source": [
    "### ***Encapsulation***"
   ]
  },
  {
   "cell_type": "markdown",
   "metadata": {},
   "source": [
    "Notion de variables privées et protégées :\n",
    "- Attributs **publics** : Accessibles depuis n'importe où.\n",
    "\n",
    "- Attributs **protégés** : Préfixées par un underscore `_`. Conventionnellement, ils ne devraient pas être accédés directement en dehors de la classe. Dans les autres langage de programmation comme le C# ou Java, ils sont réellement protégés et ne peuvent utilisés que dans la classe ou les classes dérivées. En Python, ils sont simplement une convention pour indiquer qu'ils ne devraient pas être modifiées directement.\n",
    "\n",
    "- Attributs **privés** : Préfixées par deux underscores `__`. Dans les autres langage de programmation, ils sont réellement privés et ne peuvent utilisés que dans la classe elle-même et nulle part ailleurs. Python réalise du \"name mangling\" pour rendre l'accès direct plus difficile, mais il est toujours possible d'y accéder."
   ]
  },
  {
   "cell_type": "code",
   "execution_count": null,
   "metadata": {},
   "outputs": [],
   "source": [
    "class Animal:\n",
    "    def __init__(self, nom, age):\n",
    "        self.nom = nom              # Attribut public\n",
    "        self._espece = \"Mammifère\"  # Attribut protégé\n",
    "        self.__age = age            # Attribut privé"
   ]
  },
  {
   "cell_type": "code",
   "execution_count": null,
   "metadata": {},
   "outputs": [],
   "source": [
    "mon_animal = Animal(\"Chien\", 5)\n",
    "print(mon_animal.nom)"
   ]
  },
  {
   "cell_type": "code",
   "execution_count": null,
   "metadata": {},
   "outputs": [],
   "source": [
    "print(mon_animal._espece)"
   ]
  },
  {
   "cell_type": "code",
   "execution_count": null,
   "metadata": {},
   "outputs": [],
   "source": [
    "print(mon_animal.__age)"
   ]
  },
  {
   "cell_type": "code",
   "execution_count": null,
   "metadata": {},
   "outputs": [],
   "source": [
    "print(dir(mon_animal))"
   ]
  },
  {
   "cell_type": "code",
   "execution_count": null,
   "metadata": {},
   "outputs": [],
   "source": [
    "print(mon_animal._Animal__age)"
   ]
  },
  {
   "cell_type": "markdown",
   "metadata": {},
   "source": [
    "#### **Utilisation des propriétés avec le décorateur `@property`**"
   ]
  },
  {
   "cell_type": "markdown",
   "metadata": {},
   "source": [
    "Les propriétés permettent de **contrôler l'accès** aux attributs et d'ajouter de la logique lors de leur lecture ou écriture."
   ]
  },
  {
   "cell_type": "markdown",
   "metadata": {},
   "source": [
    "Le décorateur `@property` en Python est une manière d'utiliser des **méthodes** comme si elles étaient des **attributs**. Il permet de contrôler l'accès aux attributs d'une classe, offrant une **interface publique** propre tout en encapsulant la logique interne. En d'autres termes, il facilite l'encapsulation en permettant de gérer la lecture, l'écriture et la suppression des attributs de manière contrôlée.\n",
    "\n",
    "**Pourquoi utiliser `@property` ?**\n",
    "\n",
    "- Encapsulation améliorée : Il permet de protéger les attributs sensibles en contrôlant leur accès.\n",
    "\n",
    "- Interface uniforme : Les utilisateurs de la classe n'ont pas besoin de changer leur code si la manière dont les attributs sont stockés ou calculés change.\n",
    "\n",
    "- Validation des données : Il offre la possibilité d'ajouter des vérifications ou transformations lors de la lecture ou de l'écriture des attributs."
   ]
  },
  {
   "cell_type": "markdown",
   "metadata": {},
   "source": [
    "##### **Utilisation classique sans utiliser `@property` :**"
   ]
  },
  {
   "cell_type": "markdown",
   "metadata": {},
   "source": [
    "Lorsqu'on n'utilise pas `@property`, il faut utiliser des getters et des setters pour contrôler l'accès aux attributs."
   ]
  },
  {
   "cell_type": "code",
   "execution_count": null,
   "metadata": {},
   "outputs": [],
   "source": [
    "class Personne:\n",
    "    def __init__(self, nom):\n",
    "        self._nom = nom  # Attribut protégé\n",
    "\n",
    "    def get_nom(self):\n",
    "        return self._nom\n",
    "\n",
    "    def set_nom(self, nouveau_nom):\n",
    "        if isinstance(nouveau_nom, str):\n",
    "            self._nom = nouveau_nom\n",
    "        else:\n",
    "            raise ValueError(\"Le nom doit être une chaîne de caractères.\")\n",
    "\n",
    "# Utilisation\n",
    "p = Personne(\"Alice\")\n",
    "print(p.get_nom())  # Accès via le getter"
   ]
  },
  {
   "cell_type": "code",
   "execution_count": null,
   "metadata": {},
   "outputs": [],
   "source": [
    "p.set_nom(\"Bob\")    # Modification via le setter\n",
    "print(p.get_nom())  # Accès via le getter"
   ]
  },
  {
   "cell_type": "code",
   "execution_count": null,
   "metadata": {},
   "outputs": [],
   "source": [
    "p.nom = \"Charlie\"  # l'attribut _nom est protégé et l'attribut nom n'existe pas, cela va donc créer un nouvel attribut nom qui n'existe dans aucune autre instance de la classe\n",
    "print(p.get_nom())"
   ]
  },
  {
   "cell_type": "code",
   "execution_count": null,
   "metadata": {},
   "outputs": [],
   "source": [
    "class Personne:\n",
    "    def __init__(self, nom):\n",
    "        self._nom = nom  # Attribut protégé\n",
    "\n",
    "    @property\n",
    "    def nom(self):\n",
    "        return self._nom\n",
    "\n",
    "    @nom.setter\n",
    "    def nom(self, nouveau_nom):\n",
    "        if isinstance(nouveau_nom, str):\n",
    "            self._nom = nouveau_nom\n",
    "        else:\n",
    "            raise ValueError(\"Le nom doit être une chaîne de caractères.\")"
   ]
  },
  {
   "cell_type": "code",
   "execution_count": null,
   "metadata": {},
   "outputs": [],
   "source": [
    "# Utilisation\n",
    "p = Personne(\"Alice\")\n",
    "print(p.nom)     # Accès direct comme un attribut"
   ]
  },
  {
   "cell_type": "markdown",
   "metadata": {},
   "source": [
    "Lorsqu'on réaffecte l'attribut `nom` c'est la méthode `def nom` qui possède le décorateur ̀`@nom.setter` qui est appelée. C'est cette méthode qui est chargée de mettre à jour la variable d'instance `_nom` avec la nouvelle valeur."
   ]
  },
  {
   "cell_type": "code",
   "execution_count": null,
   "metadata": {},
   "outputs": [],
   "source": [
    "p.nom = \"Bob\"    # Modification directe\n",
    "print(p.nom)"
   ]
  },
  {
   "cell_type": "code",
   "execution_count": null,
   "metadata": {},
   "outputs": [],
   "source": [
    "print(p._nom)"
   ]
  },
  {
   "cell_type": "code",
   "execution_count": null,
   "metadata": {},
   "outputs": [],
   "source": [
    "class Personne:\n",
    "    def __init__(self, nom, age):\n",
    "        self._nom = nom  # Attribut protégé\n",
    "        self._age = age  # Attribut protégé\n",
    "\n",
    "    @property\n",
    "    def nom(self):\n",
    "        return self._nom\n",
    "\n",
    "    @nom.setter\n",
    "    def nom(self, nouveau_nom):\n",
    "        if isinstance(nouveau_nom, str):\n",
    "            self._nom = nouveau_nom\n",
    "        else:\n",
    "            raise ValueError(\"Le nom doit être une chaîne de caractères.\")\n",
    "        \n",
    "    @nom.deleter\n",
    "    def nom(self):\n",
    "        del self._nom\n",
    "    \n",
    "    @property\n",
    "    def age(self):\n",
    "        return self._age\n",
    "    \n",
    "    @age.setter\n",
    "    def age(self, nouvel_age):\n",
    "        if isinstance(nouvel_age, int) and nouvel_age >= 0:\n",
    "            self._age = nouvel_age\n",
    "        else:\n",
    "            raise ValueError(\"L'âge doit être un entier positif.\")\n",
    "        \n",
    "    @age.deleter\n",
    "    def age(self):\n",
    "        print(\"Suppression de l'attribut age...\")\n",
    "        del self._age"
   ]
  },
  {
   "cell_type": "code",
   "execution_count": null,
   "metadata": {},
   "outputs": [],
   "source": [
    "p = Personne(\"Alice\", 30)\n",
    "print(p.nom)\n",
    "print(p.age)"
   ]
  },
  {
   "cell_type": "code",
   "execution_count": null,
   "metadata": {},
   "outputs": [],
   "source": [
    "for _ in range(10):\n",
    "    p.age += 1\n",
    "    print(p.age)"
   ]
  },
  {
   "cell_type": "code",
   "execution_count": null,
   "metadata": {},
   "outputs": [],
   "source": [
    "p.age = -20"
   ]
  },
  {
   "cell_type": "markdown",
   "metadata": {},
   "source": [
    "Cela permet également d'effectuer des actions supplémentaires comme ici avec la suppression de l'attribut `age`."
   ]
  },
  {
   "cell_type": "code",
   "execution_count": null,
   "metadata": {},
   "outputs": [],
   "source": [
    "p._age -= 20"
   ]
  },
  {
   "cell_type": "code",
   "execution_count": null,
   "metadata": {},
   "outputs": [],
   "source": [
    "print(p._age)"
   ]
  },
  {
   "cell_type": "code",
   "execution_count": null,
   "metadata": {},
   "outputs": [],
   "source": [
    "del p.nom"
   ]
  },
  {
   "cell_type": "code",
   "execution_count": null,
   "metadata": {},
   "outputs": [],
   "source": [
    "del p.age"
   ]
  },
  {
   "cell_type": "markdown",
   "metadata": {},
   "source": [
    "En plus de simplifié l'utilisation de l'attribut, cela rends également la conception de la classe plus propre et plus lisible. Évitant ainsi de multiplier les méthodes `get_` et `set_` inutilement.\n",
    "\n",
    "De plus cela permet de contrôler l'accès à l'attribut et de valider les données avant de les affecter."
   ]
  },
  {
   "cell_type": "code",
   "execution_count": null,
   "metadata": {},
   "outputs": [],
   "source": [
    "class Personne:\n",
    "    def __init__(self, nom, age):\n",
    "        self.nom = nom\n",
    "        self.age = age\n",
    "\n",
    "    def get_nom(self):\n",
    "        return self.nom\n",
    "    \n",
    "    def set_nom(self, nouveau_nom):\n",
    "        self.nom = nouveau_nom\n",
    "\n",
    "    def get_age(self):\n",
    "        return self.age\n",
    "    \n",
    "    def set_age(self, nouvel_age):\n",
    "        self.age = nouvel_age"
   ]
  },
  {
   "cell_type": "code",
   "execution_count": null,
   "metadata": {},
   "outputs": [],
   "source": [
    "p = Personne(\"Alice\", 30)\n",
    "\n",
    "for _ in range(10):\n",
    "    p.set_age(p.get_age() + 1)\n",
    "    print(p.get_age())"
   ]
  },
  {
   "cell_type": "markdown",
   "metadata": {},
   "source": [
    "##### **Exercice Pratique**"
   ]
  },
  {
   "cell_type": "markdown",
   "metadata": {},
   "source": [
    "- Créer une classe `CompteBancaire` avec un attribut protégé `_titulaire` et un attribut privé `__solde`.\n",
    "\n",
    "- Utiliser `@property` pour ajouter ou retirer de l'argent du compte.\n",
    "\n",
    "- Créer une méthode `afficher_solde` pour afficher le solde actuel et une méthode `afficher_titulaire` pour afficher le titulaire du compte.\n",
    "\n",
    "- Instancier un objet `mon_compte` de cette classe et tester les méthodes d'ajout et de retrait d'argent.\n",
    "\n",
    "- Afficher le solde après chaque opération.\n"
   ]
  },
  {
   "cell_type": "code",
   "execution_count": null,
   "metadata": {},
   "outputs": [],
   "source": []
  },
  {
   "cell_type": "markdown",
   "metadata": {},
   "source": [
    "### ***Méthodes Spéciales***"
   ]
  },
  {
   "cell_type": "markdown",
   "metadata": {},
   "source": [
    "Les méthodes spéciales ont des noms encadrés de **double underscores** et permettent de définir le comportement de l'objet avec des fonctions natives de Python.\n",
    "\n",
    "`__init__` : Constructeur de la classe.\n",
    "\n",
    "`__str__` : Représentation informelle de l'objet (utilisée par `print()`).\n",
    "\n",
    "`__repr__` : Représentation officielle de l'objet (utilisée en console)."
   ]
  },
  {
   "cell_type": "code",
   "execution_count": null,
   "metadata": {},
   "outputs": [],
   "source": [
    "class Animal:\n",
    "    def __init__(self, nom, age):\n",
    "        self.nom = nom\n",
    "        self.age = age\n",
    "\n",
    "    def __str__(self):\n",
    "        return f\"{self.nom}, âgé de {self.age} ans\"\n",
    "\n",
    "    def __repr__(self):\n",
    "        return f\"Animal(nom='{self.nom}', age={self.age})\""
   ]
  },
  {
   "cell_type": "code",
   "execution_count": null,
   "metadata": {},
   "outputs": [],
   "source": [
    "mon_animal = Animal(\"Chien\", 5)"
   ]
  },
  {
   "cell_type": "code",
   "execution_count": null,
   "metadata": {},
   "outputs": [],
   "source": [
    "print(mon_animal)"
   ]
  },
  {
   "cell_type": "code",
   "execution_count": null,
   "metadata": {},
   "outputs": [],
   "source": [
    "print(repr(mon_animal))"
   ]
  },
  {
   "cell_type": "markdown",
   "metadata": {},
   "source": [
    "##### **Exercice Pratique**"
   ]
  },
  {
   "cell_type": "markdown",
   "metadata": {},
   "source": [
    "Améliorer la classe `Voiture` de tout à l'heure en ajoutant les fonctionnalités suivantes :\n",
    "\n",
    "- Ajouter un attribut privé `vitesse_actuelle` initialisé à 0.\n",
    "\n",
    "- Créer 2 méthodes `accelerer` et `ralentir` qui prend en paramètre une vitesse et l'ajoute ou la soustrait à la vitesse actuelle.\n",
    "\n",
    "- Créer une méthode `afficher_vitesse_actuelle` qui affiche la vitesse actuelle de la voiture.\n",
    "\n",
    "- Tranformer l'attribut `vitesse_max` en attribut protégé.\n",
    "\n",
    "- Utiliser `@property` pour accéder à l'attribut `vitesse_max`.\n",
    "\n",
    "- Créer une méthode avec un décorateur `setter` pour modifier la vitesse maximale de la voiture.\n",
    "\n",
    "- Utiliser les méthodes spéciales `__str__` et `__repr__` pour afficher les informations de la voiture.\n",
    "\n",
    "- Instancier une voiture et tester les différentes méthodes."
   ]
  },
  {
   "cell_type": "code",
   "execution_count": null,
   "metadata": {},
   "outputs": [],
   "source": []
  },
  {
   "cell_type": "markdown",
   "metadata": {},
   "source": [
    "## **Héritage, Composition et Polymorphisme**"
   ]
  },
  {
   "cell_type": "markdown",
   "metadata": {},
   "source": [
    "### ***Héritage***"
   ]
  },
  {
   "cell_type": "markdown",
   "metadata": {},
   "source": [
    "L'héritage permet à une classe (dite **sous-classe** ou **classe dérivée**) d'hériter des attributs et méthodes d'une autre classe (dite **classe parente** ou **classe de base**)."
   ]
  },
  {
   "cell_type": "markdown",
   "metadata": {},
   "source": [
    "**Classe de base `Animal`:**"
   ]
  },
  {
   "cell_type": "code",
   "execution_count": null,
   "metadata": {},
   "outputs": [],
   "source": [
    "class Animal:\n",
    "    def __init__(self, nom, age):\n",
    "        self.nom = nom\n",
    "        self.age = age\n",
    "\n",
    "    def se_deplacer(self):\n",
    "        print(f\"{self.nom} se déplace avec joie.\")"
   ]
  },
  {
   "cell_type": "code",
   "execution_count": null,
   "metadata": {},
   "outputs": [],
   "source": [
    "mon_animal = Animal(\"Chien\", 5)\n",
    "mon_animal.se_deplacer()"
   ]
  },
  {
   "cell_type": "markdown",
   "metadata": {},
   "source": [
    "**Sous-Classe `Poisson`:**"
   ]
  },
  {
   "cell_type": "markdown",
   "metadata": {},
   "source": [
    "La fonction `super()` permet d'appeler des méthodes de la classe parente, facilitant ainsi l'héritage des attributs et des méthodes."
   ]
  },
  {
   "cell_type": "code",
   "execution_count": null,
   "metadata": {},
   "outputs": [],
   "source": [
    "class Poisson(Animal):\n",
    "    def __init__(self, nom, age, type_eau):\n",
    "        super().__init__(nom, age)\n",
    "        self.type_eau = type_eau\n",
    "        self.__age = 10\n",
    "\n",
    "    def nager(self):\n",
    "        print(f\"{self.nom} nage dans l'eau {self.type_eau}.\")"
   ]
  },
  {
   "cell_type": "code",
   "execution_count": null,
   "metadata": {},
   "outputs": [],
   "source": [
    "mon_poisson = Poisson(\"Poisson rouge\", 1, \"douce\")\n",
    "mon_poisson.se_deplacer()\n",
    "mon_poisson.nager()"
   ]
  },
  {
   "cell_type": "markdown",
   "metadata": {},
   "source": [
    "**Sous-Classe `Requin`:**"
   ]
  },
  {
   "cell_type": "code",
   "execution_count": null,
   "metadata": {},
   "outputs": [],
   "source": [
    "class Requin(Poisson):\n",
    "    def __init__(self, nom, age, type_eau, nb_dents):\n",
    "        super().__init__(nom, age, type_eau)\n",
    "        self.nb_dents = nb_dents\n",
    "\n",
    "    def attaquer(self):\n",
    "        print(f\"{self.nom} attaque avec ses {self.nb_dents} dents.\")"
   ]
  },
  {
   "cell_type": "code",
   "execution_count": null,
   "metadata": {},
   "outputs": [],
   "source": [
    "mon_requin = Requin(\"Requin blanc\", 10, \"salée\", 300)\n",
    "mon_requin.se_deplacer()\n",
    "mon_requin.nager()\n",
    "mon_requin.attaquer()"
   ]
  },
  {
   "cell_type": "markdown",
   "metadata": {},
   "source": [
    "Ici `Requin` hérite de `Poisson` qui lui-même hérite de `Animal`, c'est pourquoi ont peut utiliser toutes les méthodes de `Poisson` et `Animal` directement dans `Requin`."
   ]
  },
  {
   "cell_type": "markdown",
   "metadata": {},
   "source": [
    "### ***Composition***"
   ]
  },
  {
   "cell_type": "markdown",
   "metadata": {},
   "source": [
    "Bien que l’héritage soit très utile, il n’est pas toujours la meilleure solution. La **composition** permet de construire des objets complexes à partir d'autres objets, favorisant une structure plus modulaire et flexible."
   ]
  },
  {
   "cell_type": "code",
   "execution_count": null,
   "metadata": {},
   "outputs": [],
   "source": [
    "class Moteur:\n",
    "    def __init__(self, puissance):\n",
    "        self.puissance = puissance\n",
    "        \n",
    "    def demarrer(self):\n",
    "        print(\"Le moteur démarre.\")\n",
    "\n",
    "class Voiture:\n",
    "    def __init__(self, marque):\n",
    "        self.marque = marque\n",
    "        self.moteur = Moteur(100)\n",
    "\n",
    "    def demarrer(self):\n",
    "        self.moteur.demarrer()\n",
    "        print(\"La voiture demarre\")\n",
    "\n",
    "    def accelerer(self):\n",
    "        print(f\"La voiture {self.marque} accélère grâce à son moteur de {self.moteur.puissance} chevaux.\")"
   ]
  },
  {
   "cell_type": "markdown",
   "metadata": {},
   "source": [
    "Ici la voiture démarre grâce au moteur."
   ]
  },
  {
   "cell_type": "code",
   "execution_count": null,
   "metadata": {},
   "outputs": [],
   "source": [
    "voiture = Voiture(\"Toyota\")\n",
    "voiture.demarrer()"
   ]
  },
  {
   "cell_type": "markdown",
   "metadata": {},
   "source": [
    "De plus on peut se servir de tous les attributs de l'objet `moteur` dans l'objet `voiture`."
   ]
  },
  {
   "cell_type": "code",
   "execution_count": null,
   "metadata": {},
   "outputs": [],
   "source": [
    "voiture.accelerer()"
   ]
  },
  {
   "cell_type": "code",
   "execution_count": null,
   "metadata": {},
   "outputs": [],
   "source": [
    "voiture.moteur.puissance = 150"
   ]
  },
  {
   "cell_type": "code",
   "execution_count": null,
   "metadata": {},
   "outputs": [],
   "source": [
    "voiture.accelerer()"
   ]
  },
  {
   "cell_type": "markdown",
   "metadata": {},
   "source": [
    "### ***Polymorphisme***"
   ]
  },
  {
   "cell_type": "markdown",
   "metadata": {},
   "source": [
    "Le **polymorphisme** permet d'utiliser une même interface pour des objets de **classes différentes**. Les méthodes redéfinies dans les **sous-classes** permettent un comportement spécifique tout en conservant une interface commune.\n",
    "\n",
    "**Surcharge et redéfinition de méthodes :**\n",
    "\n",
    "- **Redéfinition (overriding) :** Une sous-classe redéfinit une méthode existante de la classe parente.\n",
    "\n",
    "- **Surcharge (overloading) :** Non supportée directement en Python, mais peut être simulée avec des paramètres par défaut ou *args et **kwargs.\n"
   ]
  },
  {
   "cell_type": "markdown",
   "metadata": {},
   "source": [
    "**Rédéfinition :**"
   ]
  },
  {
   "cell_type": "code",
   "execution_count": null,
   "metadata": {},
   "outputs": [],
   "source": [
    "class Animal:\n",
    "    def communiquer(self):\n",
    "        print(\"L'animal émet un son.\")\n",
    "\n",
    "class Chien(Animal):\n",
    "    def communiquer(self):\n",
    "        print(\"Le chien aboie.\")\n",
    "\n",
    "class Chat(Animal):\n",
    "    def communiquer(self):\n",
    "        print(\"Le chat miaule.\")"
   ]
  },
  {
   "cell_type": "code",
   "execution_count": null,
   "metadata": {},
   "outputs": [],
   "source": [
    "animaux = [Chien(), Chat(), Animal()]\n",
    "\n",
    "for animal in animaux:\n",
    "    animal.communiquer()"
   ]
  },
  {
   "cell_type": "markdown",
   "metadata": {},
   "source": [
    "**Surcharge :**"
   ]
  },
  {
   "cell_type": "markdown",
   "metadata": {},
   "source": [
    "La surcharge permet de définir plusieurs fois une méthode avec le même nom qui prend un nombre variable de paramètre en entrée. Ceci n'étant pas possible en python, il faudra utiliser *args et **kwargs pour simuler la surcharge de méthode."
   ]
  },
  {
   "cell_type": "code",
   "execution_count": null,
   "metadata": {},
   "outputs": [],
   "source": [
    "class Calculatrice:\n",
    "    def calculer(self, operation : str, *nombres):\n",
    "        if not nombres:\n",
    "            raise ValueError(\"Au moins un nombre doit être fourni.\")\n",
    "        \n",
    "        if operation == 'addition':\n",
    "            return sum(nombres)\n",
    "        if operation == 'multiplication':\n",
    "            resultat = 1\n",
    "            for nombre in nombres:\n",
    "                resultat *= nombre\n",
    "            return resultat\n",
    "        if operation == 'soustraction':\n",
    "            resultat = nombres[0]\n",
    "            for nombre in nombres[1:]:\n",
    "                resultat -= nombre\n",
    "            return resultat\n",
    "        if operation == 'division':\n",
    "            resultat = nombres[0]\n",
    "            for nombre in nombres[1:]:\n",
    "                if nombre == 0:\n",
    "                    raise ValueError(\"Division par zéro impossible.\")\n",
    "                resultat /= nombre\n",
    "            return resultat\n",
    "\n",
    "        raise ValueError(f\"Opération '{operation}' non supportée.\")"
   ]
  },
  {
   "cell_type": "code",
   "execution_count": null,
   "metadata": {},
   "outputs": [],
   "source": [
    "calc = Calculatrice()\n",
    "print(calc.calculer('addition', 1, 2, 3, 4, 5))\n",
    "print(calc.calculer('multiplication', 1, 2, 3, 4, 5))\n",
    "print(calc.calculer('soustraction', 10, 3, 2))\n",
    "print(calc.calculer('division', 20, 2, 2))"
   ]
  },
  {
   "cell_type": "markdown",
   "metadata": {},
   "source": [
    "## **Exercice Pratique : Système de Gestion de Bâtiments**"
   ]
  },
  {
   "cell_type": "markdown",
   "metadata": {},
   "source": [
    "#### **Objectifs de l'exercice :**\n",
    "\n",
    "- Utilisation d'attributs protégés et privés, et du décorateur `@property`.\n",
    "\n",
    "- Pratique de l'héritage avec des sous-classes qui ajoutent des attributs et des méthodes spécifiques.\n",
    "\n",
    "- Mise en place de polymorphisme à travers des méthodes redéfinies dans les sous-classes.\n",
    "\n",
    "- Implémentation des méthodes spéciales `__str__` et `__repr__` pour une représentation claire des objets."
   ]
  },
  {
   "cell_type": "markdown",
   "metadata": {},
   "source": [
    "#### **Contexte :**\n",
    "Vous travaillez pour une société de gestion de bâtiments. Votre tâche est de créer un système de gestion de plusieurs types de bâtiments avec des fonctionnalités spécifiques à chaque type."
   ]
  },
  {
   "cell_type": "markdown",
   "metadata": {},
   "source": [
    "#### **Étapes :**\n",
    "\n",
    "1. **Créer une classe de base `Batiment`** qui représente un bâtiment général avec les attributs et méthodes suivants :\n",
    "\n",
    "   - **Attributs :**\n",
    "   \n",
    "     - `nom` (nom du bâtiment)\n",
    "     \n",
    "     - `adresse` (adresse du bâtiment)\n",
    "     \n",
    "     - `surface` (surface en mètres carrés)\n",
    "     \n",
    "   - **Méthodes :**\n",
    "   \n",
    "     - `__init__` pour initialiser un bâtiment avec ses attributs.\n",
    "     \n",
    "     - `afficher_informations` pour afficher les informations du bâtiment.\n",
    "     \n",
    "     - `calculer_taxe_fonciere` pour calculer la taxe foncière basée sur la surface (à raison de 10€ par m²).\n",
    "     \n",
    "     - Utiliser `__str__` et `__repr__` pour représenter l'objet en texte.\n",
    "     \n",
    "\n",
    "2. **Créer une sous-classe `Maison`**, qui hérite de `Batiment` :\n",
    "\n",
    "   - **Attributs supplémentaires :**\n",
    "   \n",
    "     - `nombre_pieces` (nombre de pièces dans la maison)\n",
    "     \n",
    "     - `jardin` (booléen indiquant si la maison a un jardin)\n",
    "     \n",
    "   - **Méthodes :**\n",
    "   \n",
    "     - `afficher_informations` qui redéfinit la méthode pour afficher les informations supplémentaires sur la maison.\n",
    "     \n",
    "     - Ajouter une méthode `calculer_taxe_fonciere` qui ajoute 100€ si la maison a un jardin.\n",
    "     \n",
    "\n",
    "3. **Créer une sous-classe `Immeuble`**, qui hérite de `Batiment` :\n",
    "\n",
    "   - **Attributs supplémentaires :**\n",
    "   \n",
    "     - `nombre_appartements` (nombre d'appartements dans l'immeuble)\n",
    "     \n",
    "   - **Méthodes :**\n",
    "   \n",
    "     - Redéfinir la méthode `afficher_informations` pour afficher les informations de l’immeuble.\n",
    "     \n",
    "     - Redéfinir la méthode `calculer_taxe_fonciere` pour ajouter 50€ par appartement.\n",
    "     \n",
    "\n",
    "4. **Créer une classe `ImmeubleBureaux`** qui hérite de `Immeuble` :\n",
    "\n",
    "   - **Attributs supplémentaires :**\n",
    "   \n",
    "     - `nombre_bureaux` (nombre de bureaux dans l’immeuble)\n",
    "     \n",
    "   - **Méthodes :**\n",
    "   \n",
    "     - Redéfinir la méthode `calculer_taxe_fonciere` pour ajouter 200€ par bureau.\n",
    "     \n",
    "     - Redéfinir la méthode `afficher_informations` pour inclure les bureaux dans les informations affichées.\n",
    "     \n",
    "\n",
    "5. **Encapsulation et `@property` :**\n",
    "\n",
    "   - Pour la classe `Batiment`, encapsulez l'attribut `surface` (utilisez un attribut protégé `_surface`), et utilisez le décorateur `@property` pour le rendre accessible avec \n",
    "   une validation qui s'assure que la surface est un nombre positif.\n",
    "   - Créez un setter pour l'attribut `surface` qui lève une exception si une surface négative est fournie.\n",
    "   \n",
    "\n",
    "6. **Tester le polymorphisme :**\n",
    "   - Créez une fonction `afficher_taxe_fonciere(batiment)` qui prend un bâtiment (qu'il s'agisse d'une `Maison`, d'un `Immeuble` ou d'un `ImmeubleBureaux`) et affiche la taxe foncière calculée. Testez cette fonction avec plusieurs instances différentes."
   ]
  },
  {
   "cell_type": "markdown",
   "metadata": {},
   "source": [
    "**Bonne programmation !**"
   ]
  },
  {
   "cell_type": "code",
   "execution_count": null,
   "metadata": {},
   "outputs": [],
   "source": []
  },
  {
   "cell_type": "markdown",
   "metadata": {},
   "source": [
    "**Réalisé par [Benjamin QUINET](https://www.linkedin.com/in/benjamin-quinet-freelance-dev-data-ia)**"
   ]
  }
 ],
 "metadata": {
  "kernelspec": {
   "display_name": ".venv",
   "language": "python",
   "name": "python3"
  },
  "language_info": {
   "codemirror_mode": {
    "name": "ipython",
    "version": 3
   },
   "file_extension": ".py",
   "mimetype": "text/x-python",
   "name": "python",
   "nbconvert_exporter": "python",
   "pygments_lexer": "ipython3",
   "version": "3.12.3"
  }
 },
 "nbformat": 4,
 "nbformat_minor": 2
}
