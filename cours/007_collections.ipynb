{
 "cells": [
  {
   "cell_type": "markdown",
   "metadata": {},
   "source": [
    "# **Les Collections en Python**"
   ]
  },
  {
   "cell_type": "markdown",
   "metadata": {},
   "source": [
    "## ***Introduction aux Collections***\n",
    "\n",
    "En programmation, on a souvent besoin de stocker et de manipuler plusieurs éléments de données ensemble. Les **collections** (ou structures de données conteneurs) permettent de regrouper plusieurs valeurs dans une seule variable. Python offre plusieurs types de collections intégrées, chacun avec ses caractéristiques et ses cas d'utilisation.\n",
    "\n",
    "Les principales collections en Python sont :\n",
    "\n",
    "\n",
    "*   **Listes (`list`)**\n",
    "\n",
    "*   **Tuples (`tuple`)**\n",
    "\n",
    "*   **Dictionnaires (`dict`)**\n",
    "\n",
    "*   **Ensembles (`set`)**"
   ]
  },
  {
   "cell_type": "markdown",
   "metadata": {},
   "source": [
    "## ***1. Les Listes (`list`)***\n",
    "\n",
    "Une liste est une collection **ordonnée** et **mutable** (modifiable) d'éléments. Les éléments peuvent être de types différents et les doublons sont autorisés."
   ]
  },
  {
   "cell_type": "markdown",
   "metadata": {},
   "source": [
    "### **Création d'une liste**\n",
    "\n",
    "On crée une liste en plaçant les éléments entre crochets `[]`, séparés par des virgules, ou en utilisant la fonction `list()`."
   ]
  },
  {
   "cell_type": "code",
   "execution_count": null,
   "metadata": {},
   "outputs": [],
   "source": [
    "# Liste vide\n",
    "liste_vide = []\n",
    "liste_vide_alt = list()\n",
    "print(liste_vide_alt)"
   ]
  },
  {
   "cell_type": "code",
   "execution_count": null,
   "id": "882af593",
   "metadata": {},
   "outputs": [],
   "source": [
    "# Liste avec des éléments\n",
    "fruits = [\"pomme\", \"banane\", \"cerise\"]\n",
    "nombres = [1, 5, 2, 8, 3]\n",
    "mixte = [1, \"texte\", 3.14, True, None, [\"autre\", \"liste\"]]\n",
    "\n",
    "print(fruits)\n",
    "print(nombres)\n",
    "print(mixte)\n",
    "print(type(fruits)) # <class 'list'>"
   ]
  },
  {
   "cell_type": "markdown",
   "metadata": {},
   "source": [
    "### **Accès aux éléments (Indexation)**\n",
    "\n",
    "Les éléments d'une liste sont accessibles via leur **index** (position), qui commence à `0`."
   ]
  },
  {
   "cell_type": "code",
   "execution_count": null,
   "metadata": {},
   "outputs": [],
   "source": [
    "fruits = [\"pomme\", \"banane\", \"cerise\", \"orange\"]\n",
    "print(fruits)"
   ]
  },
  {
   "cell_type": "code",
   "execution_count": null,
   "id": "53ea4e7e",
   "metadata": {},
   "outputs": [],
   "source": [
    "print(fruits[0])"
   ]
  },
  {
   "cell_type": "code",
   "execution_count": null,
   "id": "616c5470",
   "metadata": {},
   "outputs": [],
   "source": [
    "print(fruits[2])"
   ]
  },
  {
   "cell_type": "markdown",
   "id": "413054f6",
   "metadata": {},
   "source": [
    "On peut aussi utiliser des index négatifs, où `-1` désigne le dernier élément, `-2` l'avant-dernier, etc."
   ]
  },
  {
   "cell_type": "code",
   "execution_count": null,
   "id": "837d105d",
   "metadata": {},
   "outputs": [],
   "source": [
    "print(fruits[-1])"
   ]
  },
  {
   "cell_type": "code",
   "execution_count": null,
   "id": "31f81ede",
   "metadata": {},
   "outputs": [],
   "source": [
    "print(fruits[-3])"
   ]
  },
  {
   "cell_type": "code",
   "execution_count": null,
   "id": "de46fa6c",
   "metadata": {},
   "outputs": [],
   "source": [
    "print(fruits[-6])"
   ]
  },
  {
   "cell_type": "markdown",
   "metadata": {},
   "source": [
    "### **Découpage (Slicing)**\n",
    "\n",
    "Le slicing permet d'extraire une sous-liste. La syntaxe est `liste[start:stop:step]`.\n",
    "\n",
    "\n",
    "*   `start` : Index de début (inclus, défaut 0).\n",
    "\n",
    "*   `stop` : Index de fin (exclus, défaut fin de la liste).\n",
    "\n",
    "*   `step` : Pas (défaut 1)."
   ]
  },
  {
   "cell_type": "code",
   "execution_count": null,
   "id": "c01891af",
   "metadata": {},
   "outputs": [],
   "source": [
    "nombres = [0, 1, 5, 3, 12, 5, 6, 7, 8, 9]"
   ]
  },
  {
   "cell_type": "code",
   "execution_count": null,
   "id": "bcdc87fd",
   "metadata": {},
   "outputs": [],
   "source": [
    "print(nombres[2:5])"
   ]
  },
  {
   "cell_type": "code",
   "execution_count": null,
   "id": "d4449120",
   "metadata": {},
   "outputs": [],
   "source": [
    "print(nombres[:3])"
   ]
  },
  {
   "cell_type": "code",
   "execution_count": null,
   "id": "347cab3e",
   "metadata": {},
   "outputs": [],
   "source": [
    "print(nombres[6:])"
   ]
  },
  {
   "cell_type": "code",
   "execution_count": null,
   "id": "60b52b51",
   "metadata": {},
   "outputs": [],
   "source": [
    "print(nombres[1:7:2])"
   ]
  },
  {
   "cell_type": "code",
   "execution_count": null,
   "id": "a1e03d2e",
   "metadata": {},
   "outputs": [],
   "source": [
    "print(nombres[::-1])"
   ]
  },
  {
   "cell_type": "code",
   "execution_count": null,
   "metadata": {},
   "outputs": [],
   "source": [
    "print(nombres[:])"
   ]
  },
  {
   "cell_type": "markdown",
   "metadata": {},
   "source": [
    "### **Modification d'une liste**\n",
    "\n",
    "Les listes sont mutables, on peut donc changer leurs éléments, en ajouter ou en supprimer."
   ]
  },
  {
   "cell_type": "code",
   "execution_count": null,
   "metadata": {},
   "outputs": [],
   "source": [
    "couleurs = [\"rouge\", \"vert\", \"bleu\"]\n",
    "\n",
    "# Modifier un élément\n",
    "couleurs[1] = \"jaune\"\n",
    "print(couleurs)"
   ]
  },
  {
   "cell_type": "code",
   "execution_count": null,
   "id": "eb63b80d",
   "metadata": {},
   "outputs": [],
   "source": [
    "# Ajouter un élément à la fin\n",
    "couleurs.append(\"noir\")\n",
    "print(couleurs)"
   ]
  },
  {
   "cell_type": "code",
   "execution_count": null,
   "id": "58c23408",
   "metadata": {},
   "outputs": [],
   "source": [
    "# Insérer un élément à un index spécifique\n",
    "couleurs.insert(1, \"orange\")\n",
    "print(couleurs)"
   ]
  },
  {
   "cell_type": "code",
   "execution_count": null,
   "id": "d655c04e",
   "metadata": {},
   "outputs": [],
   "source": [
    "couleurs.append(\"jaune\")\n",
    "couleurs"
   ]
  },
  {
   "cell_type": "code",
   "execution_count": null,
   "id": "57e1cdcf",
   "metadata": {},
   "outputs": [],
   "source": [
    "# Supprimer un élément par sa valeur (la première occurrence)\n",
    "couleurs.remove(\"jaune\")\n",
    "print(couleurs)"
   ]
  },
  {
   "cell_type": "code",
   "execution_count": null,
   "id": "40d36a75",
   "metadata": {},
   "outputs": [],
   "source": [
    "# Supprimer un élément par son index et le récupérer (optionnel)\n",
    "couleur_supprimee = couleurs.pop(2)\n",
    "print(couleurs)\n",
    "print(couleur_supprimee)"
   ]
  },
  {
   "cell_type": "code",
   "execution_count": null,
   "id": "75455a90",
   "metadata": {},
   "outputs": [],
   "source": [
    "# Supprimer le dernier élément si aucun index n'est spécifié\n",
    "couleurs.pop()\n",
    "print(couleurs)"
   ]
  },
  {
   "cell_type": "code",
   "execution_count": null,
   "id": "b955c152",
   "metadata": {},
   "outputs": [],
   "source": [
    "# Supprimer un élément par index avec del\n",
    "del couleurs[0]\n",
    "print(couleurs)"
   ]
  },
  {
   "cell_type": "code",
   "execution_count": null,
   "id": "3b3dd6d1",
   "metadata": {},
   "outputs": [],
   "source": [
    "del couleurs"
   ]
  },
  {
   "cell_type": "code",
   "execution_count": null,
   "id": "9b6ce305",
   "metadata": {},
   "outputs": [],
   "source": [
    "couleurs"
   ]
  },
  {
   "cell_type": "markdown",
   "metadata": {},
   "source": [
    "### **Méthodes courantes des listes**\n",
    "\n",
    "\n",
    "*   `append(element)` : Ajoute un élément à la fin.\n",
    "\n",
    "*   `insert(index, element)` : Insère un élément à l'index donné.\n",
    "\n",
    "*   `remove(element)` : Supprime la première occurrence de l'élément.\n",
    "\n",
    "*   `pop([index])` : Supprime et retourne l'élément à l'index donné (ou le dernier si omis).\n",
    "\n",
    "*   `sort()` : Trie la liste sur place.\n",
    "\n",
    "*   `reverse()` : Inverse l'ordre des éléments sur place.\n",
    "\n",
    "*   `index(element)` : Retourne l'index de la première occurrence de l'élément.\n",
    "\n",
    "*   `count(element)` : Compte le nombre d'occurrences de l'élément.\n",
    "\n",
    "*   `clear()` : Vide la liste.\n",
    "\n",
    "*   `copy()` : Retourne une copie superficielle de la liste.\n",
    "\n",
    "*   `extend(iterable)` : Ajoute tous les éléments d'un itérable à la fin de la liste."
   ]
  },
  {
   "cell_type": "code",
   "execution_count": null,
   "metadata": {},
   "outputs": [],
   "source": [
    "nombres = [3, 1, 4, 1, 5, 9, 2, 4]\n",
    "nombres.sort()\n",
    "print(nombres)"
   ]
  },
  {
   "cell_type": "code",
   "execution_count": null,
   "id": "1ee6bf0e",
   "metadata": {},
   "outputs": [],
   "source": [
    "nombres.reverse()\n",
    "print(nombres)"
   ]
  },
  {
   "cell_type": "code",
   "execution_count": null,
   "id": "fcbb221e",
   "metadata": {},
   "outputs": [],
   "source": [
    "print(nombres.count(9))"
   ]
  },
  {
   "cell_type": "code",
   "execution_count": null,
   "id": "093ccd23",
   "metadata": {},
   "outputs": [],
   "source": [
    "print(nombres.index(4))"
   ]
  },
  {
   "cell_type": "code",
   "execution_count": null,
   "id": "987c5c8f",
   "metadata": {},
   "outputs": [],
   "source": [
    "autres_nombres = [6, 5]\n",
    "nombres.extend(autres_nombres)\n",
    "print(nombres)"
   ]
  },
  {
   "cell_type": "code",
   "execution_count": null,
   "id": "8c4d1a45",
   "metadata": {},
   "outputs": [],
   "source": [
    "copie_nombres = nombres.copy()\n",
    "print(copie_nombres)"
   ]
  },
  {
   "cell_type": "code",
   "execution_count": null,
   "id": "641f9afa",
   "metadata": {},
   "outputs": [],
   "source": [
    "copie2 = nombres\n",
    "copie2"
   ]
  },
  {
   "cell_type": "code",
   "execution_count": null,
   "id": "cf09fb4d",
   "metadata": {},
   "outputs": [],
   "source": [
    "copie2[2]= \"pomme\""
   ]
  },
  {
   "cell_type": "code",
   "execution_count": null,
   "id": "4ea7e34c",
   "metadata": {},
   "outputs": [],
   "source": [
    "nombres"
   ]
  },
  {
   "cell_type": "markdown",
   "metadata": {},
   "source": [
    "### **Autres opérations**\n",
    "\n",
    "\n",
    "*   `len(liste)` : Retourne le nombre d'éléments dans la liste.\n",
    "\n",
    "*   `element in liste` : Vérifie si un élément est présent (retourne `True` ou `False`).\n",
    "\n",
    "*   `element not in liste` : Vérifie si un élément n'est pas présent."
   ]
  },
  {
   "cell_type": "code",
   "execution_count": null,
   "metadata": {},
   "outputs": [],
   "source": [
    "ma_liste = [10, 20, 30]\n",
    "print(len(ma_liste))"
   ]
  },
  {
   "cell_type": "code",
   "execution_count": null,
   "id": "7f5e25b6",
   "metadata": {},
   "outputs": [],
   "source": [
    "print(20 in ma_liste)"
   ]
  },
  {
   "cell_type": "code",
   "execution_count": null,
   "id": "d6d1a061",
   "metadata": {},
   "outputs": [],
   "source": [
    "print(50 not in ma_liste)"
   ]
  },
  {
   "cell_type": "markdown",
   "id": "6f28ff8e",
   "metadata": {},
   "source": [
    "## **Exercice 1**\n",
    "\n",
    "1. Créez une liste nommée `animaux` contenant les éléments suivants : `\"chien\"`, `\"chat\"`, `\"lapin\"`.\n",
    "2. Affichez le premier élément de la liste.\n",
    "3. Affichez le dernier élément de la liste en utilisant un index négatif."
   ]
  },
  {
   "cell_type": "code",
   "execution_count": null,
   "id": "45ae8c31",
   "metadata": {},
   "outputs": [],
   "source": []
  },
  {
   "cell_type": "markdown",
   "id": "c11ededf",
   "metadata": {},
   "source": [
    "\n",
    "\n",
    "## **Exercice 2**\n",
    "\n",
    "1. Créez une liste nommée `nombres` contenant les éléments suivants : `10`, `20`, `30`, `40`, `50`.\n",
    "2. Affichez une sous-liste contenant uniquement les trois premiers éléments.\n",
    "3. Affichez une sous-liste contenant uniquement les deux derniers éléments.\n"
   ]
  },
  {
   "cell_type": "code",
   "execution_count": null,
   "id": "1186b73e",
   "metadata": {},
   "outputs": [],
   "source": []
  },
  {
   "cell_type": "markdown",
   "id": "83588b78",
   "metadata": {},
   "source": [
    "\n",
    "\n",
    "## **Exercice 3**\n",
    "\n",
    "1. Créez une liste nommée `couleurs` contenant les éléments suivants : `\"rouge\"`, `\"vert\"`, `\"bleu\"`.\n",
    "2. Modifiez le deuxième élément pour qu'il soit `\"jaune\"`.\n",
    "3. Ajoutez un nouvel élément `\"noir\"` à la fin de la liste."
   ]
  },
  {
   "cell_type": "code",
   "execution_count": null,
   "id": "90a963b2",
   "metadata": {},
   "outputs": [],
   "source": []
  },
  {
   "cell_type": "markdown",
   "metadata": {},
   "source": [
    "## ***2. Les Tuples (`tuple`)***\n",
    "\n",
    "Un tuple est une collection **ordonnée** et **immuable** (non modifiable) d'éléments. Comme les listes, ils peuvent contenir des éléments de types différents et autorisent les doublons. L'immuabilité signifie qu'une fois un tuple créé, on ne peut ni ajouter, ni supprimer, ni modifier ses éléments."
   ]
  },
  {
   "cell_type": "markdown",
   "metadata": {},
   "source": [
    "### **Création d'un tuple**\n",
    "\n",
    "On crée un tuple en plaçant les éléments entre parenthèses `()`, séparés par des virgules, ou en utilisant la fonction `tuple()`. Une virgule est nécessaire pour un tuple contenant un seul élément."
   ]
  },
  {
   "cell_type": "code",
   "execution_count": null,
   "metadata": {},
   "outputs": [],
   "source": [
    "# Tuple vide\n",
    "tuple_vide = ()\n",
    "tuple_vide_alt = tuple()"
   ]
  },
  {
   "cell_type": "code",
   "execution_count": null,
   "id": "aaa6876d",
   "metadata": {},
   "outputs": [],
   "source": [
    "# Tuple avec des éléments\n",
    "coordonnees = (10.0, 25.5)\n",
    "couleurs_rgb = (255, 0, 128)\n",
    "infos_personne = (\"Alice\", 30, \"Paris\")"
   ]
  },
  {
   "cell_type": "code",
   "execution_count": null,
   "id": "9264a982",
   "metadata": {},
   "outputs": [],
   "source": [
    "print(coordonnees)\n",
    "print(type(coordonnees)) # <class 'tuple'>"
   ]
  },
  {
   "cell_type": "code",
   "execution_count": null,
   "id": "1fdbf4b0",
   "metadata": {},
   "outputs": [],
   "source": [
    "# Tuple avec un seul élément (notez la virgule !)\n",
    "singleton = (5,)\n",
    "print(singleton)\n",
    "print(type(singleton)) # <class 'tuple'>"
   ]
  },
  {
   "cell_type": "code",
   "execution_count": null,
   "id": "34cfa7df",
   "metadata": {},
   "outputs": [],
   "source": [
    "pas_un_tuple = (5) # Sans virgule, c'est juste un entier entre parenthèses\n",
    "print(type(pas_un_tuple)) # <class 'int'>"
   ]
  },
  {
   "cell_type": "markdown",
   "metadata": {},
   "source": [
    "### **Accès aux éléments et Slicing**\n",
    "\n",
    "L'accès aux éléments et le slicing fonctionnent exactement comme pour les listes."
   ]
  },
  {
   "cell_type": "code",
   "execution_count": null,
   "metadata": {},
   "outputs": [],
   "source": [
    "infos_personne = (\"Alice\", 30, \"Paris\")\n",
    "\n",
    "print(infos_personne[0])\n",
    "print(infos_personne[-1])\n",
    "print(infos_personne[1:])"
   ]
  },
  {
   "cell_type": "markdown",
   "metadata": {},
   "source": [
    "### **Immuabilité**\n",
    "\n",
    "Tenter de modifier un tuple lève une erreur `TypeError`."
   ]
  },
  {
   "cell_type": "code",
   "execution_count": null,
   "metadata": {},
   "outputs": [],
   "source": [
    "mon_tuple = (1, 2, 3)\n",
    "mon_tuple[0] = 10 # Erreur : TypeError: 'tuple' object does not support item assignment\n",
    "# mon_tuple.append(4) # Erreur : AttributeError: 'tuple' object has no attribute 'append'"
   ]
  },
  {
   "cell_type": "markdown",
   "metadata": {},
   "source": [
    "### **Pourquoi utiliser des tuples ?**\n",
    "\n",
    "\n",
    "*   **Sécurité des données :** Leur immuabilité garantit que les données ne seront pas modifiées accidentellement.\n",
    "\n",
    "*   **Performance :** Les tuples sont généralement un peu plus rapides et moins gourmands en mémoire que les listes.\n",
    "\n",
    "*   **Clés de dictionnaire :** Seuls les objets immuables peuvent être utilisés comme clés de dictionnaire. Les tuples (s'ils ne contiennent que des éléments immuables) peuvent donc servir de clés.\n",
    "\n",
    "*   **Retour de fonctions multiples :** Les fonctions retournent souvent plusieurs valeurs sous forme de tuple (comme vu dans le cours sur les fonctions)."
   ]
  },
  {
   "cell_type": "markdown",
   "metadata": {},
   "source": [
    "### **Méthodes courantes des tuples**\n",
    "\n",
    "Les tuples ont peu de méthodes en raison de leur immuabilité :\n",
    "\n",
    "\n",
    "*   `count(element)` : Compte le nombre d'occurrences de l'élément.\n",
    "\n",
    "*   `index(element)` : Retourne l'index de la première occurrence de l'élément."
   ]
  },
  {
   "cell_type": "code",
   "execution_count": null,
   "metadata": {},
   "outputs": [],
   "source": [
    "mon_tuple = (1, 2, 2, 3, 2)\n",
    "print(mon_tuple.count(2)) # Affiche 3\n",
    "print(mon_tuple.index(3)) # Affiche 3"
   ]
  },
  {
   "cell_type": "code",
   "execution_count": null,
   "id": "275b76a2",
   "metadata": {},
   "outputs": [],
   "source": [
    "x, y = (12, 24)\n",
    "\n",
    "print(y)"
   ]
  },
  {
   "cell_type": "markdown",
   "id": "15c02d12",
   "metadata": {},
   "source": [
    "## **Exercice 1**\n",
    "\n",
    "1. Créez un tuple nommé `couleurs` contenant les éléments suivants : `\"rouge\"`, `\"vert\"`, `\"bleu\"`.\n",
    "2. Affichez le deuxième élément du tuple.\n",
    "3. Affichez le dernier élément du tuple en utilisant un index négatif."
   ]
  },
  {
   "cell_type": "code",
   "execution_count": null,
   "id": "7d4a4594",
   "metadata": {},
   "outputs": [],
   "source": []
  },
  {
   "cell_type": "markdown",
   "id": "e62f0c93",
   "metadata": {},
   "source": [
    "## **Exercice 2**\n",
    "\n",
    "1. Créez un tuple nommé `coordonnees` contenant les valeurs `10.5` et `20.8`.\n",
    "2. Assignez les valeurs du tuple `coordonnees` à deux variables `x` et `y`.\n",
    "3. Affichez la valeur de `x` et de `y`."
   ]
  },
  {
   "cell_type": "code",
   "execution_count": null,
   "id": "1c3f4834",
   "metadata": {},
   "outputs": [],
   "source": []
  },
  {
   "cell_type": "markdown",
   "id": "aaa28125",
   "metadata": {},
   "source": [
    "\n",
    "## **Exercice 3**\n",
    "\n",
    "1. Créez un tuple nommé `animaux` contenant les éléments suivants : `\"chien\"`, `\"chat\"`, `\"oiseau\"`.\n",
    "2. Affichez une sous-partie du tuple contenant uniquement les deux premiers éléments.\n",
    "3. Affichez une sous-partie du tuple contenant uniquement le dernier élément."
   ]
  },
  {
   "cell_type": "code",
   "execution_count": null,
   "id": "21209552",
   "metadata": {},
   "outputs": [],
   "source": []
  },
  {
   "cell_type": "markdown",
   "metadata": {},
   "source": [
    "## ***3. Les Dictionnaires (`dict`)***\n",
    "\n",
    "Un dictionnaire est une collection et d'éléments stockés sous forme de paires **clé-valeur**."
   ]
  },
  {
   "cell_type": "markdown",
   "metadata": {},
   "source": [
    "### **Création d'un dictionnaire**\n",
    "\n",
    "On crée un dictionnaire en plaçant les paires clé-valeur entre accolades `{}`, séparées par des virgules, avec un deux-points `:` entre la clé et la valeur, ou en utilisant la fonction `dict()`."
   ]
  },
  {
   "cell_type": "code",
   "execution_count": null,
   "metadata": {},
   "outputs": [],
   "source": [
    "# Dictionnaire vide\n",
    "dict_vide = {}\n",
    "dict_vide_alt = dict()\n",
    "\n",
    "# Dictionnaire avec des éléments\n",
    "personne = {\n",
    "    \"nom\": \"Dupont\",\n",
    "    \"prenom\": [\"Jean\", \"Pascal\"],\n",
    "    \"age\": 45,\n",
    "    \"villes\": {\n",
    "        \"ville_1\" : \"Paris\",\n",
    "        \"ville_2\" : \"Lille\"\n",
    "    }\n",
    "}\n",
    "\n",
    "scores = {\"Alice\": 95, \"Bob\": 88, \"Charlie\": 92}\n",
    "\n",
    "print(personne)\n",
    "print(scores)\n",
    "print(type(personne)) # <class 'dict'>"
   ]
  },
  {
   "cell_type": "markdown",
   "metadata": {},
   "source": [
    "### **Accès aux valeurs**\n",
    "\n",
    "On accède aux valeurs en utilisant leur clé correspondante entre crochets `[]`. Si la clé n'existe pas, cela lève une erreur `KeyError`.\n",
    "La méthode `get(key, [default])` permet d'accéder à une valeur sans lever d'erreur si la clé est absente (elle retourne `None` par défaut, ou la valeur `default` spécifiée)."
   ]
  },
  {
   "cell_type": "code",
   "execution_count": null,
   "id": "fddace1a",
   "metadata": {},
   "outputs": [],
   "source": [
    "dict([[\"name\", \"age\"], [\"dupont\", 18]])"
   ]
  },
  {
   "cell_type": "code",
   "execution_count": null,
   "metadata": {},
   "outputs": [],
   "source": [
    "personne = {\"nom\": \"Dupont\", \"prenom\": \"Jean\", \"age\": 45}\n",
    "\n",
    "print(personne[\"nom\"])  # Affiche 'Dupont'\n",
    "print(personne[\"age\"])  # Affiche 45"
   ]
  },
  {
   "cell_type": "code",
   "execution_count": null,
   "id": "ce46e04b",
   "metadata": {},
   "outputs": [],
   "source": [
    "print(personne[\"adresse\"]) # Erreur : KeyError: 'adresse'"
   ]
  },
  {
   "cell_type": "code",
   "execution_count": null,
   "id": "7a5f1fd7",
   "metadata": {},
   "outputs": [],
   "source": [
    "# Utilisation de get()\n",
    "print(personne.get(\"piercing\"))  # Affiche 'Jean'"
   ]
  },
  {
   "cell_type": "code",
   "execution_count": null,
   "id": "1767f951",
   "metadata": {},
   "outputs": [],
   "source": [
    "print(personne.get(\"adresse\")) # Affiche None (clé absente, pas d'erreur)"
   ]
  },
  {
   "cell_type": "code",
   "execution_count": null,
   "id": "94ccc166",
   "metadata": {},
   "outputs": [],
   "source": [
    "print(personne.get(\"adresse\", \"Non spécifiée\")) # Affiche 'Non spécifiée'"
   ]
  },
  {
   "cell_type": "markdown",
   "metadata": {},
   "source": [
    "### **Ajout et Modification d'éléments**\n",
    "\n",
    "On ajoute une nouvelle paire clé-valeur ou on modifie la valeur d'une clé existante en utilisant l'affectation avec la clé entre crochets."
   ]
  },
  {
   "cell_type": "code",
   "execution_count": null,
   "metadata": {},
   "outputs": [],
   "source": [
    "personne = {\"nom\": \"Dupont\", \"prenom\": \"Jean\"}\n",
    "\n",
    "# Ajouter une nouvelle clé-valeur\n",
    "personne[\"age\"] = 45\n",
    "print(personne)"
   ]
  },
  {
   "cell_type": "code",
   "execution_count": null,
   "id": "e10c09dc",
   "metadata": {},
   "outputs": [],
   "source": [
    "# Modifier une valeur existante\n",
    "personne[\"nom\"] = \"Martin\"\n",
    "print(personne)"
   ]
  },
  {
   "cell_type": "code",
   "execution_count": null,
   "id": "d3be560b",
   "metadata": {},
   "outputs": [],
   "source": [
    "# La méthode update() permet de fusionner un dictionnaire avec un autre\n",
    "personne.update({\"ville\": \"Paris\", \"age\": 46})\n",
    "print(personne)"
   ]
  },
  {
   "cell_type": "markdown",
   "metadata": {},
   "source": [
    "### **Suppression d'éléments**\n",
    "\n",
    "*   `pop(key, [default])` : Supprime la clé et retourne sa valeur. Lève une `KeyError` si la clé n'existe pas et `default` n'est pas fourni.\n",
    "\n",
    "*   `popitem()` : Supprime et retourne une paire clé-valeur arbitraire (le dernier élément inséré depuis Python 3.7).\n",
    "\n",
    "*   `del dictionnaire[key]` : Supprime la paire clé-valeur. Lève une `KeyError` si la clé n'existe pas.\n",
    "\n",
    "*   `clear()` : Vide le dictionnaire."
   ]
  },
  {
   "cell_type": "code",
   "execution_count": null,
   "metadata": {},
   "outputs": [],
   "source": [
    "scores = {\"Alice\": 95, \"Bob\": 88, \"Charlie\": 92}\n",
    "\n",
    "score_bob = scores.pop(\"Bob\")\n",
    "print(scores)\n",
    "print(score_bob)"
   ]
  },
  {
   "cell_type": "code",
   "execution_count": null,
   "id": "19bf3b99",
   "metadata": {},
   "outputs": [],
   "source": [
    "# Supprime et retourne le dernier item\n",
    "dernier_item = scores.popitem()\n",
    "print(scores)\n",
    "print(dernier_item)"
   ]
  },
  {
   "cell_type": "code",
   "execution_count": null,
   "id": "0703a57e",
   "metadata": {},
   "outputs": [],
   "source": [
    "del scores[\"Alice\"]\n",
    "print(scores)"
   ]
  },
  {
   "cell_type": "code",
   "execution_count": null,
   "id": "2df051da",
   "metadata": {},
   "outputs": [],
   "source": [
    "scores = {\"Alice\": 95, \"Bob\": 88}\n",
    "scores.clear()\n",
    "print(scores)"
   ]
  },
  {
   "cell_type": "markdown",
   "metadata": {},
   "source": [
    "### **Méthodes courantes des dictionnaires**\n",
    "\n",
    "\n",
    "*   `keys()` : Retourne une vue des clés du dictionnaire.\n",
    "\n",
    "*   `values()` : Retourne une vue des valeurs du dictionnaire.\n",
    "\n",
    "*   `items()` : Retourne une vue des paires (clé, valeur) du dictionnaire.\n",
    "\n",
    "*   `get(key, [default])` : Retourne la valeur pour la clé, ou `default` si la clé n'existe pas.\n",
    "\n",
    "*   `update(other_dict)` : Met à jour le dictionnaire avec les paires clé-valeur d'un autre dictionnaire ou itérable.\n",
    "\n",
    "*   `pop(key, [default])` : Supprime la clé et retourne sa valeur.\n",
    "\n",
    "*   `popitem()` : Supprime et retourne une paire clé-valeur."
   ]
  },
  {
   "cell_type": "code",
   "execution_count": null,
   "id": "b9cbb87d",
   "metadata": {},
   "outputs": [],
   "source": [
    "len({\"a\": \"b\", \"c\": \"a\"})+len({\"a\", \"b\", \"c\", \"a\"})"
   ]
  },
  {
   "cell_type": "code",
   "execution_count": null,
   "metadata": {},
   "outputs": [],
   "source": [
    "personne = {\"nom\": \"Dupont\", \"prenom\": \"Jean\", \"age\": 45}\n",
    "\n",
    "print(personne.keys())\n",
    "print(personne.values())\n",
    "print(personne.items())"
   ]
  },
  {
   "cell_type": "code",
   "execution_count": null,
   "id": "9adaed7c",
   "metadata": {},
   "outputs": [],
   "source": [
    "# Itérer sur un dictionnaire\n",
    "print(\"\\nItérer sur les clés:\")\n",
    "for cle in personne.keys(): # ou simplement 'for cle in personne:'\n",
    "    print(cle)"
   ]
  },
  {
   "cell_type": "code",
   "execution_count": null,
   "id": "fdf511e5",
   "metadata": {},
   "outputs": [],
   "source": [
    "for cle in personne:\n",
    "    print(cle)"
   ]
  },
  {
   "cell_type": "code",
   "execution_count": null,
   "id": "5c143cda",
   "metadata": {},
   "outputs": [],
   "source": [
    "print(\"\\nItérer sur les valeurs:\")\n",
    "for valeur in personne.values():\n",
    "    print(valeur)"
   ]
  },
  {
   "cell_type": "code",
   "execution_count": null,
   "id": "66a565f8",
   "metadata": {},
   "outputs": [],
   "source": [
    "print(\"\\nItérer sur les paires clé-valeur:\")\n",
    "for cle, valeur in personne.items():\n",
    "    print(f\"{cle}: {valeur}\")"
   ]
  },
  {
   "cell_type": "code",
   "execution_count": null,
   "id": "6dc37590",
   "metadata": {},
   "outputs": [],
   "source": [
    "personne.update({\"ville\": \"Paris\", \"profession\": \"Ingénieur\"})\n",
    "print(personne)"
   ]
  },
  {
   "cell_type": "markdown",
   "metadata": {},
   "source": [
    "### **Autres opérations**\n",
    "\n",
    "\n",
    "*   `len(dictionnaire)` : Retourne le nombre de paires clé-valeur.\n",
    "\n",
    "*   `key in dictionnaire` : Vérifie si une clé est présente.\n",
    "\n",
    "*   `key not in dictionnaire` : Vérifie si une clé n'est pas présente."
   ]
  },
  {
   "cell_type": "code",
   "execution_count": null,
   "metadata": {},
   "outputs": [],
   "source": [
    "personne = {\"nom\": \"Dupont\", \"age\": 45}\n",
    "print(len(personne))\n",
    "print(\"nom\" in personne)\n",
    "print(\"ville\" not in personne)"
   ]
  },
  {
   "cell_type": "markdown",
   "id": "48bd1f83",
   "metadata": {},
   "source": [
    "## **Exercice 1**\n",
    "\n",
    "1. Créez un dictionnaire nommé `etudiant` contenant les informations suivantes :\n",
    "    - Nom : \"Martin\"\n",
    "    - Prénom : \"Sophie\"\n",
    "    - Âge : 22\n",
    "    - Matière préférée : \"Mathématiques\"\n",
    "\n",
    "2. Affichez la valeur associée à la clé `\"Prénom\"`.\n",
    "\n",
    "3. Ajoutez une nouvelle clé `\"Ville\"` avec la valeur `\"Paris\"` au dictionnaire.\n",
    "\n",
    "4. Modifiez la valeur de la clé `\"Âge\"` pour qu'elle soit 23.\n"
   ]
  },
  {
   "cell_type": "code",
   "execution_count": null,
   "id": "93b71103",
   "metadata": {},
   "outputs": [],
   "source": []
  },
  {
   "cell_type": "markdown",
   "id": "f685b7e0",
   "metadata": {},
   "source": [
    "## **Exercice 2**\n",
    "\n",
    "1. Créez un dictionnaire nommé `inventaire` contenant les paires clé-valeur suivantes :\n",
    "    - \"Pommes\" : 10\n",
    "    - \"Bananes\" : 5\n",
    "    - \"Oranges\" : 8\n",
    "\n",
    "2. Supprimez l'entrée correspondant aux `\"Bananes\"`.\n",
    "\n",
    "3. Ajoutez une nouvelle entrée pour `\"Poires\"` avec une quantité de 12.\n",
    "\n",
    "4. Affichez toutes les clés et toutes les valeurs du dictionnaire.\n"
   ]
  },
  {
   "cell_type": "code",
   "execution_count": null,
   "id": "b346ff73",
   "metadata": {},
   "outputs": [],
   "source": []
  },
  {
   "cell_type": "markdown",
   "id": "8dae0276",
   "metadata": {},
   "source": [
    "## **Exercice 3**\n",
    "\n",
    "1. Créez un dictionnaire nommé `notes` contenant les paires clé-valeur suivantes :\n",
    "    - \"Alice\" : 15\n",
    "    - \"Bob\" : 12\n",
    "    - \"Charlie\" : 18\n",
    "\n",
    "2. Afficher chaque étudiant et sa note sous la forme : `\"Alice a obtenu 15 points\"`.\n",
    "\n",
    "3. Ajoutez une nouvelle entrée pour `\"David\"` avec une note de 14."
   ]
  },
  {
   "cell_type": "code",
   "execution_count": null,
   "id": "5cb83939",
   "metadata": {},
   "outputs": [],
   "source": []
  },
  {
   "cell_type": "markdown",
   "metadata": {},
   "source": [
    "## ***4. Les Ensembles (`set`)***\n",
    "\n",
    "Un ensemble est une collection **non indéxé** et **mutable** d'éléments **uniques** (pas de doublons). Ils sont très utiles pour les opérations mathématiques sur les ensembles comme l'union, l'intersection, la différence, etc., et pour vérifier rapidement l'appartenance d'un élément."
   ]
  },
  {
   "cell_type": "markdown",
   "metadata": {},
   "source": [
    "### **Création d'un ensemble**\n",
    "\n",
    "On crée un ensemble en plaçant les éléments entre accolades `{}` (attention, `{}` seul crée un dictionnaire vide) ou en utilisant la fonction `set()`."
   ]
  },
  {
   "cell_type": "code",
   "execution_count": null,
   "metadata": {},
   "outputs": [],
   "source": [
    "# Ensemble vide (utiliser set() !)\n",
    "ensemble_vide = set()\n",
    "pas_un_ensemble = {} # Ceci est un dictionnaire vide\n",
    "print(type(ensemble_vide)) # <class 'set'>\n",
    "print(type(pas_un_ensemble)) # <class 'dict'>\n"
   ]
  },
  {
   "cell_type": "code",
   "execution_count": null,
   "id": "d49e4f37",
   "metadata": {},
   "outputs": [],
   "source": [
    "# Ensemble avec des éléments (les doublons sont automatiquement supprimés)\n",
    "nombres = {1, 2, 3, 4, 2, 3}\n",
    "lettres = set(\"abracadabra\")\n",
    "\n",
    "print(nombres)  # Affiche {1, 2, 3, 4} (ordre non garanti avant Python 3.7, doublons supprimés)\n",
    "print(lettres)  # Affiche {'a', 'r', 'b', 'c', 'd'} (ordre non garanti, doublons supprimés)\n",
    "print(type(nombres)) # <class 'set'>"
   ]
  },
  {
   "cell_type": "markdown",
   "metadata": {},
   "source": [
    "### **Ajout et Suppression d'éléments**\n",
    "\n",
    "\n",
    "*   `add(element)` : Ajoute un élément à l'ensemble. Ne fait rien si l'élément est déjà présent.\n",
    "\n",
    "*   `remove(element)` : Supprime l'élément. Lève une `KeyError` si l'élément n'est pas présent.\n",
    "\n",
    "*   `discard(element)` : Supprime l'élément s'il est présent. Ne lève pas d'erreur s'il est absent.\n",
    "\n",
    "*   `pop()` : Supprime et retourne un élément arbitraire de l'ensemble. Lève une `KeyError` si l'ensemble est vide.\n",
    "\n",
    "*   `clear()` : Vide l'ensemble."
   ]
  },
  {
   "cell_type": "code",
   "execution_count": null,
   "metadata": {},
   "outputs": [],
   "source": [
    "mon_set = {1, 2, 3}\n",
    "\n",
    "mon_set.add(4)\n",
    "print(mon_set) # Affiche {1, 2, 3, 4}\n",
    "\n",
    "mon_set.add(2) # Ne fait rien car 2 est déjà présent\n",
    "print(mon_set) # Affiche {1, 2, 3, 4}\n",
    "\n",
    "mon_set.remove(3)\n",
    "print(mon_set) # Affiche {1, 2, 4}\n",
    "# mon_set.remove(5) # Erreur : KeyError: 5\n",
    "\n",
    "mon_set.discard(1)\n",
    "print(mon_set) # Affiche {2, 4}\n",
    "mon_set.discard(5) # Pas d'erreur, même si 5 n'est pas là\n",
    "print(mon_set) # Affiche {2, 4}\n",
    "\n",
    "element_retire = mon_set.pop()\n",
    "print(element_retire) # Affiche 2 ou 4 (arbitraire)\n",
    "print(mon_set)      # Affiche l'élément restant\n",
    "\n",
    "mon_set.clear()\n",
    "print(mon_set) # Affiche set()"
   ]
  },
  {
   "cell_type": "markdown",
   "metadata": {},
   "source": [
    "### **Opérations sur les ensembles**\n",
    "\n",
    "Les ensembles supportent les opérations mathématiques classiques :\n",
    "\n",
    "\n",
    "*   **Union (`|` ou `union()`)**: Retourne un nouvel ensemble avec les éléments des deux ensembles.\n",
    "\n",
    "*   **Intersection (`&` ou `intersection()`)**: Retourne un nouvel ensemble avec les éléments communs aux deux ensembles.\n",
    "\n",
    "*   **Différence (`-` ou `difference()`)**: Retourne un nouvel ensemble avec les éléments du premier ensemble qui ne sont pas dans le second.\n",
    "\n",
    "*   **Différence symétrique (`^` ou `symmetric_difference()`)**: Retourne un nouvel ensemble avec les éléments qui sont dans l'un ou l'autre ensemble, mais pas dans les deux."
   ]
  },
  {
   "cell_type": "code",
   "execution_count": null,
   "metadata": {},
   "outputs": [],
   "source": [
    "set_a = {1, 2, 3, 4}\n",
    "set_b = {3, 4, 5, 6}\n",
    "\n",
    "# Union\n",
    "union_set = set_a | set_b\n",
    "print(f\"Union: {union_set}\") # Affiche Union: {1, 2, 3, 4, 5, 6}"
   ]
  },
  {
   "cell_type": "code",
   "execution_count": null,
   "id": "6f7a13e2",
   "metadata": {},
   "outputs": [],
   "source": [
    "# Intersection\n",
    "intersection_set = set_a & set_b\n",
    "print(f\"Intersection: {intersection_set}\") # Affiche Intersection: {3, 4}"
   ]
  },
  {
   "cell_type": "code",
   "execution_count": null,
   "id": "3862e0ac",
   "metadata": {},
   "outputs": [],
   "source": [
    "# Différence (éléments dans A mais pas dans B)\n",
    "difference_a_b = set_a - set_b\n",
    "print(f\"Différence A - B: {difference_a_b}\") # Affiche Différence A - B: {1, 2}"
   ]
  },
  {
   "cell_type": "code",
   "execution_count": null,
   "id": "65edc7bb",
   "metadata": {},
   "outputs": [],
   "source": [
    "# Différence (éléments dans B mais pas dans A)\n",
    "difference_b_a = set_b - set_a\n",
    "print(f\"Différence B - A: {difference_b_a}\") # Affiche Différence B - A: {5, 6}"
   ]
  },
  {
   "cell_type": "code",
   "execution_count": null,
   "id": "5ae52448",
   "metadata": {},
   "outputs": [],
   "source": [
    "# Différence symétrique (éléments dans A ou B, mais pas les deux)\n",
    "sym_diff_set = set_a ^ set_b\n",
    "print(f\"Différence symétrique: {sym_diff_set}\") # Affiche Différence symétrique: {1, 2, 5, 6}"
   ]
  },
  {
   "cell_type": "markdown",
   "metadata": {},
   "source": [
    "### **Autres opérations**\n",
    "\n",
    "\n",
    "*   `len(ensemble)` : Retourne le nombre d'éléments.\n",
    "\n",
    "*   `element in ensemble` : Vérifie si un élément est présent (très rapide).\n",
    "\n",
    "*   `element not in ensemble` : Vérifie si un élément n'est pas présent.\n",
    "\n",
    "*   `issubset(other)` ou `<=`: Vérifie si tous les éléments de cet ensemble sont dans `other`.\n",
    "\n",
    "*   `issuperset(other)` ou `>=`: Vérifie si cet ensemble contient tous les éléments de `other`.\n",
    "\n",
    "*   `isdisjoint(other)`: Vérifie si les deux ensembles n'ont aucun élément en commun."
   ]
  },
  {
   "cell_type": "code",
   "execution_count": null,
   "metadata": {},
   "outputs": [],
   "source": [
    "set_c = {1, 2}\n",
    "set_d = {1, 2, 3}\n",
    "set_e = {4, 5}"
   ]
  },
  {
   "cell_type": "code",
   "execution_count": null,
   "id": "f8632d4f",
   "metadata": {},
   "outputs": [],
   "source": [
    "print(len(set_c))"
   ]
  },
  {
   "cell_type": "code",
   "execution_count": null,
   "id": "0dfb63dd",
   "metadata": {},
   "outputs": [],
   "source": [
    "print(1 in set_c)"
   ]
  },
  {
   "cell_type": "code",
   "execution_count": null,
   "id": "9f614c1b",
   "metadata": {},
   "outputs": [],
   "source": [
    "print(4 not in set_c)"
   ]
  },
  {
   "cell_type": "code",
   "execution_count": null,
   "id": "4918f5fe",
   "metadata": {},
   "outputs": [],
   "source": [
    "print(set_c.issubset(set_d)) # Affiche True (c <= d)"
   ]
  },
  {
   "cell_type": "code",
   "execution_count": null,
   "id": "f46f400b",
   "metadata": {},
   "outputs": [],
   "source": [
    "print(set_d.issuperset(set_c)) # Affiche True (d >= c)"
   ]
  },
  {
   "cell_type": "code",
   "execution_count": null,
   "id": "cfa491f2",
   "metadata": {},
   "outputs": [],
   "source": [
    "print(set_c.isdisjoint(set_e)) # Affiche True (aucun élément commun)"
   ]
  },
  {
   "cell_type": "markdown",
   "id": "8963f154",
   "metadata": {},
   "source": [
    "## **Exercice 1 : Manipulation d'un ensemble**\n",
    "\n",
    "1. Créez un ensemble nommé `legumes` contenant les éléments suivants : `\"carotte\"`, `\"tomate\"`, `\"courgette\"`.\n",
    "2. Ajoutez un nouvel élément `\"poivron\"` à l'ensemble.\n",
    "3. Retirez l'élément `\"tomate\"` de l'ensemble.\n",
    "4. Affichez le contenu final de l'ensemble."
   ]
  },
  {
   "cell_type": "code",
   "execution_count": null,
   "id": "eebc49b1",
   "metadata": {},
   "outputs": [],
   "source": []
  },
  {
   "cell_type": "markdown",
   "id": "df60da01",
   "metadata": {},
   "source": [
    "\n",
    "## **Exercice 2 : Opérations sur deux ensembles**\n",
    "\n",
    "1. Créez deux ensembles :\n",
    "    - `ensemble_a` contenant les éléments : `\"pomme\"`, `\"banane\"`, `\"cerise\"`, `\"datte\"`, `\"mangue\"`, `\"ananas\"`\n",
    "    - `ensemble_b` contenant les éléments : `\"cerise\"`, `\"datte\"`, `\"figue\"`, `\"raisin\"`, `\"kiwi\"`, `\"orange\"`, `\"banane\"`\n",
    "2. Calculez et affichez :\n",
    "    - L'union des deux ensembles.\n",
    "    - L'intersection des deux ensembles.\n",
    "    - La différence entre `ensemble_a` et `ensemble_b`.\n"
   ]
  },
  {
   "cell_type": "code",
   "execution_count": null,
   "id": "c27fafa4",
   "metadata": {},
   "outputs": [],
   "source": []
  },
  {
   "cell_type": "markdown",
   "id": "82f49405",
   "metadata": {},
   "source": [
    "## **Exercice 3 : Exploration d'un ensemble**\n",
    "\n",
    "1. Créez un ensemble nommé `consonnes` contenant les éléments suivants : `\"b\"`, `\"c\"`, `\"d\"`, `\"f\"`, `\"g\"`.\n",
    "2. Vérifiez si `\"c\"` est présent dans l'ensemble.\n",
    "3. Vérifiez si `\"x\"` n'est pas présent dans l'ensemble.\n",
    "4. Affichez le nombre total d'éléments dans l'ensemble."
   ]
  },
  {
   "cell_type": "code",
   "execution_count": null,
   "id": "71bc91e7",
   "metadata": {},
   "outputs": [],
   "source": []
  },
  {
   "cell_type": "markdown",
   "metadata": {},
   "source": [
    "## ***Choisir la bonne collection***\n",
    "\n",
    "\n",
    "*   Utilisez une **liste** si vous avez besoin d'une collection **ordonnée** et **modifiable**, où les doublons sont permis. C'est la collection la plus polyvalente.\n",
    "\n",
    "*   Utilisez un **tuple** si vous avez besoin d'une collection **ordonnée** et **immuable**. Idéal pour des données qui ne doivent pas changer (coordonnées, constantes).\n",
    "\n",
    "*   Utilisez un **dictionnaire** lorsque vous avez besoin d'associer des **clés** uniques à des **valeurs**. Parfait pour représenter des objets structurés (comme les attributs d'une personne) ou pour des recherches rapides par clé.\n",
    "\n",
    "*   Utilisez un **ensemble** si vous avez besoin d'une collection d'éléments **uniques** et que l'**ordre n'importe pas**, ou si vous effectuez des opérations mathématiques sur les ensembles (appartenance rapide, union, intersection...)."
   ]
  },
  {
   "cell_type": "markdown",
   "metadata": {},
   "source": [
    "---\n",
    "\n",
    "**Réalisé par [Benjamin QUINET](https://www.linkedin.com/in/benjamin-quinet-freelance-dev-data-ia)**"
   ]
  }
 ],
 "metadata": {
  "kernelspec": {
   "display_name": ".venv",
   "language": "python",
   "name": "python3"
  },
  "language_info": {
   "codemirror_mode": {
    "name": "ipython",
    "version": 3
   },
   "file_extension": ".py",
   "mimetype": "text/x-python",
   "name": "python",
   "nbconvert_exporter": "python",
   "pygments_lexer": "ipython3",
   "version": "3.12.3"
  }
 },
 "nbformat": 4,
 "nbformat_minor": 5
}
