{
 "cells": [
  {
   "cell_type": "markdown",
   "metadata": {},
   "source": [
    "# **Manipulation des Chaînes de Caractères en Python**\n",
    "\n",
    "Les chaînes de caractères (ou *strings* en anglais) sont l'un des types de données les plus fondamentaux et les plus utilisés en programmation. Elles servent à représenter du texte. Que ce soit pour afficher des messages, lire des fichiers, interagir avec des utilisateurs ou traiter des données textuelles, savoir manipuler efficacement les chaînes est essentiel.\n",
    "\n",
    "Python offre des outils très puissants et intuitifs pour travailler avec les chaînes."
   ]
  },
  {
   "cell_type": "markdown",
   "metadata": {},
   "source": [
    "## ***1. Création de Chaînes de Caractères***\n",
    "\n",
    "En Python, vous pouvez créer des chaînes en utilisant des guillemets simples (`'`), doubles (`\"`) ou triples (`'''` ou `\"\"\"`).\n",
    "\n",
    "*   **Guillemets simples ou doubles :** Utilisés pour les chaînes sur une seule ligne. Choisissez l'un ou l'autre, mais soyez cohérent. Utile si la chaîne elle-même contient l'autre type de guillemet.\n",
    "\n",
    "*   **Guillemets triples :** Permettent de créer des chaînes sur plusieurs lignes et sont souvent utilisés pour les docstrings (documentation des fonctions/classes)."
   ]
  },
  {
   "cell_type": "code",
   "execution_count": null,
   "metadata": {},
   "outputs": [],
   "source": [
    "chaine1 = 'Bonjour le monde!'\n",
    "print(chaine1)"
   ]
  },
  {
   "cell_type": "code",
   "execution_count": null,
   "id": "54ae73f8",
   "metadata": {},
   "outputs": [],
   "source": [
    "chaine2 = \"Ceci est une autre chaîne.\"\n",
    "print(chaine2)"
   ]
  },
  {
   "cell_type": "code",
   "execution_count": null,
   "id": "6cfa2f6f",
   "metadata": {},
   "outputs": [],
   "source": [
    "# Utilisation de guillemets doubles quand la chaîne contient une apostrophe\n",
    "chaine3 = \"L'important c'est Python.\"\n",
    "print(chaine3)"
   ]
  },
  {
   "cell_type": "code",
   "execution_count": null,
   "id": "a767fb98",
   "metadata": {},
   "outputs": [],
   "source": [
    "# Ou échapper l'apostrophe\n",
    "chaine4 = 'L\\'important c\\'est Python.'\n",
    "print(chaine4)"
   ]
  },
  {
   "cell_type": "code",
   "execution_count": null,
   "id": "2d625104",
   "metadata": {},
   "outputs": [],
   "source": [
    "# Chaîne multi-lignes\n",
    "poeme = '''Ceci est la première ligne.\n",
    "Et voici la seconde ligne.\n",
    "    Avec une indentation.'''\n",
    "print(poeme)"
   ]
  },
  {
   "cell_type": "markdown",
   "metadata": {},
   "source": [
    "## ***2. Opérations de Base***\n",
    "\n",
    "Les chaînes supportent plusieurs opérations fondamentales."
   ]
  },
  {
   "cell_type": "markdown",
   "metadata": {},
   "source": [
    "### Indexation : Accéder à un caractère\n",
    "\n",
    "Tout comme les listes, vous pouvez accéder à un caractère spécifique d'une chaîne en utilisant son **index** (position) entre crochets `[]`. L'indexation commence à **0** pour le premier caractère.\n",
    "\n",
    "Les index négatifs sont aussi possibles : `-1` désigne le dernier caractère, `-2` l'avant-dernier, etc."
   ]
  },
  {
   "cell_type": "code",
   "execution_count": null,
   "metadata": {},
   "outputs": [],
   "source": [
    "mot = \"Python\"\n",
    "\n",
    "premier_caractere = mot[0]\n",
    "print(f\"Premier caractère : {premier_caractere}\")"
   ]
  },
  {
   "cell_type": "code",
   "execution_count": null,
   "id": "cdb51583",
   "metadata": {},
   "outputs": [],
   "source": [
    "troisieme_caractere = mot[2]\n",
    "print(f\"Troisième caractère : {troisieme_caractere}\")"
   ]
  },
  {
   "cell_type": "code",
   "execution_count": null,
   "id": "12bdb53c",
   "metadata": {},
   "outputs": [],
   "source": [
    "dernier_caractere = mot[-1]\n",
    "print(f\"Dernier caractère : {dernier_caractere}\")"
   ]
  },
  {
   "cell_type": "code",
   "execution_count": null,
   "id": "c94d3a5f",
   "metadata": {},
   "outputs": [],
   "source": [
    "avant_dernier = mot[-2]\n",
    "print(f\"Avant-dernier : {avant_dernier}\")"
   ]
  },
  {
   "cell_type": "code",
   "execution_count": null,
   "id": "b16bbd81",
   "metadata": {},
   "outputs": [],
   "source": [
    "# Tenter d'accéder à un index hors limites provoque une erreur\n",
    "print(mot[6]) # IndexError: string index out of range"
   ]
  },
  {
   "cell_type": "markdown",
   "metadata": {},
   "source": [
    "### Slicing : Extraire une sous-chaîne\n",
    "\n",
    "Le *slicing* permet d'extraire une partie (une tranche) de la chaîne. La syntaxe est `chaine[start:stop:step]`.\n",
    "\n",
    "*   `start` : Index de début (inclus, par défaut 0).\n",
    "*   `stop` : Index de fin (**exclus**, par défaut la fin de la chaîne).\n",
    "*   `step` : Pas (par défaut 1)."
   ]
  },
  {
   "cell_type": "code",
   "execution_count": null,
   "metadata": {},
   "outputs": [],
   "source": [
    "texte = \"Programmation\"\n",
    "\n",
    "# Les caractères de l'index 3 (inclus) à 7 (exclus)\n",
    "slice1 = texte[3:7]\n",
    "print(f\"texte[3:7] -> '{slice1}'\")"
   ]
  },
  {
   "cell_type": "code",
   "execution_count": null,
   "id": "39c899ef",
   "metadata": {},
   "outputs": [],
   "source": [
    "# Du début jusqu'à l'index 5 (exclus)\n",
    "slice2 = texte[:5]\n",
    "print(f\"texte[:5] -> '{slice2}'\")"
   ]
  },
  {
   "cell_type": "code",
   "execution_count": null,
   "id": "f2f271f4",
   "metadata": {},
   "outputs": [],
   "source": [
    "# De l'index 8 (inclus) jusqu'à la fin\n",
    "slice3 = texte[8:]\n",
    "print(f\"texte[8:] -> '{slice3}'\")"
   ]
  },
  {
   "cell_type": "code",
   "execution_count": null,
   "id": "7d935adc",
   "metadata": {},
   "outputs": [],
   "source": [
    "# Un caractère sur deux\n",
    "slice4 = texte[::2]\n",
    "print(f\"texte[::2] -> '{slice4}'\")"
   ]
  },
  {
   "cell_type": "code",
   "execution_count": null,
   "id": "1ca5642d",
   "metadata": {},
   "outputs": [],
   "source": [
    "# Inverser la chaîne\n",
    "inverse = texte[::-1]\n",
    "print(f\"texte[::-1] -> '{inverse}'\")"
   ]
  },
  {
   "cell_type": "code",
   "execution_count": null,
   "id": "7fdd5918",
   "metadata": {},
   "outputs": [],
   "source": [
    "# Copier la chaîne (équivalent à texte[:])\n",
    "copie = texte[:] \n",
    "print(f\"texte[:] -> '{copie}'\")"
   ]
  },
  {
   "cell_type": "markdown",
   "metadata": {},
   "source": [
    "### Concaténation : Combiner des chaînes\n",
    "\n",
    "L'opérateur `+` permet d'assembler (concaténer) deux chaînes."
   ]
  },
  {
   "cell_type": "code",
   "execution_count": null,
   "metadata": {},
   "outputs": [],
   "source": [
    "mot1 = \"Bonjour\"\n",
    "mot2 = \"Python\"\n",
    "espace = \" \"\n",
    "\n",
    "message = mot1 + espace + mot2 + \"!\"\n",
    "print(message)"
   ]
  },
  {
   "cell_type": "code",
   "execution_count": null,
   "id": "1161fa2c",
   "metadata": {},
   "outputs": [],
   "source": [
    "dir(message)"
   ]
  },
  {
   "cell_type": "markdown",
   "metadata": {},
   "source": [
    "### Répétition : Répéter une chaîne\n",
    "\n",
    "L'opérateur `*` permet de répéter une chaîne un certain nombre de fois."
   ]
  },
  {
   "cell_type": "code",
   "execution_count": null,
   "metadata": {},
   "outputs": [],
   "source": [
    "barre = \"-\" * 40\n",
    "print(barre)\n",
    "\n",
    "rire = \"ha\" * 5\n",
    "print(rire)"
   ]
  },
  {
   "cell_type": "markdown",
   "metadata": {},
   "source": [
    "### Longueur : Obtenir le nombre de caractères\n",
    "\n",
    "La fonction intégrée `len()` retourne la longueur (le nombre de caractères) d'une chaîne."
   ]
  },
  {
   "cell_type": "code",
   "execution_count": null,
   "metadata": {},
   "outputs": [],
   "source": [
    "phrase = \"J'aime coder.\"\n",
    "longueur = len(phrase)\n",
    "print(f\"La phrase '{phrase}' a {longueur} caractères.\")"
   ]
  },
  {
   "cell_type": "markdown",
   "metadata": {},
   "source": [
    "### Appartenance : Vérifier la présence d'une sous-chaîne\n",
    "\n",
    "Les opérateurs `in` et `not in` permettent de vérifier si une sous-chaîne est présente dans une autre chaîne. Le résultat est un booléen (`True` ou `False`)."
   ]
  },
  {
   "cell_type": "code",
   "execution_count": null,
   "metadata": {},
   "outputs": [],
   "source": [
    "texte_long = \"Python est un langage de programmation polyvalent.\"\n",
    "\n",
    "contient_langage = \"langage\" in texte_long\n",
    "print(f\"Contient 'langage' ? {contient_langage}\")"
   ]
  },
  {
   "cell_type": "code",
   "execution_count": null,
   "id": "49e28557",
   "metadata": {},
   "outputs": [],
   "source": [
    "contient_java = \"Java\" in texte_long\n",
    "print(f\"Contient 'Java' ? {contient_java}\")"
   ]
  },
  {
   "cell_type": "code",
   "execution_count": null,
   "id": "f56de67d",
   "metadata": {},
   "outputs": [],
   "source": [
    "ne_contient_pas_script = \"script\" not in texte_long\n",
    "print(f\"Ne contient pas 'script' ? {ne_contient_pas_script}\")"
   ]
  },
  {
   "cell_type": "markdown",
   "metadata": {},
   "source": [
    "### Exercice 1 : Opérations de base\n",
    "\n",
    "1.  Créez une variable `ville` contenant la chaîne \"Strasbourg\".\n",
    "\n",
    "2.  Affichez le premier et le dernier caractère de `ville`.\n",
    "\n",
    "3.  Extrayez et affichez les 4 premiers caractères de `ville`.\n",
    "\n",
    "4.  Extrayez et affichez les caractères de l'index 2 à l'index 5 (inclus).\n",
    "\n",
    "5.  Affichez la longueur de la chaîne `ville`.\n",
    "\n",
    "6.  Vérifiez si la sous-chaîne \"bourg\" est présente dans `ville` et affichez le résultat."
   ]
  },
  {
   "cell_type": "code",
   "execution_count": null,
   "metadata": {},
   "outputs": [
    {
     "name": "stdout",
     "output_type": "stream",
     "text": [
      "S g\n",
      "Stra\n",
      "rasb\n",
      "10\n",
      "True\n"
     ]
    }
   ],
   "source": [
    "ville = \"Strasbourg\"\n",
    "print(ville[0] , ville[-1])\n",
    "\n",
    "four_letter = ville[:4]\n",
    "print(four_letter)  \n",
    "\n",
    "two_to_five = ville[2:6]\n",
    "print(two_to_five)\n",
    "\n",
    "print(len(ville))\n",
    "\n",
    "print(f\"{\"bourg\" in ville}\")"
   ]
  },
  {
   "cell_type": "markdown",
   "metadata": {},
   "source": [
    "## 3. Méthodes Courantes des Chaînes\n",
    "\n",
    "Les chaînes de caractères en Python sont des objets, ce qui signifie qu'elles possèdent des **méthodes** intégrées (des fonctions associées à l'objet) pour effectuer diverses opérations. Une méthode est appelée en utilisant la notation `objet.methode()`.\n",
    "\n",
    "**Important :** Les chaînes sont **immuables** en Python. Cela signifie que les méthodes de chaînes ne modifient *jamais* la chaîne originale. Elles retournent toujours une *nouvelle* chaîne avec les modifications appliquées."
   ]
  },
  {
   "cell_type": "markdown",
   "metadata": {},
   "source": [
    "### Changement de Casse\n",
    "\n",
    "*   `upper()`: Convertit toute la chaîne en majuscules.\n",
    "\n",
    "*   `lower()`: Convertit toute la chaîne en minuscules.\n",
    "\n",
    "*   `capitalize()`: Met le premier caractère en majuscule et le reste en minuscules.\n",
    "\n",
    "*   `title()`: Met le premier caractère de chaque mot en majuscule et le reste en minuscules.\n",
    "\n",
    "*   `swapcase()`: Inverse la casse de chaque caractère (majuscules -> minuscules, minuscules -> majuscules)."
   ]
  },
  {
   "cell_type": "code",
   "execution_count": null,
   "metadata": {},
   "outputs": [],
   "source": [
    "texte_original = \"ExEmPle De TeXte\"\n",
    "\n",
    "print(f\"original : '{texte_original}'\")\n",
    "print(f\"upper() : '{texte_original.upper()}'\")"
   ]
  },
  {
   "cell_type": "code",
   "execution_count": null,
   "id": "2aabb297",
   "metadata": {},
   "outputs": [],
   "source": [
    "print(f\"original : '{texte_original}'\")\n",
    "print(f\"lower() : '{texte_original.lower()}'\")"
   ]
  },
  {
   "cell_type": "code",
   "execution_count": null,
   "id": "7c8c75ff",
   "metadata": {},
   "outputs": [],
   "source": [
    "print(f\"original : '{texte_original}'\")\n",
    "print(f\"capitalize() : '{texte_original.capitalize()}'\")"
   ]
  },
  {
   "cell_type": "code",
   "execution_count": null,
   "id": "78aa8c4b",
   "metadata": {},
   "outputs": [],
   "source": [
    "print(f\"original : '{texte_original}'\")\n",
    "print(f\"title() : '{texte_original.title()}'\")"
   ]
  },
  {
   "cell_type": "code",
   "execution_count": null,
   "id": "e18191e4",
   "metadata": {},
   "outputs": [],
   "source": [
    "print(f\"original : '{texte_original}'\")\n",
    "print(f\"swapcase() : '{texte_original.swapcase()}'\")"
   ]
  },
  {
   "cell_type": "markdown",
   "metadata": {},
   "source": [
    "### Suppression des Espaces Superflus\n",
    "\n",
    "*   `strip()`: Supprime les espaces (ou autres caractères spécifiés) au début **et** à la fin de la chaîne.\n",
    "\n",
    "*   `lstrip()`: Supprime les espaces (ou autres caractères spécifiés) au début (*left strip*).\n",
    "\n",
    "*   `rstrip()`: Supprime les espaces (ou autres caractères spécifiés) à la fin (*right strip*)."
   ]
  },
  {
   "cell_type": "code",
   "execution_count": null,
   "metadata": {},
   "outputs": [],
   "source": [
    "texte_espaces = \"   Beaucoup d'espaces   \"\n",
    "\n",
    "print(f\"Original : '{texte_espaces}'\")\n",
    "print(f\"strip() : '{texte_espaces.strip()}'\")"
   ]
  },
  {
   "cell_type": "code",
   "execution_count": null,
   "id": "2246a140",
   "metadata": {},
   "outputs": [],
   "source": [
    "print(f\"Original : '{texte_espaces}'\")\n",
    "print(f\"lstrip() : '{texte_espaces.lstrip()}'\")"
   ]
  },
  {
   "cell_type": "code",
   "execution_count": null,
   "id": "342ef414",
   "metadata": {},
   "outputs": [],
   "source": [
    "print(f\"Original : '{texte_espaces}'\")\n",
    "print(f\"rstrip() : '{texte_espaces.rstrip()}'\")"
   ]
  },
  {
   "cell_type": "code",
   "execution_count": null,
   "id": "59e7f01e",
   "metadata": {},
   "outputs": [],
   "source": [
    "# On peut aussi spécifier les caractères à supprimer\n",
    "chaine_symboles = \"***Nettoyage.!?!\"\n",
    "print(f\"Original : '{chaine_symboles}'\")\n",
    "print(f\"strip('*!?') : '{chaine_symboles.strip('*!?')}'\") # 'Nettoyage.'"
   ]
  },
  {
   "cell_type": "markdown",
   "metadata": {},
   "source": [
    "### Recherche et Comptage\n",
    "\n",
    "*   `find(substring)`: Retourne l'index de la **première** occurrence de `substring`. Retourne `-1` si non trouvée.\n",
    "\n",
    "*   `index(substring)`: Similaire à `find()`, mais lève une erreur (`ValueError`) si `substring` n'est pas trouvée.\n",
    "\n",
    "*   `rfind(substring)` / `rindex(substring)`: Comme `find`/`index`, mais cherchent à partir de la **fin** de la chaîne.\n",
    "\n",
    "*   `count(substring)`: Compte le nombre d'occurrences (non superposées) de `substring`."
   ]
  },
  {
   "cell_type": "code",
   "execution_count": null,
   "metadata": {},
   "outputs": [],
   "source": [
    "phrase_recherche = \"Le langage Python est un langage populaire.\"\n",
    "sous_chaine = \"langage\"\n",
    "\n",
    "premier_index = phrase_recherche.find(sous_chaine)\n",
    "print(f\"Première occurrence de '{sous_chaine}' (find) : {premier_index}\")"
   ]
  },
  {
   "cell_type": "code",
   "execution_count": null,
   "id": "dff50fa0",
   "metadata": {},
   "outputs": [],
   "source": [
    "non_trouve = phrase_recherche.find(\"Java\")\n",
    "print(f\"Index de 'Java' (find) : {non_trouve}\")"
   ]
  },
  {
   "cell_type": "code",
   "execution_count": null,
   "id": "0a38db9a",
   "metadata": {},
   "outputs": [],
   "source": [
    "autre_sous_chaine = \"Java\"\n",
    "premier_index_strict = phrase_recherche.index(autre_sous_chaine)\n",
    "print(f\"Première occurrence de '{autre_sous_chaine}' (index) : {premier_index_strict}\")"
   ]
  },
  {
   "cell_type": "code",
   "execution_count": null,
   "id": "6c039282",
   "metadata": {},
   "outputs": [],
   "source": [
    "autre_sous_chaine = \"Java\"\n",
    "try:\n",
    "    premier_index_strict = phrase_recherche.index(autre_sous_chaine)\n",
    "    print(f\"Première occurrence de '{autre_sous_chaine}' (index) : {premier_index_strict}\")\n",
    "\n",
    "except ValueError:\n",
    "    print(f\"'{autre_sous_chaine}' non trouvé avec index().\")"
   ]
  },
  {
   "cell_type": "code",
   "execution_count": null,
   "id": "b81a34fd",
   "metadata": {},
   "outputs": [],
   "source": [
    "dernier_index = phrase_recherche.rfind(sous_chaine)\n",
    "print(f\"Dernière occurrence de '{sous_chaine}' (rfind) : {dernier_index}\")"
   ]
  },
  {
   "cell_type": "code",
   "execution_count": null,
   "id": "b798c5b0",
   "metadata": {},
   "outputs": [],
   "source": [
    "nombre_occurrences = phrase_recherche.count(sous_chaine)\n",
    "print(f\"Nombre d'occurrences de '{sous_chaine}' : {nombre_occurrences}\")"
   ]
  },
  {
   "cell_type": "markdown",
   "metadata": {},
   "source": [
    "### Remplacement\n",
    "\n",
    "*   `replace(old, new, [count])`: Remplace toutes les occurrences de la sous-chaîne `old` par `new`. Si `count` est spécifié, seules les `count` premières occurrences sont remplacées."
   ]
  },
  {
   "cell_type": "code",
   "execution_count": 2,
   "metadata": {},
   "outputs": [
    {
     "name": "stdout",
     "output_type": "stream",
     "text": [
      "Remplacement total : 'J'aime les chiens, les chiens sont doux.'\n"
     ]
    }
   ],
   "source": [
    "texte_a_modifier = \"J'aime les chats, les chats sont doux.\"\n",
    "\n",
    "# Remplacer toutes les occurrences\n",
    "texte_modifie1 = texte_a_modifier.replace(\"chats\", \"chiens\")\n",
    "print(f\"Remplacement total : '{texte_modifie1}'\")"
   ]
  },
  {
   "cell_type": "code",
   "execution_count": null,
   "id": "de461e5c",
   "metadata": {},
   "outputs": [],
   "source": [
    "# Remplacer seulement la première occurrence\n",
    "texte_modifie2 = texte_a_modifier.replace(\"chats\", \"chiens\", 1)\n",
    "print(f\"Remplacement partiel : '{texte_modifie2}'\")"
   ]
  },
  {
   "cell_type": "markdown",
   "metadata": {},
   "source": [
    "### Découpage et Jonction\n",
    "\n",
    "*   `split([sep])`: Découpe la chaîne en une **liste** de sous-chaînes. Par défaut, découpe selon les espaces. Si un séparateur `sep` est fourni, découpe selon ce séparateur.\n",
    "\n",
    "*   `separator.join(iterable)`: Combine les éléments d'un itérable (comme une liste) en une seule chaîne, en insérant la chaîne `separator` entre chaque élément."
   ]
  },
  {
   "cell_type": "code",
   "execution_count": null,
   "metadata": {},
   "outputs": [],
   "source": [
    "# Split\n",
    "phrase_a_couper = \"Pomme Banane Cerise Orange\"\n",
    "liste_mots = phrase_a_couper.split()\n",
    "print(f\"split() : {liste_mots}\")"
   ]
  },
  {
   "cell_type": "code",
   "execution_count": null,
   "id": "0bbbe6d2",
   "metadata": {},
   "outputs": [],
   "source": [
    "donnees_csv = \"Alice,30,Paris\"\n",
    "elements = donnees_csv.split(',')\n",
    "print(f\"split(',') : {elements}\")\n"
   ]
  },
  {
   "cell_type": "code",
   "execution_count": null,
   "id": "c4db9c87",
   "metadata": {},
   "outputs": [],
   "source": [
    "# Join\n",
    "mots_a_joindre = [\"Python\", \"est\", \"puissant\"]\n",
    "separateur_espace = \" \"\n",
    "phrase_jointe1 = separateur_espace.join(mots_a_joindre)\n",
    "print(f\"join(' ') : '{phrase_jointe1}'\")"
   ]
  },
  {
   "cell_type": "code",
   "execution_count": null,
   "id": "95c5b762",
   "metadata": {},
   "outputs": [],
   "source": [
    "elements_a_joindre = [\"un\", \"deux\", \"trois\"]\n",
    "separateur_tiret = \"-\"\n",
    "phrase_jointe2 = separateur_tiret.join(elements_a_joindre)\n",
    "print(f\"join('-') : '{phrase_jointe2}'\")"
   ]
  },
  {
   "cell_type": "markdown",
   "metadata": {},
   "source": [
    "### Vérification des Propriétés (retournent True ou False)\n",
    "\n",
    "*   `startswith(prefix)`: Vérifie si la chaîne commence par `prefix`.\n",
    "\n",
    "*   `endswith(suffix)`: Vérifie si la chaîne se termine par `suffix`.\n",
    "\n",
    "*   `isdigit()`: Vérifie si tous les caractères sont des chiffres.\n",
    "\n",
    "*   `isalpha()`: Vérifie si tous les caractères sont des lettres de l'alphabet.\n",
    "\n",
    "*   `isalnum()`: Vérifie si tous les caractères sont alphanumériques (lettres ou chiffres).\n",
    "\n",
    "*   `islower()`: Vérifie si tous les caractères alphabétiques sont en minuscules.\n",
    "\n",
    "*   `isupper()`: Vérifie si tous les caractères alphabétiques sont en majuscules.\n",
    "\n",
    "*   `isspace()`: Vérifie si la chaîne ne contient que des espaces blancs (espace, tabulation, nouvelle ligne...)."
   ]
  },
  {
   "cell_type": "code",
   "execution_count": null,
   "metadata": {},
   "outputs": [],
   "source": [
    "nom_fichier = \"rapport_final.pdf\"\n",
    "print(f\"'{nom_fichier}' commence par 'rapport' ? {nom_fichier.startswith('rapport')}\")"
   ]
  },
  {
   "cell_type": "code",
   "execution_count": null,
   "id": "7c58e77c",
   "metadata": {},
   "outputs": [],
   "source": [
    "print(f\"'{nom_fichier}' finit par '.txt' ? {nom_fichier.endswith('.txt')}\")"
   ]
  },
  {
   "cell_type": "code",
   "execution_count": null,
   "id": "b51cd930",
   "metadata": {},
   "outputs": [],
   "source": [
    "nombre_str = \"12345\"\n",
    "print(f\"'{nombre_str}' ne contient que des chiffres ? {nombre_str.isdigit()}\")"
   ]
  },
  {
   "cell_type": "code",
   "execution_count": null,
   "id": "053baee6",
   "metadata": {},
   "outputs": [],
   "source": [
    "lettres_str = \"Bonjour\"\n",
    "print(f\"'{lettres_str}' ne contient que des lettres ? {lettres_str.isalpha()}\")"
   ]
  },
  {
   "cell_type": "code",
   "execution_count": null,
   "id": "34ecb6d7",
   "metadata": {},
   "outputs": [],
   "source": [
    "print(f\"'Python 3' ne contient que des lettres ? {'Python 3'.isalpha()}\")"
   ]
  },
  {
   "cell_type": "code",
   "execution_count": null,
   "id": "7742652b",
   "metadata": {},
   "outputs": [],
   "source": [
    "alphanum_str = \"Python3\"\n",
    "print(f\"'{alphanum_str}' est alphanumérique ? {alphanum_str.isalnum()}\")"
   ]
  },
  {
   "cell_type": "code",
   "execution_count": null,
   "id": "715f4c87",
   "metadata": {},
   "outputs": [],
   "source": [
    "print(f\"'python' est en minuscules ? {'python'.islower()}\")"
   ]
  },
  {
   "cell_type": "code",
   "execution_count": null,
   "id": "1d36626f",
   "metadata": {},
   "outputs": [],
   "source": [
    "print(f\"'PYTHON' est en majuscules ? {'PYTHON'.isupper()}\")"
   ]
  },
  {
   "cell_type": "code",
   "execution_count": null,
   "id": "769b0b8c",
   "metadata": {},
   "outputs": [],
   "source": [
    "espace_str = \"   \\t\\n\"\n",
    "print(f\"'{espace_str}' ne contient que des espaces blancs ? {espace_str.isspace()}\")"
   ]
  },
  {
   "cell_type": "markdown",
   "metadata": {},
   "source": [
    "### Exercice 2 : Utilisation des Méthodes\n",
    "\n",
    "1.  Créez une variable `phrase_test` avec la valeur \"  apprentissage de python est amusant!  \".\n",
    "2.  Nettoyez la phrase en supprimant les espaces au début et à la fin.\n",
    "3.  Mettez la première lettre de la phrase nettoyée en majuscule.\n",
    "4.  Vérifiez si la phrase originale (avec espaces) se termine par \"amusant!\".\n",
    "5.  Comptez combien de fois la lettre 'a' (minuscule) apparaît dans la phrase nettoyée et capitalisée.\n",
    "6.  Remplacez le mot \"amusant\" par \"passionnant\" dans la phrase nettoyée et capitalisée.\n",
    "7.  Affichez tous les résultats intermédiaires et finaux avec des descriptions claires."
   ]
  },
  {
   "cell_type": "code",
   "execution_count": 13,
   "metadata": {},
   "outputs": [
    {
     "name": "stdout",
     "output_type": "stream",
     "text": [
      "La phrase nettoyée et capitalisée est : Apprentissage de python est amusant!\n",
      "Le Resultat est : False la phrase ne contient donc pas \"amusant!\"\n",
      "La phrase : \"Apprentissage de python est amusant!\" possede 3 \"a\" dedans \n",
      "Remplacement de : Apprentissage de python est amusant! par Apprentissage de python est passionnant!\n"
     ]
    }
   ],
   "source": [
    "phrase_test = \" apprentissage de python est amusant! \"\n",
    "phrase = phrase_test.strip().capitalize()\n",
    "print(f\"La phrase nettoyée et capitalisée est : {phrase}\")\n",
    "\n",
    "endwith = phrase_test.endswith(\"amusant!\")\n",
    "print(f\"Le Resultat est : {endwith} la phrase ne contient donc pas \\\"amusant!\\\"\")\n",
    "\n",
    "print(f\"La phrase : \\\"{phrase}\\\" possede {phrase.count(\"a\")} \\\"a\\\" dedans \")\n",
    "\n",
    "rephrase = phrase.replace(\"amusant\", \"passionnant\")\n",
    "print(f\"Remplacement de : {phrase} par {rephrase}\")"
   ]
  },
  {
   "cell_type": "markdown",
   "metadata": {},
   "source": [
    "## 4. Formatage des Chaînes (f-strings)\n",
    "\n",
    "Il est très courant d'avoir besoin d'insérer des valeurs de variables ou des résultats d'expressions dans une chaîne de caractères. Python offre plusieurs méthodes, mais la plus moderne, lisible et recommandée est l'utilisation des **f-strings** (chaînes formatées littérales).\n",
    "\n",
    "**Syntaxe :**\n",
    "Préfixez la chaîne avec la lettre `f` (ou `F`) et insérez les variables ou expressions entre accolades `{}`."
   ]
  },
  {
   "cell_type": "code",
   "execution_count": null,
   "metadata": {},
   "outputs": [],
   "source": [
    "nom = \"Alice\"\n",
    "age = 30\n",
    "ville = \"Paris\"\n",
    "\n",
    "# Utilisation de f-string pour créer un message\n",
    "message = f\"Bonjour, je m'appelle {nom}. J'ai {age} ans et j'habite à {ville}.\"\n",
    "print(message)\n",
    "\n",
    "# On peut aussi mettre des expressions dans les accolades\n",
    "prix_ht = 50\n",
    "tva = 0.20\n",
    "message_prix = f\"Le prix HT est {prix_ht}€. Le prix TTC est {prix_ht * (1 + tva):.2f}€.\"\n",
    "# Notez ':.2f' pour formater le flottant à 2 décimales\n",
    "print(message_prix)\n",
    "\n",
    "# On peut même appeler des fonctions\n",
    "message_longueur = f\"Le nom '{nom}' contient {len(nom)} caractères.\"\n",
    "print(message_longueur)"
   ]
  },
  {
   "cell_type": "markdown",
   "metadata": {},
   "source": [
    "Les f-strings offrent de nombreuses options de formatage avancées (alignement, padding, affichage des signes, formats numériques spécifiques, etc.) que vous pouvez explorer dans la documentation Python si besoin."
   ]
  },
  {
   "cell_type": "markdown",
   "metadata": {},
   "source": [
    "### Exercice 3 : Formatage avec f-string\n",
    "\n",
    "1.  Créez trois variables : `produit` (chaîne, ex: \"Laptop\"), `quantite` (entier, ex: 3), `prix_unitaire` (flottant, ex: 1200.50).\n",
    "2.  Calculez le `prix_total` (quantité * prix unitaire).\n",
    "3.  En utilisant une f-string, créez un message qui résume la commande, par exemple : \"Commande : 3 x Laptop - Prix unitaire: 1200.50€ - Total: 3601.50€\".\n",
    "4.  Affichez le message. Assurez-vous que les prix sont affichés avec 2 décimales."
   ]
  },
  {
   "cell_type": "code",
   "execution_count": 26,
   "metadata": {},
   "outputs": [
    {
     "name": "stdout",
     "output_type": "stream",
     "text": [
      "Commande : 3 x Laptop - Prix unitaire: 1250.99 - Total: 3752.97\n"
     ]
    }
   ],
   "source": [
    "produit = \"Laptop\"\n",
    "quantite = 3\n",
    "prix_unitaire = 1250.99\n",
    "\n",
    "prix_total = quantite * prix_unitaire\n",
    "print(f\"Commande : {quantite} x {produit} - Prix unitaire: {prix_unitaire} - Total: {prix_total:.2f}\")"
   ]
  },
  {
   "cell_type": "markdown",
   "metadata": {},
   "source": [
    "## 5. Caractères d'Échappement\n",
    "\n",
    "Parfois, vous devez inclure des caractères spéciaux dans une chaîne qui ont normalement une signification particulière (comme une nouvelle ligne, une tabulation, ou un guillemet lui-même).\n",
    "\n",
    "On utilise pour cela la barre oblique inversée `\\` (backslash) suivie d'un caractère spécifique. Voici les plus courants :\n",
    "\n",
    "*   `\\n` : Nouvelle ligne\n",
    "*   `\\t` : Tabulation horizontale\n",
    "*   `\\'` : Guillemet simple\n",
    "*   `\\\"` : Guillemet double\n",
    "*   `\\\\` : Barre oblique inversée elle-même"
   ]
  },
  {
   "cell_type": "code",
   "execution_count": null,
   "metadata": {},
   "outputs": [],
   "source": [
    "chemin_fichier = \"C:\\Utilisateurs\\Nom\\Documents\"\n",
    "print(f\"Chemin incorrect interprété : {chemin_fichier}\") # Le résultat peut être inattendu\n",
    "# Aïe, \\U et \\N ont une signification spéciale ! Il faut échapper les backslashs."
   ]
  },
  {
   "cell_type": "code",
   "execution_count": null,
   "id": "63b46db0",
   "metadata": {},
   "outputs": [],
   "source": [
    "chemin_correct = \"C:\\\\Utilisateurs\\\\Nom\\\\Documents\"\n",
    "print(f\"Chemin correct : {chemin_correct}\")"
   ]
  },
  {
   "cell_type": "code",
   "execution_count": null,
   "id": "dae3fe7c",
   "metadata": {},
   "outputs": [],
   "source": [
    "# Alternative : utiliser une chaîne brute (raw string) avec 'r' devant\n",
    "chemin_raw = r\"C:\\Utilisateurs\\Nom\\Documents\"\n",
    "print(f\"Chemin raw : {chemin_raw}\")\n",
    "\n",
    "citation = \"Il a dit : \\\"Bonjour !\\\"\"\n",
    "print(citation)\n",
    "\n",
    "lignes = \"Première ligne.\\nDeuxième ligne.\\n\\tIndentation.\"\n",
    "print(lignes)"
   ]
  },
  {
   "cell_type": "markdown",
   "metadata": {},
   "source": [
    "## Conclusion\n",
    "\n",
    "Vous avez maintenant une bonne vue d'ensemble des opérations essentielles pour manipuler les chaînes de caractères en Python.\n",
    "\n",
    "Vous savez comment :\n",
    "*   Créer des chaînes.\n",
    "*   Accéder à leurs caractères (indexation) et extraire des sous-chaînes (slicing).\n",
    "*   Effectuer des opérations de base comme la concaténation, la répétition et la vérification d'appartenance.\n",
    "*   Utiliser les méthodes intégrées pour modifier la casse, nettoyer les espaces, rechercher, remplacer, découper et joindre des chaînes.\n",
    "*   Vérifier les propriétés des chaînes (commence par, finit par, type de caractères...).\n",
    "*   Formater des chaînes de manière lisible et efficace avec les f-strings.\n",
    "*   Gérer les caractères spéciaux avec l'échappement.\n",
    "\n",
    "La manipulation de chaînes est une compétence fondamentale. N'hésitez pas à pratiquer ces opérations et méthodes, car vous les rencontrerez constamment dans vos projets Python !"
   ]
  },
  {
   "cell_type": "markdown",
   "metadata": {},
   "source": [
    "---\n",
    "\n",
    "**Réalisé par [Benjamin QUINET](https://www.linkedin.com/in/benjamin-quinet-freelance-dev-data-ia)**"
   ]
  }
 ],
 "metadata": {
  "kernelspec": {
   "display_name": ".venv",
   "language": "python",
   "name": "python3"
  },
  "language_info": {
   "codemirror_mode": {
    "name": "ipython",
    "version": 3
   },
   "file_extension": ".py",
   "mimetype": "text/x-python",
   "name": "python",
   "nbconvert_exporter": "python",
   "pygments_lexer": "ipython3",
   "version": "3.13.7"
  }
 },
 "nbformat": 4,
 "nbformat_minor": 5
}
