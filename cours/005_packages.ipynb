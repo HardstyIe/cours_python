{
 "cells": [
  {
   "cell_type": "markdown",
   "metadata": {},
   "source": [
    "# **Utiliser les modules, packages et bibliothèques en Python**"
   ]
  },
  {
   "cell_type": "markdown",
   "id": "951bc461",
   "metadata": {},
   "source": [
    "À mesure que vos projets Python gagnent en complexité, il devient rapidement impossible (et inefficace) d’écrire soi‑même toutes les fonctionnalités dont on a besoin. Heureusement, Python dispose d’un vaste écosystème de code réutilisable, que vous pouvez facilement intégrer pour accélérer votre développement.\n",
    "\n",
    "Ce code réutilisable s’organise selon quatre niveaux :\n",
    "\n",
    "1. **Module**  \n",
    "   Un **module** est un simple fichier Python (`.py`) contenant des définitions et des instructions (fonctions, classes, variables). Vous pouvez importer un module dans un autre script pour utiliser directement son contenu.\n",
    "\n",
    "2. **Package**  \n",
    "   Un **package** est un dossier qui regroupe un ou plusieurs modules (et éventuellement des sous‑packages). Pour être reconnu comme tel, le dossier contient un fichier `__init__.py` (même s’il est vide). Cette organisation en arborescence facilite la structuration et la maintenance du code.  \n",
    "   ```\n",
    "   mon_package/\n",
    "   ├── __init__.py\n",
    "   ├── module_a.py\n",
    "   └── sous_package/\n",
    "       ├── __init__.py\n",
    "       └── module_b.py\n",
    "   ```\n",
    "\n",
    "3. **Bibliothèque (Library)**  \n",
    "   Le terme **bibliothèque** (library) est un terme métier, moins formel que *package*. Il désigne un ensemble cohérent de fonctionnalités distribuées — qu’il s’agisse d’un seul module, d’un package ou de plusieurs packages liés — pour résoudre un domaine spécifique (ex. calcul scientifique, accès web, traitement d’images). Les bibliothèques sont publiées sur PyPI et s’installent via `pip install nom_de_la_bibliothèque`.\n",
    "\n",
    "4. **Framework**  \n",
    "   Un **framework** est une bibliothèque très structurée et « opinionnée » : elle impose une architecture et des conventions à respecter pour développer votre application. Exemples célèbres : Django (web), Flask (web léger), PyTorch Lightning (deep learning)."
   ]
  },
  {
   "cell_type": "markdown",
   "id": "a1896155",
   "metadata": {},
   "source": [
    "**En résumé :**  \n",
    "- **Module** = fichier `.py`.  \n",
    "- **Package** = dossier contenant des modules et un `__init__.py`.  \n",
    "- **Bibliothèque** = distribution métier (module, package ou ensemble de packages) installable via PyPI.  \n",
    "- **Framework** = bibliothèque structurante qui définit un cadre de développement."
   ]
  },
  {
   "cell_type": "markdown",
   "metadata": {},
   "source": [
    "## ***1. Les Modules Intégrés (Built-in)***\n",
    "\n",
    "Python est livré avec une **bibliothèque standard** riche, contenant de nombreux modules intégrés prêts à l'emploi. Vous n'avez rien à installer pour les utiliser, il suffit de les **importer**.\n",
    "\n",
    "L'instruction `import` est la clé pour utiliser un module."
   ]
  },
  {
   "cell_type": "markdown",
   "metadata": {},
   "source": [
    "### Forme 1 : `import nom_du_module`\n",
    "\n",
    "C'est la forme la plus simple. Elle charge l'ensemble du module. Pour accéder aux fonctions ou variables du module, vous devez préfixer leur nom par `nom_du_module.`."
   ]
  },
  {
   "cell_type": "code",
   "execution_count": null,
   "metadata": {},
   "outputs": [],
   "source": [
    "# Exemple avec le module 'math' pour les opérations mathématiques\n",
    "import math\n",
    "\n",
    "# Utiliser la constante PI et la fonction racine carrée (sqrt)\n",
    "racine_de_9 = math.sqrt(9)\n",
    "valeur_pi = math.pi\n",
    "\n",
    "print(f\"La racine carrée de 9 est : {racine_de_9}\")\n",
    "print(f\"La valeur de Pi est environ : {valeur_pi}\")"
   ]
  },
  {
   "cell_type": "code",
   "execution_count": null,
   "metadata": {},
   "outputs": [],
   "source": [
    "# Exemple avec le module 'random' pour générer des nombres aléatoires\n",
    "import random\n",
    "\n",
    "# Générer un entier aléatoire entre 1 et 10\n",
    "nombre_aleatoire = random.randint(1, 10)\n",
    "print(f\"Nombre aléatoire entre 1 et 10 : {nombre_aleatoire}\")\n",
    "\n",
    "# Choisir un élément aléatoire dans une liste\n",
    "fruits = [\"pomme\", \"banane\", \"cerise\"]\n",
    "fruit_choisi = random.choice(fruits)\n",
    "print(f\"Fruit choisi au hasard : {fruit_choisi}\")"
   ]
  },
  {
   "cell_type": "markdown",
   "metadata": {},
   "source": [
    "### Forme 2 : `from nom_du_module import nom_element`\n",
    "\n",
    "Si vous n'avez besoin que d'une ou quelques fonctions/variables spécifiques d'un module, vous pouvez les importer directement dans votre espace de noms actuel. Vous n'avez alors plus besoin d'utiliser le préfixe `nom_du_module.`."
   ]
  },
  {
   "cell_type": "code",
   "execution_count": null,
   "metadata": {},
   "outputs": [],
   "source": [
    "# Importer seulement 'sqrt' et 'pi' du module 'math'\n",
    "from math import sqrt, pi\n",
    "\n",
    "# On peut les utiliser directement\n",
    "racine_de_16 = sqrt(16)\n",
    "autre_pi = pi\n",
    "\n",
    "print(f\"Racine de 16 : {racine_de_16}\")\n",
    "print(f\"Pi (importé directement) : {autre_pi}\")"
   ]
  },
  {
   "cell_type": "code",
   "execution_count": null,
   "id": "449aa533",
   "metadata": {},
   "outputs": [],
   "source": [
    "# Attention : les autres éléments de 'math' ne sont pas accessibles\n",
    "print(math.cos(0))\n",
    "# NameError: name 'math' is not defined"
   ]
  },
  {
   "cell_type": "markdown",
   "metadata": {},
   "source": [
    "### Forme 3 : `import nom_du_module as alias`\n",
    "\n",
    "Parfois, les noms de modules peuvent être longs ou entrer en conflit avec vos propres noms de variables. Vous pouvez importer un module sous un nom plus court (un **alias**)."
   ]
  },
  {
   "cell_type": "code",
   "execution_count": null,
   "metadata": {},
   "outputs": [],
   "source": [
    "# Importer le module 'math' sous l'alias 'm'\n",
    "import math as m\n",
    "\n",
    "# Utiliser l'alias pour accéder aux éléments\n",
    "cosinus_zero = m.cos(0)\n",
    "print(f\"Cosinus de 0 : {cosinus_zero}\")\n",
    "\n",
    "# Importer le module datetime sous l'alias dt (très courant)\n",
    "import datetime as dt\n",
    "\n",
    "maintenant = dt.datetime.now()\n",
    "print(f\"Date et heure actuelles : {maintenant}\")"
   ]
  },
  {
   "cell_type": "markdown",
   "metadata": {},
   "source": [
    "### Forme 4 : `from nom_du_module import nom_element as alias_element`\n",
    "\n",
    "Vous pouvez aussi donner un alias à un élément spécifique que vous importez."
   ]
  },
  {
   "cell_type": "code",
   "execution_count": null,
   "metadata": {},
   "outputs": [],
   "source": [
    "# Importer la fonction randint du module random sous le nom 'aleatoire_entier'\n",
    "from random import randint as aleatoire_entier\n",
    "\n",
    "num = aleatoire_entier(100, 200)\n",
    "print(f\"Entier aléatoire entre 100 et 200 : {num}\")"
   ]
  },
  {
   "cell_type": "markdown",
   "metadata": {},
   "source": [
    "### Mauvaise pratique : `from nom_du_module import *`\n",
    "\n",
    "Il est possible d'importer *tous* les noms d'un module dans votre espace de noms actuel avec `from module import *`. **Ceci est fortement déconseillé !**\n",
    "\n",
    "*   Cela rend le code difficile à lire car on ne sait pas d'où proviennent les fonctions ou variables.\n",
    "*   Cela peut écraser des fonctions/variables que vous auriez définies vous-même (conflits de noms).\n",
    "\n",
    "**Évitez cette forme d'import.**"
   ]
  },
  {
   "cell_type": "markdown",
   "id": "ff6681b8",
   "metadata": {},
   "source": [
    "### Exercice 1 : Date et Heure\n",
    "\n",
    "1.  Importez le module `datetime`.\n",
    "\n",
    "2.  Utilisez `datetime.datetime.now()` pour obtenir la date et l'heure actuelles et stockez-la dans une variable `maintenant`.\n",
    "\n",
    "3.  Affichez la valeur de `maintenant`."
   ]
  },
  {
   "cell_type": "code",
   "execution_count": 7,
   "id": "6db774d1",
   "metadata": {},
   "outputs": [
    {
     "name": "stdout",
     "output_type": "stream",
     "text": [
      "2025-10-13 11:07:53.554610\n"
     ]
    }
   ],
   "source": [
    "from datetime import datetime\n",
    "\n",
    "maintenant = datetime.now()\n",
    "\n",
    "print(maintenant)"
   ]
  },
  {
   "cell_type": "markdown",
   "metadata": {},
   "source": [
    "### Exercice 2 : Date\n",
    "\n",
    "1.  Importez uniquement la fonction `date` du module `datetime`.\n",
    "\n",
    "2.  Utilisez `date.today()` pour obtenir la date actuelle et affichez-la."
   ]
  },
  {
   "cell_type": "code",
   "execution_count": 12,
   "id": "40ca0cac",
   "metadata": {},
   "outputs": [
    {
     "name": "stdout",
     "output_type": "stream",
     "text": [
      "2025-10-13\n"
     ]
    }
   ],
   "source": [
    "from datetime import date\n",
    "\n",
    "print(date.today())"
   ]
  },
  {
   "cell_type": "markdown",
   "id": "70a6f1c9",
   "metadata": {},
   "source": [
    "## ***2. Environnements Virtuels (`.venv`)***\n",
    "\n",
    "**C'est une pratique essentielle pour tout développement Python sérieux.**\n",
    "\n",
    "Imaginez que vous travaillez sur deux projets différents :\n",
    "*   Projet A a besoin de la version 1.0 d'un package `librairieX`.\n",
    "\n",
    "*   Projet B a besoin de la version 2.0 de cette même `librairieX`.\n",
    "\n",
    "Si vous installez tous vos packages directement dans votre installation principale de Python (ce qu'on appelle l'installation globale), vous aurez des conflits. La version 2.0 écrasera la 1.0, et le Projet A ne fonctionnera probablement plus.\n",
    "\n",
    "Un **environnement virtuel** est une copie isolée de votre installation Python. Il contient son propre interpréteur Python, son propre `pip`, et son propre ensemble de packages installés. Lorsque vous travaillez sur un projet, vous activez son environnement virtuel dédié. Les packages que vous installez le sont alors *uniquement* dans cet environnement, sans affecter les autres projets ou votre installation globale."
   ]
  },
  {
   "cell_type": "markdown",
   "id": "d962b09e",
   "metadata": {},
   "source": [
    "### Créer un environnement virtuel\n",
    "\n",
    "Python inclut le module `python-venv` (virtual environment) pour créer ces environnements.\n",
    "\n",
    "**Syntaxe (dans le terminal) :**\n",
    "Placez-vous dans le dossier racine de votre projet, puis exécutez :\n",
    "```bash\n",
    "# Syntaxe générale: python -m venv <nom_pour_votre_environnement>\n",
    "\n",
    "# Convention très courante : nommer l'environnement '.venv'\n",
    "python -m venv .venv \n",
    "\n",
    "# Vous pouvez utiliser un autre nom si vous préférez mais ce n'est pas recommandé\n",
    "# python -m venv .toto\n",
    "```\n",
    "Cela crée un nouveau dossier (ici, nommé `.venv`) dans votre répertoire de projet. Ce dossier contient la structure de l'environnement virtuel (une copie de Python, des scripts d'activation, etc.). **Conseil :** Ajoutez le nom de ce dossier (ex: `.venv/`) à votre fichier `.gitignore` si vous utilisez Git, pour ne pas inclure l'environnement lui-même dans votre dépôt."
   ]
  },
  {
   "cell_type": "markdown",
   "id": "83c83012",
   "metadata": {},
   "source": [
    "### Activer un environnement virtuel\n",
    "\n",
    "Avant de pouvoir utiliser l'environnement (et y installer des packages), vous devez l'**activer** dans votre session de terminal.\n",
    "\n",
    "**Syntaxe (dans le terminal, depuis le dossier du projet) :**\n",
    "\n",
    "*   **Sur Windows (cmd.exe) :**\n",
    "    ```cmd\n",
    "    .\\.venv\\Scripts\\activate\n",
    "    ```\n",
    "*   **Sur Windows (PowerShell) :**\n",
    "    ```powershell\n",
    "    .\\.venv\\Scripts\\Activate.ps1\n",
    "    # Note: Si vous rencontrez une erreur de politique d'exécution,\n",
    "    # vous devrez peut-être l'autoriser pour le processus actuel :\n",
    "    # Set-ExecutionPolicy -ExecutionPolicy RemoteSigned -Scope Process\n",
    "    ```\n",
    "*   **Sur macOS / Linux (bash/zsh) :**\n",
    "    ```bash\n",
    "    source .venv/bin/activate\n",
    "    ```\n",
    "\n",
    "Une fois activé, le nom de l'environnement virtuel apparaîtra généralement au début de l'invite de votre terminal (par exemple: `(.venv) C:\\Users\\VotreNom\\MonProjet>`). Cela indique que les commandes `python` et `pip` utiliseront désormais cet environnement isolé."
   ]
  },
  {
   "cell_type": "markdown",
   "id": "9552a36e",
   "metadata": {},
   "source": [
    "### Utiliser l'environnement\n",
    "\n",
    "Maintenant que l'environnement est activé :\n",
    "\n",
    "*   Toute commande `pip install ...` installera le package **uniquement** dans cet environnement `.venv`.\n",
    "\n",
    "*   Quand vous exécutez `python mon_script.py`, c'est l'interpréteur Python de cet environnement `.venv` qui sera utilisé, avec accès aux packages qui y sont spécifiquement installés.\n",
    "\n",
    "**Exemple concret :**\n",
    "\n",
    "1.  Créez un dossier `projet_cowsay`.\n",
    "\n",
    "2.  Dans le terminal, allez dans ce dossier: `cd projet_cowsay`.\n",
    "\n",
    "3.  Créez l'environnement : `python -m venv .venv`.\n",
    "\n",
    "4.  Activez-le (en utilisant la commande appropriée pour votre système).\n",
    "\n",
    "5.  Installez le package : `pip install cowsay`.\n",
    "\n",
    "6.  Lancez l'interpréteur Python de l'environnement : `python`.\n",
    "\n",
    "7.  Dans l'interpréteur Python, tapez :\n",
    "    ```python\n",
    "    import cowsay\n",
    "    cowsay.cow('Les environnements virtuels, c\\'est utile !')\n",
    "    ```\n",
    "    \n",
    "8.  Vous verrez la vache ASCII parler !"
   ]
  },
  {
   "cell_type": "code",
   "execution_count": null,
   "id": "c361744f",
   "metadata": {},
   "outputs": [],
   "source": [
    "%pip install cowsay"
   ]
  },
  {
   "cell_type": "code",
   "execution_count": null,
   "id": "10f54166",
   "metadata": {},
   "outputs": [],
   "source": [
    "import cowsay\n",
    "cowsay.cow('Les environnements virtuels, c\\'est utile !')"
   ]
  },
  {
   "cell_type": "markdown",
   "id": "a71bc13d",
   "metadata": {},
   "source": [
    "### Désactiver un environnement virtuel\n",
    "\n",
    "Lorsque vous avez fini de travailler sur votre projet dans cette session de terminal, vous pouvez désactiver l'environnement pour revenir à votre configuration Python globale.\n",
    "\n",
    "**Syntaxe (dans le terminal, avec l'environnement activé) :**\n",
    "```bash\n",
    "deactivate\n",
    "```\n",
    "L'indicateur `(.venv)` (ou le nom de votre environnement) disparaîtra de votre invite de commandes."
   ]
  },
  {
   "cell_type": "markdown",
   "id": "eac5b885",
   "metadata": {},
   "source": [
    "**Pourquoi est-ce si important d'utiliser `venv` ?**\n",
    "\n",
    "*   **Isolation :** Chaque projet a ses propres dépendances, clairement séparées des autres.\n",
    "\n",
    "*   **Reproductibilité :** Permet de recréer facilement l'environnement exact d'un projet sur une autre machine ou pour un autre développeur (grâce au fichier `requirements.txt`).\n",
    "\n",
    "*   **Gestion des versions :** Permet d'utiliser différentes versions d'un même package pour différents projets sans conflit.\n",
    "\n",
    "*   **Propreté :** Votre installation Python système reste propre et ne se remplit pas de packages spécifiques à un seul projet.\n",
    "\n",
    "**Conclusion : Prenez l'habitude d'utiliser un environnement virtuel pour *chaque* projet Python.**"
   ]
  },
  {
   "cell_type": "markdown",
   "id": "04753b49",
   "metadata": {},
   "source": [
    "### Exercice 3 : Pratique avec Venv\n",
    "\n",
    "1.  Créez un nouveau dossier pour un projet test (ex: `mon_projet_venv`).\n",
    "\n",
    "2.  Naviguez dans ce dossier avec votre terminal.\n",
    "\n",
    "3.  Créez un environnement virtuel nommé `env_proj` : `python -m venv env_proj`.\n",
    "\n",
    "4.  Activez cet environnement (`source env_proj/bin/activate` ou `.\\env_proj\\Scripts\\activate` selon votre OS).\n",
    "\n",
    "5.  Vérifiez les packages installés : `pip list`. Il ne devrait y avoir que `pip` et `setuptools` (ou très peu d'autres).\n",
    "\n",
    "6.  Installez le package `requests` : `pip install requests`.\n",
    "\n",
    "7.  Vérifiez à nouveau les packages installés : `pip list`. Vous devriez maintenant voir `requests` et ses dépendances (comme `charset-normalizer`, `idna`, `urllib3`, `certifi`).\n",
    "\n",
    "8.  Désactivez l'environnement : `deactivate`."
   ]
  },
  {
   "cell_type": "markdown",
   "metadata": {},
   "source": [
    "## ***3. Les Packages Externes et Pip***\n",
    "\n",
    "L'un des plus grands atouts de Python est l'immense quantité de packages développés par la communauté, disponibles sur le **Python Package Index (PyPI)** (prononcé \"Paille-Pi-Aille\"). PyPI est le dépôt officiel de logiciels tiers pour Python.\n",
    "\n",
    "Pour installer et gérer ces packages externes, Python est livré avec un outil appelé `pip`."
   ]
  },
  {
   "cell_type": "markdown",
   "metadata": {},
   "source": [
    "### Installer un package\n",
    "\n",
    "Pour installer un package depuis PyPI, ouvrez votre **terminal** (ou invite de commandes, PowerShell, etc.) et utilisez la commande `pip install` suivie du nom du package.\n",
    "\n",
    "**Syntaxe (dans le terminal) :**\n",
    "```bash\n",
    "pip install nom_du_package\n",
    "```\n",
    "\n",
    "Par exemple, installons la populaire bibliothèque `requests`, utilisée pour faire des requêtes HTTP (par exemple, pour interagir avec des sites web ou des APIs)."
   ]
  },
  {
   "cell_type": "code",
   "execution_count": null,
   "id": "dae48ea3",
   "metadata": {},
   "outputs": [],
   "source": [
    "# Il est également possible de le faire dans un notebook en utilisant un point d'exclamation avant pip\n",
    "# Bien que VSCode le souligne en rouge, l'excution se fera sans encombres\n",
    "%pip install requests"
   ]
  },
  {
   "cell_type": "markdown",
   "metadata": {},
   "source": [
    "Une fois le package installé avec `pip`, vous pouvez l'importer dans votre code Python comme n'importe quel module intégré."
   ]
  },
  {
   "cell_type": "code",
   "execution_count": null,
   "metadata": {},
   "outputs": [],
   "source": [
    "# Maintenant, dans votre script Python ou Notebook :\n",
    "import requests\n",
    "\n",
    "# Essayons de récupérer le contenu de la page d'accueil de Python.org\n",
    "try:\n",
    "    url = 'https://www.python.org'\n",
    "    reponse = requests.get(url)\n",
    "    \n",
    "    # Vérifier si la requête a réussi (code de statut 200 OK)\n",
    "    if reponse.status_code == 200:\n",
    "        print(f\"Connexion à {url} réussie !\")\n",
    "        # Vous pouvez accéder au contenu avec reponse.text\n",
    "        print(f\"Taille du contenu : {len(reponse.text)} caractères\") \n",
    "    else:\n",
    "        print(f\"Erreur lors de la connexion à {url} : Code {reponse.status_code}\")\n",
    "\n",
    "except requests.exceptions.RequestException as e:\n",
    "    # Gérer les erreurs possibles (problème réseau, DNS, etc.)\n",
    "    print(f\"Une erreur de connexion est survenue : {e}\")"
   ]
  },
  {
   "cell_type": "markdown",
   "metadata": {},
   "source": [
    "### Autres commandes `pip` utiles\n",
    "\n",
    "Voici quelques autres commandes `pip` que vous utiliserez souvent (à exécuter dans le terminal) :\n",
    "\n",
    "*   **`pip list`** : Affiche tous les packages installés dans votre environnement Python actuel et leur version.\n",
    "\n",
    "*   **`pip show nom_du_package`** : Affiche des informations détaillées sur un package spécifique (version, auteur, dépendances, etc.).\n",
    "\n",
    "*   **`pip install --upgrade nom_du_package`** : Met à jour un package vers sa dernière version disponible sur PyPI.\n",
    "\n",
    "*   **`pip uninstall nom_du_package`** : Désinstalle un package.\n",
    "\n",
    "*   **`pip freeze`** : Affiche les packages installés dans un format spécifique, souvent utilisé pour générer des fichiers de dépendances (voir section suivante)."
   ]
  },
  {
   "cell_type": "markdown",
   "metadata": {},
   "source": [
    "### Exercice 4 : Installation et Import\n",
    "\n",
    "1.  Ouvrez votre terminal.\n",
    "\n",
    "2.  Installez le package `numpy` (une bibliothèque fondamentale pour le calcul numérique en Python) en utilisant `pip install numpy`.\n",
    "\n",
    "3.  Revenez à votre script ou notebook Python.\n",
    "\n",
    "4.  Importez `numpy` en utilisant l'alias commun `np` (`import numpy as np`).\n",
    "\n",
    "5.  Créez un tableau (array) numpy simple : `tableau = np.array([10, 20, 30, 40, 50])`.\n",
    "\n",
    "6.  Affichez le tableau et son type (`print(tableau)`, `print(type(tableau))`).\n",
    "\n",
    "7.  Affichez le tableau multiplié par 2 (`print(tableau * 2)`)."
   ]
  },
  {
   "cell_type": "code",
   "execution_count": 13,
   "id": "8ab4ff35",
   "metadata": {},
   "outputs": [
    {
     "name": "stdout",
     "output_type": "stream",
     "text": [
      "[10 20 30 40 50]\n",
      "<class 'numpy.ndarray'>\n",
      "[ 20  40  60  80 100]\n"
     ]
    }
   ],
   "source": [
    "import numpy as np\n",
    "\n",
    "tableau = np.array([10,20,30,40,50])\n",
    "\n",
    "print(tableau)\n",
    "print(type(tableau))\n",
    "print(tableau*2)"
   ]
  },
  {
   "cell_type": "markdown",
   "metadata": {},
   "source": [
    "## ***4. Gérer les Dépendances avec `requirements.txt`***\n",
    "\n",
    "Lorsque vous travaillez en équipe ou que vous souhaitez déployer votre application sur un serveur, il est crucial de pouvoir recréer exactement le même environnement Python avec les mêmes versions de packages.\n",
    "\n",
    "Le moyen standard et universel de faire cela en Python est d'utiliser un fichier texte, traditionnellement nommé `requirements.txt`."
   ]
  },
  {
   "cell_type": "markdown",
   "metadata": {},
   "source": [
    "### Générer `requirements.txt`\n",
    "\n",
    "Cette commande liste tous les packages installés dans l'environnement **actuellement activé** et leur version exacte.\n",
    "\n",
    "**Syntaxe (dans le terminal, environnement activé) :**\n",
    "```bash\n",
    "pip freeze > requirements.txt\n",
    "```\n",
    "Cela crée (ou écrase) un fichier `requirements.txt` dans votre dossier de projet. Ce fichier est un simple fichier texte contenant une ligne par package, au format `nom_package==version`."
   ]
  },
  {
   "cell_type": "code",
   "execution_count": null,
   "metadata": {
    "tags": [
     "skip-execution"
    ]
   },
   "outputs": [],
   "source": [
    "# Exemple de contenu d'un fichier requirements.txt\n",
    "# (Ce contenu serait généré par 'pip freeze > requirements.txt' après avoir installé requests et numpy)\n",
    "# \n",
    "# certifi==2023.7.22\n",
    "# charset-normalizer==3.3.2\n",
    "# idna==3.6\n",
    "# numpy==1.26.2\n",
    "# requests==2.31.0\n",
    "# urllib3==2.1.0"
   ]
  },
  {
   "cell_type": "markdown",
   "metadata": {},
   "source": [
    "### Installer depuis `requirements.txt`\n",
    "\n",
    "Lorsqu'une autre personne (ou vous-même sur une autre machine) récupère votre projet (par exemple, via Git), elle peut recréer l'environnement Python exact en suivant ces étapes :\n",
    "\n",
    "1.  Créer un nouvel environnement virtuel : `python -m venv .venv`\n",
    "2.  Activer cet environnement.\n",
    "3.  Installer tous les packages listés dans `requirements.txt` en une seule commande :\n",
    "\n",
    "    **Syntaxe (dans le terminal, environnement activé) :**\n",
    "    ```bash\n",
    "    pip install -r requirements.txt\n",
    "    ```\n",
    "\n",
    "`pip` va lire le fichier ligne par ligne et installer chaque package avec la version exacte spécifiée. C'est la garantie que tout le monde travaille avec le même socle logiciel."
   ]
  },
  {
   "cell_type": "markdown",
   "metadata": {},
   "source": [
    "**Flux de travail recommandé :**\n",
    "\n",
    "1.  Démarrez votre projet, créez et activez votre environnement virtuel (`.venv`).\n",
    "\n",
    "2.  Au fur et à mesure que vous avez besoin de packages externes, installez-les avec `pip install nom_package`.\n",
    "\n",
    "3.  Développez votre code.\n",
    "\n",
    "4.  Régulièrement (surtout avant de partager votre code ou de le déployer), mettez à jour votre fichier de dépendances : `pip freeze > requirements.txt`.\n",
    "\n",
    "5.  Ajoutez `requirements.txt` à votre système de contrôle de version (Git). Ne commitez pas le dossier `.venv` lui-même.\n",
    "\n",
    "6.  Les autres collaborateurs (ou votre système de déploiement) cloneront le projet, créeront leur propre `.venv`, l'activeront, puis exécuteront `pip install -r requirements.txt`."
   ]
  },
  {
   "cell_type": "markdown",
   "metadata": {},
   "source": [
    "## ***5. Bonnes Pratiques Générales***\n",
    "\n",
    "*   **Toujours utiliser des environnements virtuels (`.venv`)** pour isoler les dépendances de vos projets.\n",
    "\n",
    "*   **Préférez les imports spécifiques** (`from module import nom`) lorsque vous n'avez besoin que de quelques éléments. C'est plus explicite.\n",
    "\n",
    "*   Si vous utilisez de nombreux éléments d'un module, préférez `import module` ou `import module as alias`.\n",
    "\n",
    "*   **Utilisez des alias (`as`)** pour les modules aux noms longs ou pour suivre les conventions largement adoptées (ex: `import numpy as np`, `import pandas as pd`, `import \n",
    "matplotlib.pyplot as plt`, `import datetime as dt`).\n",
    "\n",
    "*   **N'utilisez jamais `from module import *`**. Cela pollue l'espace de noms et rend le débogage difficile.\n",
    "\n",
    "*   **Maintenez votre fichier `requirements.txt` à jour** en le régénérant avec `pip freeze > requirements.txt` après avoir ajouté ou mis à jour des dépendances.\n",
    "\n",
    "*   **Lisez la documentation** des packages que vous utilisez ! Elle explique comment les importer et les utiliser correctement."
   ]
  },
  {
   "cell_type": "markdown",
   "metadata": {},
   "source": [
    "---\n",
    "\n",
    "**Réalisé par [Benjamin QUINET](https://www.linkedin.com/in/benjamin-quinet-freelance-dev-data-ia)**"
   ]
  }
 ],
 "metadata": {
  "kernelspec": {
   "display_name": ".venv",
   "language": "python",
   "name": "python3"
  },
  "language_info": {
   "codemirror_mode": {
    "name": "ipython",
    "version": 3
   },
   "file_extension": ".py",
   "mimetype": "text/x-python",
   "name": "python",
   "nbconvert_exporter": "python",
   "pygments_lexer": "ipython3",
   "version": "3.13.7"
  }
 },
 "nbformat": 4,
 "nbformat_minor": 5
}
