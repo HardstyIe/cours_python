{
 "cells": [
  {
   "cell_type": "markdown",
   "metadata": {},
   "source": [
    "# **Arguments variables en Python : `*args` et `**kwargs`**\n",
    "\n",
    "Dans ce chapitre, nous verrons comment rendre les fonctions plus modulaires et adaptables grâce à deux mécanismes clés de Python :\n",
    "\n",
    "- **`*args`** : tuple permettant de collecter un nombre arbitraire d’arguments positionnels, utile lorsque vous ne connaissez pas à l’avance combien de valeurs seront transmises.  \n",
    "\n",
    "- **`**kwargs`** : dictionnaire permettant de recevoir un ensemble d’arguments nommés dont la quantité et les clés peuvent varier dynamiquement.\n",
    "\n",
    "En combinant ces deux outils, vos fonctions pourront s’ajuster automatiquement aux besoins de chaque appel, simplifiant ainsi la maintenance et l’évolution de votre code, tout en améliorant sa réutilisabilité."
   ]
  },
  {
   "cell_type": "markdown",
   "metadata": {},
   "source": [
    "## ***1. Arguments Positionnels Variables : `*args`***\n",
    "\n",
    "Parfois, vous souhaitez qu'une fonction puisse recevoir plusieurs arguments sans avoir à les nommer dans la définition. Par exemple, notre fonction d'addition.\n",
    "\n",
    "C'est là qu'intervient `*args`.\n",
    "\n",
    "**Comment ça marche ?**\n",
    "\n",
    "Lorsque vous mettez `*args` (le mot `args` est une convention, mais l'astérisque `*` est essentiel) dans la définition de votre fonction, Python va automatiquement regrouper tous les arguments positionnels *supplémentaires* passés lors de l'appel dans un **tuple**."
   ]
  },
  {
   "cell_type": "code",
   "execution_count": null,
   "metadata": {},
   "outputs": [],
   "source": [
    "def additionner_tout(*nombres):\n",
    "    \"\"\"Cette fonction additionne tous les nombres fournis en arguments.\"\"\"\n",
    "    print(f\"Arguments reçus (sous forme de tuple) : {nombres}\")\n",
    "    \n",
    "    total = 0\n",
    "    # Comme 'nombres' est un tuple, on peut boucler dessus\n",
    "    for nombre in nombres:\n",
    "        total += nombre\n",
    "    return total"
   ]
  },
  {
   "cell_type": "code",
   "execution_count": null,
   "id": "ba8dc47c",
   "metadata": {},
   "outputs": [],
   "source": [
    "somme1 = additionner_tout(1, 2, 3)\n",
    "print(f\"Somme 1 : {somme1}\\n\")"
   ]
  },
  {
   "cell_type": "code",
   "execution_count": null,
   "id": "6d51d108",
   "metadata": {},
   "outputs": [],
   "source": [
    "somme2 = additionner_tout(10, 20, 30, 40)\n",
    "print(f\"Somme 2 : {somme2}\\n\")"
   ]
  },
  {
   "cell_type": "code",
   "execution_count": null,
   "id": "34d9f110",
   "metadata": {},
   "outputs": [],
   "source": [
    "somme3 = additionner_tout(5)\n",
    "print(f\"Somme 3 : {somme3}\\n\")"
   ]
  },
  {
   "cell_type": "code",
   "execution_count": null,
   "id": "cf93ded3",
   "metadata": {},
   "outputs": [],
   "source": [
    "somme4 = additionner_tout() # Fonctionne même sans argument\n",
    "print(f\"Somme 4 : {somme4}\")"
   ]
  },
  {
   "cell_type": "markdown",
   "metadata": {},
   "source": [
    "**Points importants sur `*args` :**\n",
    "\n",
    "*   Le nom `args` est juste une **convention**. Vous pourriez écrire `*valeurs` ou `*elements`, mais `*args` est compris par tous les développeurs Python.\n",
    "\n",
    "*   Il collecte les arguments **positionnels** (ceux qui n'ont pas de nom explicite lors de l'appel).\n",
    "\n",
    "*   À l'intérieur de la fonction, la variable (`args` ou le nom que vous avez choisi) est un **tuple**."
   ]
  },
  {
   "cell_type": "markdown",
   "metadata": {},
   "source": [
    "## 2. ***Arguments Nommés Variables : `**kwargs`***\n",
    "\n",
    "Maintenant, imaginons que vous vouliez passer des informations à une fonction sous forme de paires `nom=valeur`, mais sans savoir à l'avance quels seront tous les noms possibles. Par exemple, pour configurer un objet avec différentes options.\n",
    "\n",
    "C'est le rôle de `**kwargs` (keyword arguments).\n",
    "\n",
    "**Comment ça marche ?**\n",
    "\n",
    "Avec `**kwargs` (ici aussi, `kwargs` est une convention, les deux astérisques `**` sont essentiels), Python regroupe tous les arguments **nommés** *supplémentaires* (ceux qui ne correspondent pas à un paramètre défini explicitement) dans un **dictionnaire**."
   ]
  },
  {
   "cell_type": "code",
   "execution_count": null,
   "metadata": {},
   "outputs": [],
   "source": [
    "def afficher_configuration(**options):\n",
    "    \"\"\"Affiche les options de configuration passées en arguments nommés.\"\"\"\n",
    "    print(f\"Options reçues (sous forme de dictionnaire) : {options}\")\n",
    "    \n",
    "    if not options: # Si le dictionnaire est vide\n",
    "        print(\"Aucune configuration spécifique fournie.\")\n",
    "        return\n",
    "        \n",
    "    print(\"\\nDétails de la configuration :\")\n",
    "    # Comme 'options' est un dictionnaire, on peut utiliser .items()\n",
    "    for nom_option, valeur_option in options.items():\n",
    "        print(f\"- {nom_option} : {valeur_option}\")"
   ]
  },
  {
   "cell_type": "code",
   "execution_count": null,
   "id": "2506ba77",
   "metadata": {},
   "outputs": [],
   "source": [
    "afficher_configuration(utilisateur=\"admin\", niveau_acces=5, mode=\"debug\")"
   ]
  },
  {
   "cell_type": "code",
   "execution_count": null,
   "id": "8cc33e52",
   "metadata": {},
   "outputs": [],
   "source": [
    "afficher_configuration(serveur=\"production\", port=8080)"
   ]
  },
  {
   "cell_type": "code",
   "execution_count": null,
   "id": "1d75b002",
   "metadata": {},
   "outputs": [],
   "source": [
    "afficher_configuration() # Fonctionne même sans argument nommé"
   ]
  },
  {
   "cell_type": "markdown",
   "metadata": {},
   "source": [
    "**Points importants sur `**kwargs` :**\n",
    "\n",
    "*   Le nom `kwargs` est une **convention** très répandue.\n",
    "\n",
    "*   Il collecte les arguments **nommés** (ou par mot-clé) supplémentaires.\n",
    "\n",
    "*   À l'intérieur de la fonction, la variable (`kwargs` ou le nom choisi) est un **dictionnaire**."
   ]
  },
  {
   "cell_type": "markdown",
   "metadata": {},
   "source": [
    "## ***3. Utilisation combinée et Ordre des Arguments***\n",
    "\n",
    "On peut tout à fait combiner des arguments normaux, `*args` et `**kwargs` dans la même fonction. Cependant, il y a un **ordre strict** à respecter dans la définition de la fonction :\n",
    "\n",
    "1.  **Arguments positionnels standards** (obligatoires ou avec valeur par défaut).\n",
    "\n",
    "2.  **`*args`** (pour capturer tous les positionnels restants).\n",
    "\n",
    "3.  **Arguments nommés standards** (ceux qui doivent être appelés par leur nom, éventuellement avec valeur par défaut).\n",
    "\n",
    "4.  **`**kwargs`** (pour capturer tous les nommés restants)."
   ]
  },
  {
   "cell_type": "code",
   "execution_count": null,
   "metadata": {},
   "outputs": [],
   "source": [
    "# Exemple combiné\n",
    "def traiter_commande(id_client, *produits, remise=0, **details_livraison):\n",
    "    print(f\"Client ID: {id_client}\")\n",
    "    print(f\"Produits commandés (*args): {produits}\") \n",
    "    print(f\"Remise appliquée: {remise}%\")\n",
    "    print(f\"Détails de livraison (**kwargs): {details_livraison}\")"
   ]
  },
  {
   "cell_type": "code",
   "execution_count": null,
   "id": "ec53931e",
   "metadata": {},
   "outputs": [],
   "source": [
    "traiter_commande(\"CLI001\", \"Livre\", \"Stylo\")"
   ]
  },
  {
   "cell_type": "code",
   "execution_count": null,
   "id": "1b8062c8",
   "metadata": {},
   "outputs": [],
   "source": [
    "traiter_commande(\"CLI002\", \"Ordinateur\", \"Clavier\", \"Souris\", remise=10)"
   ]
  },
  {
   "cell_type": "code",
   "execution_count": null,
   "id": "08f395be",
   "metadata": {},
   "outputs": [],
   "source": [
    "traiter_commande(\"CLI003\", \"Smartphone\", adresse=\"12 rue des Lilas\", ville=\"Paris\", urgent=True)"
   ]
  },
  {
   "cell_type": "code",
   "execution_count": null,
   "id": "05b89e04",
   "metadata": {},
   "outputs": [],
   "source": [
    "traiter_commande(\"CLI004\", \"Tablette\", remise=5, pays=\"France\", mode=\"Express\")"
   ]
  },
  {
   "cell_type": "code",
   "execution_count": null,
   "id": "dec9d4da",
   "metadata": {},
   "outputs": [],
   "source": [
    "traiter_commande(\"Tablette\", remise=5, pays=\"France\", mode=\"Express\")"
   ]
  },
  {
   "cell_type": "code",
   "execution_count": null,
   "id": "600cbcd9",
   "metadata": {},
   "outputs": [],
   "source": [
    "traiter_commande(\"Tablette\", 5, \"France\", \"Express\", id_client=\"CLI005\")"
   ]
  },
  {
   "cell_type": "markdown",
   "metadata": {},
   "source": [
    "## ***4. Dépaquetage d'Arguments lors de l'Appel***\n",
    "\n",
    "On a vu comment *recevoir* un nombre variable d'arguments. Python permet aussi l'opération inverse : *envoyer* les éléments d'une liste/tuple ou d'un dictionnaire comme arguments lors de l'appel d'une fonction.\n",
    "\n",
    "*   **`*iterable`** : Si vous avez une liste ou un tuple, vous pouvez utiliser `*` devant lors de l'appel pour que chaque élément soit passé comme un argument **positionnel** distinct.\n",
    "\n",
    "*   **`**dictionnaire`** : Si vous avez un dictionnaire, vous pouvez utiliser `**` devant pour que chaque paire clé-valeur soit passée comme un argument **nommé**."
   ]
  },
  {
   "cell_type": "code",
   "execution_count": null,
   "metadata": {},
   "outputs": [],
   "source": [
    "# Fonction qui attend 3 arguments positionnels\n",
    "def afficher_couleurs(c1, c2, c3):\n",
    "    print(f\"Couleurs : {c1}, {c2}, {c3}\")"
   ]
  },
  {
   "cell_type": "code",
   "execution_count": null,
   "id": "41e75f66",
   "metadata": {},
   "outputs": [],
   "source": [
    "liste_couleurs = [\"Rouge\", \"Bleu\", \"Vert\"]\n",
    "# Au lieu de faire afficher_couleurs(liste_couleurs[0], liste_couleurs[1], liste_couleurs[2])\n",
    "afficher_couleurs(*liste_couleurs) # Dépaquetage positionnel"
   ]
  },
  {
   "cell_type": "code",
   "execution_count": null,
   "id": "f8c82543",
   "metadata": {},
   "outputs": [],
   "source": [
    "# Fonction qui attend des arguments nommés\n",
    "def configurer_moteur(puissance, type_carburant, refroidissement):\n",
    "    print(f\"Config Moteur: Puissance={puissance}, Carburant={type_carburant}, Refroidissement={refroidissement}\")"
   ]
  },
  {
   "cell_type": "code",
   "execution_count": null,
   "id": "47abdf04",
   "metadata": {},
   "outputs": [],
   "source": [
    "parametres_moteur = {\"puissance\": 150, \"refroidissement\": \"Liquide\", \"type_carburant\": \"Essence\"}\n",
    "# Au lieu de faire configurer_moteur(puissance=parametres_moteur['puissance'], ...)\n",
    "configurer_moteur(**parametres_moteur) # Dépaquetage nommé"
   ]
  },
  {
   "cell_type": "code",
   "execution_count": null,
   "id": "dbbb543a",
   "metadata": {},
   "outputs": [],
   "source": [
    "# On peut aussi combiner\n",
    "config_partielle = {\"type_carburant\": \"Diesel\", \"refroidissement\": \"Air\"}\n",
    "configurer_moteur(110, **config_partielle) # 110 est positionnel, le reste est dépaqueté"
   ]
  },
  {
   "cell_type": "markdown",
   "metadata": {},
   "source": [
    "## ***5. Quand utiliser `*args` et `**kwargs` ?***\n",
    "\n",
    "Ces outils sont très utiles dans plusieurs situations :\n",
    "\n",
    "1.  **Fonctions génériques :** Pour créer des fonctions qui peuvent accepter une large gamme d'arguments sans avoir à définir des dizaines de paramètres (comme nos exemples `additionner_tout` ou `afficher_configuration`).\n",
    "\n",
    "2.  **Décorateurs :** Les décorateurs modifient ou enveloppent d'autres fonctions. Ils doivent souvent accepter et transmettre tous les arguments que la fonction originale pourrait recevoir.\n",
    "\n",
    "3.  **Héritage :** Quand une classe enfant appelle la méthode de sa classe parente (avec `super()`), `*args` et `**kwargs` permettent de transmettre facilement tous les arguments reçus.\n",
    "\n",
    "4.  **Flexibilité des APIs :** Pour permettre aux utilisateurs de passer des options ou configurations supplémentaires sans surcharger la signature principale de la fonction."
   ]
  },
  {
   "cell_type": "markdown",
   "metadata": {},
   "source": [
    "## Exercices"
   ]
  },
  {
   "cell_type": "markdown",
   "metadata": {},
   "source": [
    "**Exercice 1 : Concaténation Flexible**\n",
    "\n",
    "Créez une fonction `concatener_mots(*mots)` qui prend un nombre variable de chaînes de caractères et les retourne toutes concaténées en une seule chaîne, séparées par un espace. Si aucun mot n'est fourni, elle retourne une chaîne vide."
   ]
  },
  {
   "cell_type": "code",
   "execution_count": null,
   "metadata": {},
   "outputs": [],
   "source": []
  },
  {
   "cell_type": "markdown",
   "metadata": {},
   "source": [
    "**Exercice 2 : Générateur de Dictionnaire**\n",
    "\n",
    "Créez une fonction `creer_dictionnaire(**paires)` qui accepte un nombre variable d'arguments nommés et retourne un dictionnaire contenant exactement ces paires clé-valeur."
   ]
  },
  {
   "cell_type": "code",
   "execution_count": null,
   "metadata": {},
   "outputs": [],
   "source": []
  },
  {
   "cell_type": "markdown",
   "metadata": {},
   "source": [
    "**Exercice 3 : Rapporteur de Données**\n",
    "\n",
    "Créez une fonction `generer_rapport(titre, *donnees, **metadonnees)` :\n",
    "\n",
    "*   `titre` est un argument positionnel requis.\n",
    "\n",
    "*   `*donnees` collecte toutes les données brutes (ex: des nombres, des chaînes).\n",
    "\n",
    "*   `**metadonnees` collecte des informations contextuelles (ex: `auteur=\"admin\"`, `date=\"2024-01-01\"`).\n",
    "\n",
    "La fonction doit afficher le titre, puis lister les données, et enfin lister les métadonnées."
   ]
  },
  {
   "cell_type": "code",
   "execution_count": null,
   "metadata": {},
   "outputs": [],
   "source": []
  },
  {
   "cell_type": "markdown",
   "metadata": {},
   "source": [
    "**Exercice 4 : Appel avec Dépaquetage Simplifié**\n",
    "\n",
    "Soit la fonction suivante :\n",
    "```python\n",
    "def decrire_animal(nom, espece, age):\n",
    "    print(f\"{nom} est un(e) {espece} de {age} ans.\")\n",
    "```\n",
    "Créez une liste `infos_liste = [\"Médor\", \"Chien\", 5]` et un dictionnaire `infos_dict = {\"nom\": \"Félix\", \"espece\": \"Chat\", \"age\": 3}`.\n",
    "\n",
    "Appelez `decrire_animal` une fois en utilisant le dépaquetage de `infos_liste` et une autre fois en utilisant le dépaquetage de `infos_dict`."
   ]
  },
  {
   "cell_type": "code",
   "execution_count": null,
   "metadata": {},
   "outputs": [],
   "source": []
  },
  {
   "cell_type": "markdown",
   "metadata": {},
   "source": [
    "---\n",
    "\n",
    "**Réalisé par [Benjamin QUINET](https://www.linkedin.com/in/benjamin-quinet-freelance-dev-data-ia)**"
   ]
  }
 ],
 "metadata": {
  "kernelspec": {
   "display_name": ".venv",
   "language": "python",
   "name": "python3"
  },
  "language_info": {
   "codemirror_mode": {
    "name": "ipython",
    "version": 3
   },
   "file_extension": ".py",
   "mimetype": "text/x-python",
   "name": "python",
   "nbconvert_exporter": "python",
   "pygments_lexer": "ipython3",
   "version": "3.12.3"
  }
 },
 "nbformat": 4,
 "nbformat_minor": 5
}
