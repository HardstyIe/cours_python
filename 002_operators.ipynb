{
 "cells": [
  {
   "cell_type": "markdown",
   "metadata": {},
   "source": [
    "# **Les opérateurs**\n",
    "En Python, les opérateurs permettent d'effectuer des calculs, des comparaisons et d'autres manipulations de données. On peut les classer en différentes catégories selon leur usage."
   ]
  },
  {
   "cell_type": "markdown",
   "metadata": {},
   "source": [
    "\n",
    "## ***1. Les opérateurs arithmétiques***"
   ]
  },
  {
   "cell_type": "markdown",
   "metadata": {},
   "source": [
    "Ces opérateurs permettent d'effectuer des opérations mathématiques de base sur des variables ou des valeurs littérales.\n",
    "\n",
    "| Opérateur | Description                 | Exemple         |\n",
    "|-----------|-----------------------------|-----------------|\n",
    "| `+`       | Addition                    | `a + b`         |\n",
    "| `-`       | Soustraction                 | `a - b`         |\n",
    "| `*`       | Multiplication               | `a * b`         |\n",
    "| `/`       | Division                     | `a / b`         |\n",
    "| `%`       | Modulo (reste de la division) | `a % b`         |\n",
    "| `**`      | Puissance                    | `a ** b`        |\n",
    "| `//`      | Division entière             | `a // b`        |\n"
   ]
  },
  {
   "cell_type": "code",
   "execution_count": null,
   "metadata": {},
   "outputs": [],
   "source": [
    "a = 10\n",
    "b = 3"
   ]
  },
  {
   "cell_type": "code",
   "execution_count": null,
   "metadata": {},
   "outputs": [],
   "source": [
    "a + b"
   ]
  },
  {
   "cell_type": "code",
   "execution_count": null,
   "metadata": {},
   "outputs": [],
   "source": [
    "a - b"
   ]
  },
  {
   "cell_type": "code",
   "execution_count": null,
   "metadata": {},
   "outputs": [],
   "source": [
    "a * b"
   ]
  },
  {
   "cell_type": "code",
   "execution_count": null,
   "metadata": {},
   "outputs": [],
   "source": [
    "a / b"
   ]
  },
  {
   "cell_type": "code",
   "execution_count": null,
   "metadata": {},
   "outputs": [],
   "source": [
    "a % b"
   ]
  },
  {
   "cell_type": "code",
   "execution_count": null,
   "metadata": {},
   "outputs": [],
   "source": [
    "a ** b"
   ]
  },
  {
   "cell_type": "code",
   "execution_count": null,
   "metadata": {},
   "outputs": [],
   "source": [
    "a // b"
   ]
  },
  {
   "cell_type": "markdown",
   "metadata": {},
   "source": [
    "## ***2. Les opérateurs de comparaison***"
   ]
  },
  {
   "cell_type": "markdown",
   "metadata": {},
   "source": [
    "Les opérateurs de comparaison permettent de comparer des valeurs. Le résultat de ces comparaisons est toujours un booléen (`True` ou `False`).\n",
    "\n",
    "| Opérateur | Description              | Exemple      |\n",
    "|-----------|--------------------------|--------------|\n",
    "| `==`      | Égal à                   | `a == b`     |\n",
    "| `!=`      | Différent de             | `a != b`     |\n",
    "| `>`       | Supérieur à              | `a > b`      |\n",
    "| `<`       | Inférieur à              | `a < b`      |\n",
    "| `>=`      | Supérieur ou égal à      | `a >= b`     |\n",
    "| `<=`      | Inférieur ou égal à      | `a <= b`     |\n"
   ]
  },
  {
   "cell_type": "code",
   "execution_count": null,
   "metadata": {},
   "outputs": [],
   "source": [
    "a = 10\n",
    "b = 10"
   ]
  },
  {
   "cell_type": "code",
   "execution_count": null,
   "metadata": {},
   "outputs": [],
   "source": [
    "a == b"
   ]
  },
  {
   "cell_type": "code",
   "execution_count": null,
   "metadata": {},
   "outputs": [],
   "source": [
    "a != b"
   ]
  },
  {
   "cell_type": "code",
   "execution_count": null,
   "metadata": {},
   "outputs": [],
   "source": [
    "a > b"
   ]
  },
  {
   "cell_type": "code",
   "execution_count": null,
   "metadata": {},
   "outputs": [],
   "source": [
    "a < b"
   ]
  },
  {
   "cell_type": "code",
   "execution_count": null,
   "metadata": {},
   "outputs": [],
   "source": [
    "a >= b"
   ]
  },
  {
   "cell_type": "code",
   "execution_count": null,
   "metadata": {},
   "outputs": [],
   "source": [
    "a <= b"
   ]
  },
  {
   "cell_type": "markdown",
   "metadata": {},
   "source": [
    "## ***3. Les opérateurs logiques***"
   ]
  },
  {
   "cell_type": "markdown",
   "metadata": {},
   "source": [
    "Ces opérateurs permettent de combiner plusieurs conditions logiques.\n",
    "\n",
    "| Opérateur | Description | Exemple        |\n",
    "|-----------|-------------|----------------|\n",
    "| `and`     | ET logique  | `a and b`      |\n",
    "| `or`      | OU logique  | `a or b`       |\n",
    "| `not`     | Négation    | `not a`        |\n"
   ]
  },
  {
   "cell_type": "code",
   "execution_count": 2,
   "metadata": {},
   "outputs": [],
   "source": [
    "a = True\n",
    "b = False"
   ]
  },
  {
   "cell_type": "code",
   "execution_count": 3,
   "metadata": {},
   "outputs": [
    {
     "data": {
      "text/plain": [
       "False"
      ]
     },
     "execution_count": 3,
     "metadata": {},
     "output_type": "execute_result"
    }
   ],
   "source": [
    "a and b"
   ]
  },
  {
   "cell_type": "code",
   "execution_count": null,
   "metadata": {},
   "outputs": [],
   "source": [
    "a or b"
   ]
  },
  {
   "cell_type": "code",
   "execution_count": null,
   "metadata": {},
   "outputs": [],
   "source": [
    "not a, not b"
   ]
  },
  {
   "cell_type": "markdown",
   "metadata": {},
   "source": [
    "## ***4. Les opérateurs d'affectation***"
   ]
  },
  {
   "cell_type": "markdown",
   "metadata": {},
   "source": [
    "Les opérateurs d'affectation permettent d'attribuer des valeurs aux variables, souvent en combinaison avec d'autres opérateurs arithmétiques.\n",
    "\n",
    "| Opérateur | Description              | Exemple      |\n",
    "|-----------|--------------------------|--------------|\n",
    "| `=`       | Affectation               | `a = 2`      |\n",
    "| `+=`      | Addition et affectation   | `a += 2`     |\n",
    "| `-=`      | Soustraction et affectation| `a -= 2`     |\n",
    "| `*=`      | Multiplication et affectation | `a *= 2`  |\n",
    "| `/=`      | Division et affectation   | `a /= 2`     |\n",
    "| `%=`      | Modulo et affectation     | `a %= 2`     |\n",
    "| `**=`     | Puissance et affectation  | `a **= 2`    |\n",
    "| `//=`     | Division entière et affectation | `a //= 2` |\n"
   ]
  },
  {
   "cell_type": "code",
   "execution_count": null,
   "metadata": {},
   "outputs": [],
   "source": [
    "a = 12"
   ]
  },
  {
   "cell_type": "code",
   "execution_count": null,
   "metadata": {},
   "outputs": [],
   "source": [
    "a += 3\n",
    "a"
   ]
  },
  {
   "cell_type": "code",
   "execution_count": null,
   "metadata": {},
   "outputs": [],
   "source": [
    "a -= 2\n",
    "a"
   ]
  },
  {
   "cell_type": "code",
   "execution_count": null,
   "metadata": {},
   "outputs": [],
   "source": [
    "a *= 3\n",
    "a"
   ]
  },
  {
   "cell_type": "code",
   "execution_count": null,
   "metadata": {},
   "outputs": [],
   "source": [
    "a /= 2\n",
    "a"
   ]
  },
  {
   "cell_type": "code",
   "execution_count": null,
   "metadata": {},
   "outputs": [],
   "source": [
    "a %= 3\n",
    "a"
   ]
  },
  {
   "cell_type": "code",
   "execution_count": null,
   "metadata": {},
   "outputs": [],
   "source": [
    "a = 4"
   ]
  },
  {
   "cell_type": "code",
   "execution_count": null,
   "metadata": {},
   "outputs": [],
   "source": [
    "a **= 3\n",
    "a"
   ]
  },
  {
   "cell_type": "code",
   "execution_count": null,
   "metadata": {},
   "outputs": [],
   "source": [
    "a //= 5\n",
    "a"
   ]
  },
  {
   "cell_type": "code",
   "execution_count": null,
   "metadata": {},
   "outputs": [],
   "source": [
    "a **= 2\n",
    "a"
   ]
  },
  {
   "cell_type": "code",
   "execution_count": null,
   "metadata": {},
   "outputs": [],
   "source": [
    "a %= 5\n",
    "a"
   ]
  },
  {
   "cell_type": "markdown",
   "metadata": {},
   "source": [
    "## ***5. Les opérateurs d'appartenance***"
   ]
  },
  {
   "cell_type": "markdown",
   "metadata": {},
   "source": [
    "Ces opérateurs permettent de vérifier si une valeur ou un élément appartient à une séquence, comme une liste, un tuple ou une chaîne de caractères.\n",
    "\n",
    "| Opérateur | Description              | Exemple        |\n",
    "|-----------|--------------------------|----------------|\n",
    "| `in`      | Appartient à              | `\"a\" in \"abc\"` |\n",
    "| `not in`  | N'appartient pas à        | `\"d\" not in \"abc\"` |\n"
   ]
  },
  {
   "cell_type": "code",
   "execution_count": null,
   "metadata": {},
   "outputs": [],
   "source": [
    "fruit_list = [\"apple\", \"banana\", \"cherry\"]"
   ]
  },
  {
   "cell_type": "code",
   "execution_count": null,
   "metadata": {},
   "outputs": [],
   "source": [
    "\"apple\" in fruit_list"
   ]
  },
  {
   "cell_type": "code",
   "execution_count": null,
   "metadata": {},
   "outputs": [],
   "source": [
    "\"grape\" not in fruit_list"
   ]
  },
  {
   "cell_type": "markdown",
   "metadata": {},
   "source": [
    "## ***6. Les opérateurs d'identité***"
   ]
  },
  {
   "cell_type": "markdown",
   "metadata": {},
   "source": [
    "Ces opérateurs permettent de vérifier si deux objets pointent vers la même zone mémoire (si deux objets sont identiques).\n",
    "\n",
    "| Opérateur | Description     | Exemple    |\n",
    "|-----------|-----------------|------------|\n",
    "| `is`      | Est identique à  | `a is b`   |\n",
    "| `is not`  | N'est pas identique à | `a is not b` |\n"
   ]
  },
  {
   "cell_type": "code",
   "execution_count": null,
   "metadata": {},
   "outputs": [],
   "source": [
    "a = [1, 2, 3]\n",
    "b = a\n",
    "c = [1, 2, 3]\n",
    "d = b.copy()"
   ]
  },
  {
   "cell_type": "code",
   "execution_count": null,
   "metadata": {},
   "outputs": [],
   "source": [
    "# True, car b pointe vers la même liste que a\n",
    "a is b"
   ]
  },
  {
   "cell_type": "code",
   "execution_count": null,
   "metadata": {},
   "outputs": [],
   "source": [
    "b[1] = 4"
   ]
  },
  {
   "cell_type": "code",
   "execution_count": null,
   "metadata": {},
   "outputs": [],
   "source": [
    "print(b)"
   ]
  },
  {
   "cell_type": "code",
   "execution_count": null,
   "metadata": {},
   "outputs": [],
   "source": [
    "print(a)"
   ]
  },
  {
   "cell_type": "code",
   "execution_count": null,
   "metadata": {},
   "outputs": [],
   "source": [
    "# False, car c'est une nouvelle liste avec les mêmes valeurs mais stockée ailleurs en mémoire\n",
    "a is c"
   ]
  },
  {
   "cell_type": "code",
   "execution_count": null,
   "metadata": {},
   "outputs": [],
   "source": [
    "# True, copy crée une nouvelle liste à partir de b mais stockée ailleurs en mémoire, ils ne pointent donc pas vers la même liste\n",
    "d is not b"
   ]
  },
  {
   "cell_type": "code",
   "execution_count": null,
   "metadata": {},
   "outputs": [],
   "source": [
    "b.append(4)\n",
    "\n",
    "a, b, c, d"
   ]
  },
  {
   "cell_type": "code",
   "execution_count": null,
   "metadata": {},
   "outputs": [],
   "source": [
    "d.append(5)\n",
    "\n",
    "a, b, c, d"
   ]
  },
  {
   "cell_type": "markdown",
   "metadata": {},
   "source": [
    "**Réalisé par [Benjamin QUINET](https://www.linkedin.com/in/benjamin-quinet-freelance-dev-data-ia)**"
   ]
  }
 ],
 "metadata": {
  "kernelspec": {
   "display_name": ".venv",
   "language": "python",
   "name": "python3"
  },
  "language_info": {
   "codemirror_mode": {
    "name": "ipython",
    "version": 3
   },
   "file_extension": ".py",
   "mimetype": "text/x-python",
   "name": "python",
   "nbconvert_exporter": "python",
   "pygments_lexer": "ipython3",
   "version": "3.13.7"
  }
 },
 "nbformat": 4,
 "nbformat_minor": 2
}
